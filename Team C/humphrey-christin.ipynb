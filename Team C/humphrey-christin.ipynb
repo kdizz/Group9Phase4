{
 "cells": [
  {
   "cell_type": "code",
   "execution_count": 2,
   "metadata": {},
   "outputs": [],
   "source": [
    "import pandas as pd\n",
    "import numpy as np\n",
    "import matplotlib.pyplot as plt\n",
    "import seaborn as sns"
   ]
  },
  {
   "cell_type": "markdown",
   "metadata": {},
   "source": [
    "Phase 1 - A"
   ]
  },
  {
   "cell_type": "code",
   "execution_count": 4,
   "metadata": {},
   "outputs": [],
   "source": [
    "df = pd.read_csv('reviews3.csv')"
   ]
  },
  {
   "cell_type": "code",
   "execution_count": 5,
   "metadata": {},
   "outputs": [
    {
     "data": {
      "text/html": [
       "<div>\n",
       "<style scoped>\n",
       "    .dataframe tbody tr th:only-of-type {\n",
       "        vertical-align: middle;\n",
       "    }\n",
       "\n",
       "    .dataframe tbody tr th {\n",
       "        vertical-align: top;\n",
       "    }\n",
       "\n",
       "    .dataframe thead th {\n",
       "        text-align: right;\n",
       "    }\n",
       "</style>\n",
       "<table border=\"1\" class=\"dataframe\">\n",
       "  <thead>\n",
       "    <tr style=\"text-align: right;\">\n",
       "      <th></th>\n",
       "      <th>Id</th>\n",
       "      <th>ProductId</th>\n",
       "      <th>UserId</th>\n",
       "      <th>ProfileName</th>\n",
       "      <th>HelpfulnessNumerator</th>\n",
       "      <th>HelpfulnessDenominator</th>\n",
       "      <th>Score</th>\n",
       "      <th>Time</th>\n",
       "      <th>Summary</th>\n",
       "      <th>Text</th>\n",
       "    </tr>\n",
       "  </thead>\n",
       "  <tbody>\n",
       "    <tr>\n",
       "      <th>0</th>\n",
       "      <td>26249</td>\n",
       "      <td>B0007A0PX0</td>\n",
       "      <td>A239D6FZHF13QE</td>\n",
       "      <td>ABC MOM</td>\n",
       "      <td>1</td>\n",
       "      <td>1</td>\n",
       "      <td>5</td>\n",
       "      <td>1276560000</td>\n",
       "      <td>Very convenient!</td>\n",
       "      <td>This is not an instant tea mix.  This actually...</td>\n",
       "    </tr>\n",
       "    <tr>\n",
       "      <th>1</th>\n",
       "      <td>38295</td>\n",
       "      <td>B007R1PGVS</td>\n",
       "      <td>A1K6BWET4KNSL</td>\n",
       "      <td>S. Mayo</td>\n",
       "      <td>4</td>\n",
       "      <td>5</td>\n",
       "      <td>3</td>\n",
       "      <td>1250208000</td>\n",
       "      <td>Zipfizz</td>\n",
       "      <td>A friend's doctor recommended this to her for ...</td>\n",
       "    </tr>\n",
       "    <tr>\n",
       "      <th>2</th>\n",
       "      <td>28573</td>\n",
       "      <td>B0089SPEO2</td>\n",
       "      <td>A2VQO4Y1SH3TTQ</td>\n",
       "      <td>Elesix</td>\n",
       "      <td>0</td>\n",
       "      <td>0</td>\n",
       "      <td>5</td>\n",
       "      <td>1328140800</td>\n",
       "      <td>Tasty</td>\n",
       "      <td>It's tasty although they say \"a medley of oran...</td>\n",
       "    </tr>\n",
       "    <tr>\n",
       "      <th>3</th>\n",
       "      <td>10132</td>\n",
       "      <td>B003EML8PM</td>\n",
       "      <td>A2ZX2OEW7WL6G4</td>\n",
       "      <td>Brian K Thornton</td>\n",
       "      <td>0</td>\n",
       "      <td>0</td>\n",
       "      <td>4</td>\n",
       "      <td>1320364800</td>\n",
       "      <td>Pork Rinds</td>\n",
       "      <td>I'm diabetic and manage my weight and blood su...</td>\n",
       "    </tr>\n",
       "    <tr>\n",
       "      <th>4</th>\n",
       "      <td>49426</td>\n",
       "      <td>B000IHNCQO</td>\n",
       "      <td>A14WSF4X001KBM</td>\n",
       "      <td>tonid</td>\n",
       "      <td>0</td>\n",
       "      <td>0</td>\n",
       "      <td>1</td>\n",
       "      <td>1336348800</td>\n",
       "      <td>Gross</td>\n",
       "      <td>These were gross. It was like chomping down on...</td>\n",
       "    </tr>\n",
       "  </tbody>\n",
       "</table>\n",
       "</div>"
      ],
      "text/plain": [
       "      Id   ProductId          UserId       ProfileName  HelpfulnessNumerator  \\\n",
       "0  26249  B0007A0PX0  A239D6FZHF13QE           ABC MOM                     1   \n",
       "1  38295  B007R1PGVS   A1K6BWET4KNSL           S. Mayo                     4   \n",
       "2  28573  B0089SPEO2  A2VQO4Y1SH3TTQ            Elesix                     0   \n",
       "3  10132  B003EML8PM  A2ZX2OEW7WL6G4  Brian K Thornton                     0   \n",
       "4  49426  B000IHNCQO  A14WSF4X001KBM             tonid                     0   \n",
       "\n",
       "   HelpfulnessDenominator  Score        Time           Summary  \\\n",
       "0                       1      5  1276560000  Very convenient!   \n",
       "1                       5      3  1250208000           Zipfizz   \n",
       "2                       0      5  1328140800             Tasty   \n",
       "3                       0      4  1320364800        Pork Rinds   \n",
       "4                       0      1  1336348800             Gross   \n",
       "\n",
       "                                                Text  \n",
       "0  This is not an instant tea mix.  This actually...  \n",
       "1  A friend's doctor recommended this to her for ...  \n",
       "2  It's tasty although they say \"a medley of oran...  \n",
       "3  I'm diabetic and manage my weight and blood su...  \n",
       "4  These were gross. It was like chomping down on...  "
      ]
     },
     "execution_count": 5,
     "metadata": {},
     "output_type": "execute_result"
    }
   ],
   "source": [
    "df.head()"
   ]
  },
  {
   "cell_type": "code",
   "execution_count": 6,
   "metadata": {},
   "outputs": [
    {
     "name": "stdout",
     "output_type": "stream",
     "text": [
      "<class 'pandas.core.frame.DataFrame'>\n",
      "RangeIndex: 10556 entries, 0 to 10555\n",
      "Data columns (total 10 columns):\n",
      " #   Column                  Non-Null Count  Dtype \n",
      "---  ------                  --------------  ----- \n",
      " 0   Id                      10556 non-null  int64 \n",
      " 1   ProductId               10556 non-null  object\n",
      " 2   UserId                  10556 non-null  object\n",
      " 3   ProfileName             10556 non-null  object\n",
      " 4   HelpfulnessNumerator    10556 non-null  int64 \n",
      " 5   HelpfulnessDenominator  10556 non-null  int64 \n",
      " 6   Score                   10556 non-null  int64 \n",
      " 7   Time                    10556 non-null  int64 \n",
      " 8   Summary                 10555 non-null  object\n",
      " 9   Text                    10556 non-null  object\n",
      "dtypes: int64(5), object(5)\n",
      "memory usage: 824.8+ KB\n"
     ]
    }
   ],
   "source": [
    "df.info()"
   ]
  },
  {
   "cell_type": "code",
   "execution_count": 7,
   "metadata": {},
   "outputs": [
    {
     "data": {
      "text/html": [
       "<div>\n",
       "<style scoped>\n",
       "    .dataframe tbody tr th:only-of-type {\n",
       "        vertical-align: middle;\n",
       "    }\n",
       "\n",
       "    .dataframe tbody tr th {\n",
       "        vertical-align: top;\n",
       "    }\n",
       "\n",
       "    .dataframe thead th {\n",
       "        text-align: right;\n",
       "    }\n",
       "</style>\n",
       "<table border=\"1\" class=\"dataframe\">\n",
       "  <thead>\n",
       "    <tr style=\"text-align: right;\">\n",
       "      <th></th>\n",
       "      <th>Id</th>\n",
       "      <th>HelpfulnessNumerator</th>\n",
       "      <th>HelpfulnessDenominator</th>\n",
       "      <th>Score</th>\n",
       "      <th>Time</th>\n",
       "    </tr>\n",
       "  </thead>\n",
       "  <tbody>\n",
       "    <tr>\n",
       "      <th>count</th>\n",
       "      <td>10556.000000</td>\n",
       "      <td>10556.000000</td>\n",
       "      <td>10556.000000</td>\n",
       "      <td>10556.000000</td>\n",
       "      <td>1.055600e+04</td>\n",
       "    </tr>\n",
       "    <tr>\n",
       "      <th>mean</th>\n",
       "      <td>24916.887457</td>\n",
       "      <td>1.637647</td>\n",
       "      <td>2.114343</td>\n",
       "      <td>4.149204</td>\n",
       "      <td>1.294959e+09</td>\n",
       "    </tr>\n",
       "    <tr>\n",
       "      <th>std</th>\n",
       "      <td>14387.070744</td>\n",
       "      <td>5.524306</td>\n",
       "      <td>6.290436</td>\n",
       "      <td>1.329831</td>\n",
       "      <td>4.695672e+07</td>\n",
       "    </tr>\n",
       "    <tr>\n",
       "      <th>min</th>\n",
       "      <td>6.000000</td>\n",
       "      <td>0.000000</td>\n",
       "      <td>0.000000</td>\n",
       "      <td>1.000000</td>\n",
       "      <td>1.067645e+09</td>\n",
       "    </tr>\n",
       "    <tr>\n",
       "      <th>25%</th>\n",
       "      <td>12532.750000</td>\n",
       "      <td>0.000000</td>\n",
       "      <td>0.000000</td>\n",
       "      <td>4.000000</td>\n",
       "      <td>1.269130e+09</td>\n",
       "    </tr>\n",
       "    <tr>\n",
       "      <th>50%</th>\n",
       "      <td>24737.000000</td>\n",
       "      <td>0.000000</td>\n",
       "      <td>1.000000</td>\n",
       "      <td>5.000000</td>\n",
       "      <td>1.308269e+09</td>\n",
       "    </tr>\n",
       "    <tr>\n",
       "      <th>75%</th>\n",
       "      <td>37379.750000</td>\n",
       "      <td>2.000000</td>\n",
       "      <td>2.000000</td>\n",
       "      <td>5.000000</td>\n",
       "      <td>1.330387e+09</td>\n",
       "    </tr>\n",
       "    <tr>\n",
       "      <th>max</th>\n",
       "      <td>49997.000000</td>\n",
       "      <td>187.000000</td>\n",
       "      <td>216.000000</td>\n",
       "      <td>5.000000</td>\n",
       "      <td>1.351210e+09</td>\n",
       "    </tr>\n",
       "  </tbody>\n",
       "</table>\n",
       "</div>"
      ],
      "text/plain": [
       "                 Id  HelpfulnessNumerator  HelpfulnessDenominator  \\\n",
       "count  10556.000000          10556.000000            10556.000000   \n",
       "mean   24916.887457              1.637647                2.114343   \n",
       "std    14387.070744              5.524306                6.290436   \n",
       "min        6.000000              0.000000                0.000000   \n",
       "25%    12532.750000              0.000000                0.000000   \n",
       "50%    24737.000000              0.000000                1.000000   \n",
       "75%    37379.750000              2.000000                2.000000   \n",
       "max    49997.000000            187.000000              216.000000   \n",
       "\n",
       "              Score          Time  \n",
       "count  10556.000000  1.055600e+04  \n",
       "mean       4.149204  1.294959e+09  \n",
       "std        1.329831  4.695672e+07  \n",
       "min        1.000000  1.067645e+09  \n",
       "25%        4.000000  1.269130e+09  \n",
       "50%        5.000000  1.308269e+09  \n",
       "75%        5.000000  1.330387e+09  \n",
       "max        5.000000  1.351210e+09  "
      ]
     },
     "execution_count": 7,
     "metadata": {},
     "output_type": "execute_result"
    }
   ],
   "source": [
    "df.describe()"
   ]
  },
  {
   "cell_type": "code",
   "execution_count": 8,
   "metadata": {},
   "outputs": [
    {
     "data": {
      "text/plain": [
       "Id                        0\n",
       "ProductId                 0\n",
       "UserId                    0\n",
       "ProfileName               0\n",
       "HelpfulnessNumerator      0\n",
       "HelpfulnessDenominator    0\n",
       "Score                     0\n",
       "Time                      0\n",
       "Summary                   1\n",
       "Text                      0\n",
       "dtype: int64"
      ]
     },
     "execution_count": 8,
     "metadata": {},
     "output_type": "execute_result"
    }
   ],
   "source": [
    "df.isna().sum()"
   ]
  },
  {
   "cell_type": "code",
   "execution_count": 9,
   "metadata": {},
   "outputs": [
    {
     "data": {
      "text/plain": [
       "0"
      ]
     },
     "execution_count": 9,
     "metadata": {},
     "output_type": "execute_result"
    }
   ],
   "source": [
    "df.duplicated().sum()"
   ]
  },
  {
   "cell_type": "markdown",
   "metadata": {},
   "source": [
    "Phase 1 - B"
   ]
  },
  {
   "cell_type": "markdown",
   "metadata": {},
   "source": [
    "Distro of ratings"
   ]
  },
  {
   "cell_type": "code",
   "execution_count": 12,
   "metadata": {},
   "outputs": [
    {
     "data": {
      "text/plain": [
       "<Axes: xlabel='Score', ylabel='count'>"
      ]
     },
     "execution_count": 12,
     "metadata": {},
     "output_type": "execute_result"
    },
    {
     "data": {
      "image/png": "[encoded data removed]",
      "text/plain": [
       "<Figure size 640x480 with 1 Axes>"
      ]
     },
     "metadata": {},
     "output_type": "display_data"
    }
   ],
   "source": [
    "sns.barplot(df['Score'].value_counts())"
   ]
  },
  {
   "cell_type": "code",
   "execution_count": 13,
   "metadata": {},
   "outputs": [
    {
     "data": {
      "text/html": [
       "<div>\n",
       "<style scoped>\n",
       "    .dataframe tbody tr th:only-of-type {\n",
       "        vertical-align: middle;\n",
       "    }\n",
       "\n",
       "    .dataframe tbody tr th {\n",
       "        vertical-align: top;\n",
       "    }\n",
       "\n",
       "    .dataframe thead th {\n",
       "        text-align: right;\n",
       "    }\n",
       "</style>\n",
       "<table border=\"1\" class=\"dataframe\">\n",
       "  <thead>\n",
       "    <tr style=\"text-align: right;\">\n",
       "      <th></th>\n",
       "      <th>Id</th>\n",
       "      <th>ProductId</th>\n",
       "      <th>UserId</th>\n",
       "      <th>ProfileName</th>\n",
       "      <th>HelpfulnessNumerator</th>\n",
       "      <th>HelpfulnessDenominator</th>\n",
       "      <th>Score</th>\n",
       "      <th>Time</th>\n",
       "      <th>Summary</th>\n",
       "      <th>Text</th>\n",
       "    </tr>\n",
       "  </thead>\n",
       "  <tbody>\n",
       "    <tr>\n",
       "      <th>0</th>\n",
       "      <td>26249</td>\n",
       "      <td>B0007A0PX0</td>\n",
       "      <td>A239D6FZHF13QE</td>\n",
       "      <td>ABC MOM</td>\n",
       "      <td>1</td>\n",
       "      <td>1</td>\n",
       "      <td>5</td>\n",
       "      <td>1276560000</td>\n",
       "      <td>Very convenient!</td>\n",
       "      <td>This is not an instant tea mix.  This actually...</td>\n",
       "    </tr>\n",
       "    <tr>\n",
       "      <th>1</th>\n",
       "      <td>38295</td>\n",
       "      <td>B007R1PGVS</td>\n",
       "      <td>A1K6BWET4KNSL</td>\n",
       "      <td>S. Mayo</td>\n",
       "      <td>4</td>\n",
       "      <td>5</td>\n",
       "      <td>3</td>\n",
       "      <td>1250208000</td>\n",
       "      <td>Zipfizz</td>\n",
       "      <td>A friend's doctor recommended this to her for ...</td>\n",
       "    </tr>\n",
       "    <tr>\n",
       "      <th>2</th>\n",
       "      <td>28573</td>\n",
       "      <td>B0089SPEO2</td>\n",
       "      <td>A2VQO4Y1SH3TTQ</td>\n",
       "      <td>Elesix</td>\n",
       "      <td>0</td>\n",
       "      <td>0</td>\n",
       "      <td>5</td>\n",
       "      <td>1328140800</td>\n",
       "      <td>Tasty</td>\n",
       "      <td>It's tasty although they say \"a medley of oran...</td>\n",
       "    </tr>\n",
       "    <tr>\n",
       "      <th>3</th>\n",
       "      <td>10132</td>\n",
       "      <td>B003EML8PM</td>\n",
       "      <td>A2ZX2OEW7WL6G4</td>\n",
       "      <td>Brian K Thornton</td>\n",
       "      <td>0</td>\n",
       "      <td>0</td>\n",
       "      <td>4</td>\n",
       "      <td>1320364800</td>\n",
       "      <td>Pork Rinds</td>\n",
       "      <td>I'm diabetic and manage my weight and blood su...</td>\n",
       "    </tr>\n",
       "    <tr>\n",
       "      <th>4</th>\n",
       "      <td>49426</td>\n",
       "      <td>B000IHNCQO</td>\n",
       "      <td>A14WSF4X001KBM</td>\n",
       "      <td>tonid</td>\n",
       "      <td>0</td>\n",
       "      <td>0</td>\n",
       "      <td>1</td>\n",
       "      <td>1336348800</td>\n",
       "      <td>Gross</td>\n",
       "      <td>These were gross. It was like chomping down on...</td>\n",
       "    </tr>\n",
       "  </tbody>\n",
       "</table>\n",
       "</div>"
      ],
      "text/plain": [
       "      Id   ProductId          UserId       ProfileName  HelpfulnessNumerator  \\\n",
       "0  26249  B0007A0PX0  A239D6FZHF13QE           ABC MOM                     1   \n",
       "1  38295  B007R1PGVS   A1K6BWET4KNSL           S. Mayo                     4   \n",
       "2  28573  B0089SPEO2  A2VQO4Y1SH3TTQ            Elesix                     0   \n",
       "3  10132  B003EML8PM  A2ZX2OEW7WL6G4  Brian K Thornton                     0   \n",
       "4  49426  B000IHNCQO  A14WSF4X001KBM             tonid                     0   \n",
       "\n",
       "   HelpfulnessDenominator  Score        Time           Summary  \\\n",
       "0                       1      5  1276560000  Very convenient!   \n",
       "1                       5      3  1250208000           Zipfizz   \n",
       "2                       0      5  1328140800             Tasty   \n",
       "3                       0      4  1320364800        Pork Rinds   \n",
       "4                       0      1  1336348800             Gross   \n",
       "\n",
       "                                                Text  \n",
       "0  This is not an instant tea mix.  This actually...  \n",
       "1  A friend's doctor recommended this to her for ...  \n",
       "2  It's tasty although they say \"a medley of oran...  \n",
       "3  I'm diabetic and manage my weight and blood su...  \n",
       "4  These were gross. It was like chomping down on...  "
      ]
     },
     "execution_count": 13,
     "metadata": {},
     "output_type": "execute_result"
    }
   ],
   "source": [
    "df.head()"
   ]
  },
  {
   "cell_type": "code",
   "execution_count": 14,
   "metadata": {},
   "outputs": [
    {
     "data": {
      "text/html": [
       "<div>\n",
       "<style scoped>\n",
       "    .dataframe tbody tr th:only-of-type {\n",
       "        vertical-align: middle;\n",
       "    }\n",
       "\n",
       "    .dataframe tbody tr th {\n",
       "        vertical-align: top;\n",
       "    }\n",
       "\n",
       "    .dataframe thead th {\n",
       "        text-align: right;\n",
       "    }\n",
       "</style>\n",
       "<table border=\"1\" class=\"dataframe\">\n",
       "  <thead>\n",
       "    <tr style=\"text-align: right;\">\n",
       "      <th></th>\n",
       "      <th>Id</th>\n",
       "      <th>ProductId</th>\n",
       "      <th>UserId</th>\n",
       "      <th>ProfileName</th>\n",
       "      <th>HelpfulnessNumerator</th>\n",
       "      <th>HelpfulnessDenominator</th>\n",
       "      <th>Score</th>\n",
       "      <th>Time</th>\n",
       "      <th>Summary</th>\n",
       "      <th>Text</th>\n",
       "      <th>Sentiment</th>\n",
       "    </tr>\n",
       "  </thead>\n",
       "  <tbody>\n",
       "    <tr>\n",
       "      <th>0</th>\n",
       "      <td>26249</td>\n",
       "      <td>B0007A0PX0</td>\n",
       "      <td>A239D6FZHF13QE</td>\n",
       "      <td>ABC MOM</td>\n",
       "      <td>1</td>\n",
       "      <td>1</td>\n",
       "      <td>5</td>\n",
       "      <td>1276560000</td>\n",
       "      <td>Very convenient!</td>\n",
       "      <td>This is not an instant tea mix.  This actually...</td>\n",
       "      <td>Positive</td>\n",
       "    </tr>\n",
       "    <tr>\n",
       "      <th>1</th>\n",
       "      <td>38295</td>\n",
       "      <td>B007R1PGVS</td>\n",
       "      <td>A1K6BWET4KNSL</td>\n",
       "      <td>S. Mayo</td>\n",
       "      <td>4</td>\n",
       "      <td>5</td>\n",
       "      <td>3</td>\n",
       "      <td>1250208000</td>\n",
       "      <td>Zipfizz</td>\n",
       "      <td>A friend's doctor recommended this to her for ...</td>\n",
       "      <td>Neutral</td>\n",
       "    </tr>\n",
       "    <tr>\n",
       "      <th>2</th>\n",
       "      <td>28573</td>\n",
       "      <td>B0089SPEO2</td>\n",
       "      <td>A2VQO4Y1SH3TTQ</td>\n",
       "      <td>Elesix</td>\n",
       "      <td>0</td>\n",
       "      <td>0</td>\n",
       "      <td>5</td>\n",
       "      <td>1328140800</td>\n",
       "      <td>Tasty</td>\n",
       "      <td>It's tasty although they say \"a medley of oran...</td>\n",
       "      <td>Positive</td>\n",
       "    </tr>\n",
       "    <tr>\n",
       "      <th>3</th>\n",
       "      <td>10132</td>\n",
       "      <td>B003EML8PM</td>\n",
       "      <td>A2ZX2OEW7WL6G4</td>\n",
       "      <td>Brian K Thornton</td>\n",
       "      <td>0</td>\n",
       "      <td>0</td>\n",
       "      <td>4</td>\n",
       "      <td>1320364800</td>\n",
       "      <td>Pork Rinds</td>\n",
       "      <td>I'm diabetic and manage my weight and blood su...</td>\n",
       "      <td>Positive</td>\n",
       "    </tr>\n",
       "    <tr>\n",
       "      <th>4</th>\n",
       "      <td>49426</td>\n",
       "      <td>B000IHNCQO</td>\n",
       "      <td>A14WSF4X001KBM</td>\n",
       "      <td>tonid</td>\n",
       "      <td>0</td>\n",
       "      <td>0</td>\n",
       "      <td>1</td>\n",
       "      <td>1336348800</td>\n",
       "      <td>Gross</td>\n",
       "      <td>These were gross. It was like chomping down on...</td>\n",
       "      <td>Negative</td>\n",
       "    </tr>\n",
       "  </tbody>\n",
       "</table>\n",
       "</div>"
      ],
      "text/plain": [
       "      Id   ProductId          UserId       ProfileName  HelpfulnessNumerator  \\\n",
       "0  26249  B0007A0PX0  A239D6FZHF13QE           ABC MOM                     1   \n",
       "1  38295  B007R1PGVS   A1K6BWET4KNSL           S. Mayo                     4   \n",
       "2  28573  B0089SPEO2  A2VQO4Y1SH3TTQ            Elesix                     0   \n",
       "3  10132  B003EML8PM  A2ZX2OEW7WL6G4  Brian K Thornton                     0   \n",
       "4  49426  B000IHNCQO  A14WSF4X001KBM             tonid                     0   \n",
       "\n",
       "   HelpfulnessDenominator  Score        Time           Summary  \\\n",
       "0                       1      5  1276560000  Very convenient!   \n",
       "1                       5      3  1250208000           Zipfizz   \n",
       "2                       0      5  1328140800             Tasty   \n",
       "3                       0      4  1320364800        Pork Rinds   \n",
       "4                       0      1  1336348800             Gross   \n",
       "\n",
       "                                                Text Sentiment  \n",
       "0  This is not an instant tea mix.  This actually...  Positive  \n",
       "1  A friend's doctor recommended this to her for ...   Neutral  \n",
       "2  It's tasty although they say \"a medley of oran...  Positive  \n",
       "3  I'm diabetic and manage my weight and blood su...  Positive  \n",
       "4  These were gross. It was like chomping down on...  Negative  "
      ]
     },
     "execution_count": 14,
     "metadata": {},
     "output_type": "execute_result"
    }
   ],
   "source": [
    "df['Sentiment'] = df['Score'].map({1: 'Negative', 2: 'Negative', 3: 'Neutral', 4: 'Positive', 5: 'Positive'})\n",
    "df.head()"
   ]
  },
  {
   "cell_type": "markdown",
   "metadata": {},
   "source": [
    "Phase 2 - 1."
   ]
  },
  {
   "cell_type": "markdown",
   "metadata": {},
   "source": [
    "Next we need to clean and prepare the data "
   ]
  },
  {
   "cell_type": "code",
   "execution_count": 17,
   "metadata": {},
   "outputs": [
    {
     "name": "stderr",
     "output_type": "stream",
     "text": [
      "[nltk_data] Downloading package punkt to /Users/matagaro/nltk_data...\n",
      "[nltk_data]   Package punkt is already up-to-date!\n",
      "[nltk_data] Downloading package stopwords to\n",
      "[nltk_data]     /Users/matagaro/nltk_data...\n",
      "[nltk_data]   Package stopwords is already up-to-date!\n",
      "[nltk_data] Downloading package wordnet to\n",
      "[nltk_data]     /Users/matagaro/nltk_data...\n",
      "[nltk_data] Downloading package omw-1.4 to\n",
      "[nltk_data]     /Users/matagaro/nltk_data...\n"
     ]
    }
   ],
   "source": [
    "\n",
    "import nltk\n",
    "import re\n",
    "from nltk.tokenize import word_tokenize\n",
    "from nltk.corpus import stopwords\n",
    "from nltk.stem import WordNetLemmatizer\n",
    "nltk.download('punkt')\n",
    "nltk.download('stopwords')\n",
    "nltk.download('wordnet')\n",
    "nltk.download('omw-1.4')\n",
    "\n",
    "#initializing the stopwords and Lemmantization\n",
    "stop_words = set(stopwords.words('english'))\n",
    "lemmatizer = WordNetLemmatizer()\n",
    "\n",
    "\n",
    "\n"
   ]
  },
  {
   "cell_type": "markdown",
   "metadata": {},
   "source": []
  },
  {
   "cell_type": "code",
   "execution_count": 24,
   "metadata": {},
   "outputs": [],
   "source": [
    "# def clean_and_tokenize(text):\n",
    "    \n",
    "#     text = str(text)\n",
    "#     #removing htmls if present.\n",
    "#     text = re.sub(r\"<.*?>\", \" \", text) \n",
    "#     #Removing url links.\n",
    "#     text = re.sub(r\"http\\S+|www.\\S+\", \" \", text)\n",
    "#     #removing non-alpha numeric characters.\n",
    "#     text = re.sub(r\"[^a-zA-Z\\s]\", \" \", text) \n",
    "#     #changing text to lowercase and fixing spaces.\n",
    "#     text = re.sub(r\"\\s+\", \" \", text).strip().lower()\n",
    "    \n",
    "#     #tokenizing and the lemmatizing after\n",
    "#     tokens = word_tokenize(text)                        \n",
    "#     tokens = [t for t in tokens if t not in stop_words] \n",
    "#     tokens = [lemmatizer.lemmatize(t) for t in tokens] \n",
    "    \n",
    "#     return tokens\n",
    "\n",
    "# df['Tokens'] = df['Text'].apply(clean_and_tokenize)\n",
    "\n",
    "# print(df[['Text', 'Tokens']].head())"
   ]
  },
  {
   "cell_type": "code",
   "execution_count": 30,
   "metadata": {},
   "outputs": [
    {
     "name": "stdout",
     "output_type": "stream",
     "text": [
      "\n",
      "TF-IDF matrix shape: (10556, 5000)\n",
      "\n",
      "TF-IDF feature preview:\n",
      "    00  000   0g   10  100  10th   11  110   12  120  ...  zero  zesty  zico  \\\n",
      "0  0.0  0.0  0.0  0.0  0.0   0.0  0.0  0.0  0.0  0.0  ...   0.0    0.0   0.0   \n",
      "1  0.0  0.0  0.0  0.0  0.0   0.0  0.0  0.0  0.0  0.0  ...   0.0    0.0   0.0   \n",
      "2  0.0  0.0  0.0  0.0  0.0   0.0  0.0  0.0  0.0  0.0  ...   0.0    0.0   0.0   \n",
      "3  0.0  0.0  0.0  0.0  0.0   0.0  0.0  0.0  0.0  0.0  ...   0.0    0.0   0.0   \n",
      "4  0.0  0.0  0.0  0.0  0.0   0.0  0.0  0.0  0.0  0.0  ...   0.0    0.0   0.0   \n",
      "\n",
      "   zing  zip  zipfizz  ziploc  ziplock  zucchini  zuke  \n",
      "0   0.0  0.0      0.0     0.0      0.0       0.0   0.0  \n",
      "1   0.0  0.0      0.0     0.0      0.0       0.0   0.0  \n",
      "2   0.0  0.0      0.0     0.0      0.0       0.0   0.0  \n",
      "3   0.0  0.0      0.0     0.0      0.0       0.0   0.0  \n",
      "4   0.0  0.0      0.0     0.0      0.0       0.0   0.0  \n",
      "\n",
      "[5 rows x 5000 columns]\n"
     ]
    }
   ],
   "source": [
    "from sklearn.feature_extraction.text import TfidfVectorizer\n",
    "# Initialize TF-IDF Vectorizer\n",
    "vectorizer = TfidfVectorizer(max_features=5000, stop_words='english')  # adjust max_features as needed\n",
    "\n",
    "# Fit and transform the text data\n",
    "tfidf_matrix = vectorizer.fit_transform(df['Text'].astype(str))\n",
    "\n",
    "# Convert to DataFrame (optional)\n",
    "tfidf_df = pd.DataFrame(tfidf_matrix.toarray(), columns=vectorizer.get_feature_names_out())\n",
    "\n",
    "# Output the shape and preview\n",
    "print(f\"\\nTF-IDF matrix shape: {tfidf_df.shape}\")\n",
    "print(\"\\nTF-IDF feature preview:\")\n",
    "print(tfidf_df.head())\n"
   ]
  }
 ],
 "metadata": {
  "kernelspec": {
   "display_name": "Python (learn-env)",
   "language": "python",
   "name": "learn-env"
  },
  "language_info": {
   "codemirror_mode": {
    "name": "ipython",
    "version": 3
   },
   "file_extension": ".py",
   "mimetype": "text/x-python",
   "name": "python",
   "nbconvert_exporter": "python",
   "pygments_lexer": "ipython3",
   "version": "3.12.7"
  }
 },
 "nbformat": 4,
 "nbformat_minor": 4
}
