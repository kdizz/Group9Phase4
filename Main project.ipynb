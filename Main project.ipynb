{
 "cells": [
  {
   "cell_type": "code",
   "execution_count": 9,
   "metadata": {},
   "outputs": [],
   "source": [
    "import pandas as pd\n",
    "import numpy as np\n",
    "import matplotlib.pyplot as plt\n",
    "import seaborn as sns"
   ]
  },
  {
   "cell_type": "markdown",
   "metadata": {},
   "source": [
    "Phase 1 - A"
   ]
  },
  {
   "cell_type": "code",
   "execution_count": 10,
   "metadata": {},
   "outputs": [],
   "source": [
    "df = pd.read_csv('reviewdataset1.csv')"
   ]
  },
  {
   "cell_type": "code",
   "execution_count": 11,
   "metadata": {},
   "outputs": [
    {
     "data": {
      "application/vnd.microsoft.datawrangler.viewer.v0+json": {
       "columns": [
        {
         "name": "index",
         "rawType": "int64",
         "type": "integer"
        },
        {
         "name": "Id",
         "rawType": "int64",
         "type": "integer"
        },
        {
         "name": "ProductId",
         "rawType": "object",
         "type": "string"
        },
        {
         "name": "UserId",
         "rawType": "object",
         "type": "string"
        },
        {
         "name": "ProfileName",
         "rawType": "object",
         "type": "string"
        },
        {
         "name": "HelpfulnessNumerator",
         "rawType": "int64",
         "type": "integer"
        },
        {
         "name": "HelpfulnessDenominator",
         "rawType": "int64",
         "type": "integer"
        },
        {
         "name": "Score",
         "rawType": "int64",
         "type": "integer"
        },
        {
         "name": "Time",
         "rawType": "int64",
         "type": "integer"
        },
        {
         "name": "Summary",
         "rawType": "object",
         "type": "string"
        }
       ],
       "conversionMethod": "pd.DataFrame",
       "ref": "e7e4b5b5-e52f-4558-a20d-97abb0560c99",
       "rows": [
        [
         "0",
         "3190",
         "B000FDKUSO",
         "A3PENBFALXOATY",
         "lychee07",
         "0",
         "0",
         "5",
         "1343347200",
         "LOVED IT, SHARED IT, EVERYONE LOVED IT"
        ],
        [
         "1",
         "3191",
         "B000FDKUSO",
         "A2U8853VUAU0I",
         "Ohmygosh",
         "0",
         "0",
         "5",
         "1339545600",
         "best snack"
        ],
        [
         "2",
         "3192",
         "B000FDKUSO",
         "A17KUCXAV34USP",
         "Gobi55",
         "0",
         "1",
         "5",
         "1334016000",
         "Delicious, low calorie and healthy snack. Good price too!"
        ],
        [
         "3",
         "3193",
         "B000LKXQ32",
         "A2L1SNVFML2CUQ",
         "jazzyunderpants",
         "2",
         "2",
         "5",
         "1325808000",
         "The best organic green tea available in teabags."
        ],
        [
         "4",
         "3194",
         "B000LKXQ32",
         "A16Z0ZFQNWNPD4",
         "Mary",
         "2",
         "2",
         "5",
         "1323216000",
         "Refined Tea Taste"
        ]
       ],
       "shape": {
        "columns": 9,
        "rows": 5
       }
      },
      "text/html": [
       "<div>\n",
       "<style scoped>\n",
       "    .dataframe tbody tr th:only-of-type {\n",
       "        vertical-align: middle;\n",
       "    }\n",
       "\n",
       "    .dataframe tbody tr th {\n",
       "        vertical-align: top;\n",
       "    }\n",
       "\n",
       "    .dataframe thead th {\n",
       "        text-align: right;\n",
       "    }\n",
       "</style>\n",
       "<table border=\"1\" class=\"dataframe\">\n",
       "  <thead>\n",
       "    <tr style=\"text-align: right;\">\n",
       "      <th></th>\n",
       "      <th>Id</th>\n",
       "      <th>ProductId</th>\n",
       "      <th>UserId</th>\n",
       "      <th>ProfileName</th>\n",
       "      <th>HelpfulnessNumerator</th>\n",
       "      <th>HelpfulnessDenominator</th>\n",
       "      <th>Score</th>\n",
       "      <th>Time</th>\n",
       "      <th>Summary</th>\n",
       "    </tr>\n",
       "  </thead>\n",
       "  <tbody>\n",
       "    <tr>\n",
       "      <th>0</th>\n",
       "      <td>3190</td>\n",
       "      <td>B000FDKUSO</td>\n",
       "      <td>A3PENBFALXOATY</td>\n",
       "      <td>lychee07</td>\n",
       "      <td>0</td>\n",
       "      <td>0</td>\n",
       "      <td>5</td>\n",
       "      <td>1343347200</td>\n",
       "      <td>LOVED IT, SHARED IT, EVERYONE LOVED IT</td>\n",
       "    </tr>\n",
       "    <tr>\n",
       "      <th>1</th>\n",
       "      <td>3191</td>\n",
       "      <td>B000FDKUSO</td>\n",
       "      <td>A2U8853VUAU0I</td>\n",
       "      <td>Ohmygosh</td>\n",
       "      <td>0</td>\n",
       "      <td>0</td>\n",
       "      <td>5</td>\n",
       "      <td>1339545600</td>\n",
       "      <td>best snack</td>\n",
       "    </tr>\n",
       "    <tr>\n",
       "      <th>2</th>\n",
       "      <td>3192</td>\n",
       "      <td>B000FDKUSO</td>\n",
       "      <td>A17KUCXAV34USP</td>\n",
       "      <td>Gobi55</td>\n",
       "      <td>0</td>\n",
       "      <td>1</td>\n",
       "      <td>5</td>\n",
       "      <td>1334016000</td>\n",
       "      <td>Delicious, low calorie and healthy snack. Good...</td>\n",
       "    </tr>\n",
       "    <tr>\n",
       "      <th>3</th>\n",
       "      <td>3193</td>\n",
       "      <td>B000LKXQ32</td>\n",
       "      <td>A2L1SNVFML2CUQ</td>\n",
       "      <td>jazzyunderpants</td>\n",
       "      <td>2</td>\n",
       "      <td>2</td>\n",
       "      <td>5</td>\n",
       "      <td>1325808000</td>\n",
       "      <td>The best organic green tea available in teabags.</td>\n",
       "    </tr>\n",
       "    <tr>\n",
       "      <th>4</th>\n",
       "      <td>3194</td>\n",
       "      <td>B000LKXQ32</td>\n",
       "      <td>A16Z0ZFQNWNPD4</td>\n",
       "      <td>Mary</td>\n",
       "      <td>2</td>\n",
       "      <td>2</td>\n",
       "      <td>5</td>\n",
       "      <td>1323216000</td>\n",
       "      <td>Refined Tea Taste</td>\n",
       "    </tr>\n",
       "  </tbody>\n",
       "</table>\n",
       "</div>"
      ],
      "text/plain": [
       "     Id   ProductId          UserId      ProfileName  HelpfulnessNumerator  \\\n",
       "0  3190  B000FDKUSO  A3PENBFALXOATY         lychee07                     0   \n",
       "1  3191  B000FDKUSO   A2U8853VUAU0I         Ohmygosh                     0   \n",
       "2  3192  B000FDKUSO  A17KUCXAV34USP           Gobi55                     0   \n",
       "3  3193  B000LKXQ32  A2L1SNVFML2CUQ  jazzyunderpants                     2   \n",
       "4  3194  B000LKXQ32  A16Z0ZFQNWNPD4             Mary                     2   \n",
       "\n",
       "   HelpfulnessDenominator  Score        Time  \\\n",
       "0                       0      5  1343347200   \n",
       "1                       0      5  1339545600   \n",
       "2                       1      5  1334016000   \n",
       "3                       2      5  1325808000   \n",
       "4                       2      5  1323216000   \n",
       "\n",
       "                                             Summary  \n",
       "0             LOVED IT, SHARED IT, EVERYONE LOVED IT  \n",
       "1                                         best snack  \n",
       "2  Delicious, low calorie and healthy snack. Good...  \n",
       "3   The best organic green tea available in teabags.  \n",
       "4                                  Refined Tea Taste  "
      ]
     },
     "execution_count": 11,
     "metadata": {},
     "output_type": "execute_result"
    }
   ],
   "source": [
    "df.head()"
   ]
  },
  {
   "cell_type": "code",
   "execution_count": 12,
   "metadata": {},
   "outputs": [
    {
     "name": "stdout",
     "output_type": "stream",
     "text": [
      "<class 'pandas.core.frame.DataFrame'>\n",
      "RangeIndex: 7981 entries, 0 to 7980\n",
      "Data columns (total 9 columns):\n",
      " #   Column                  Non-Null Count  Dtype \n",
      "---  ------                  --------------  ----- \n",
      " 0   Id                      7981 non-null   int64 \n",
      " 1   ProductId               7981 non-null   object\n",
      " 2   UserId                  7981 non-null   object\n",
      " 3   ProfileName             7981 non-null   object\n",
      " 4   HelpfulnessNumerator    7981 non-null   int64 \n",
      " 5   HelpfulnessDenominator  7981 non-null   int64 \n",
      " 6   Score                   7981 non-null   int64 \n",
      " 7   Time                    7981 non-null   int64 \n",
      " 8   Summary                 7981 non-null   object\n",
      "dtypes: int64(5), object(4)\n",
      "memory usage: 561.3+ KB\n"
     ]
    }
   ],
   "source": [
    "df.info()"
   ]
  },
  {
   "cell_type": "code",
   "execution_count": 13,
   "metadata": {},
   "outputs": [
    {
     "data": {
      "application/vnd.microsoft.datawrangler.viewer.v0+json": {
       "columns": [
        {
         "name": "index",
         "rawType": "object",
         "type": "string"
        },
        {
         "name": "Id",
         "rawType": "float64",
         "type": "float"
        },
        {
         "name": "HelpfulnessNumerator",
         "rawType": "float64",
         "type": "float"
        },
        {
         "name": "HelpfulnessDenominator",
         "rawType": "float64",
         "type": "float"
        },
        {
         "name": "Score",
         "rawType": "float64",
         "type": "float"
        },
        {
         "name": "Time",
         "rawType": "float64",
         "type": "float"
        }
       ],
       "conversionMethod": "pd.DataFrame",
       "ref": "8a81dffb-1fa6-4b13-b41f-5a9787e22283",
       "rows": [
        [
         "count",
         "7981.0",
         "7981.0",
         "7981.0",
         "7981.0",
         "7981.0"
        ],
        [
         "mean",
         "5868.009146723468",
         "1.6008019045232427",
         "2.103996992858038",
         "3.9156747274777595",
         "1295554099.7869942"
        ],
        [
         "std",
         "2547.9188179372068",
         "5.319870478992884",
         "5.974482942319078",
         "1.4034619339152037",
         "46880165.97544507"
        ],
        [
         "min",
         "2.0",
         "0.0",
         "0.0",
         "1.0",
         "1075420800.0"
        ],
        [
         "25%",
         "4014.0",
         "0.0",
         "0.0",
         "3.0",
         "1271203200.0"
        ],
        [
         "50%",
         "6009.0",
         "0.0",
         "1.0",
         "5.0",
         "1309046400.0"
        ],
        [
         "75%",
         "8004.0",
         "2.0",
         "2.0",
         "5.0",
         "1330300800.0"
        ],
        [
         "max",
         "9999.0",
         "187.0",
         "216.0",
         "5.0",
         "1351209600.0"
        ]
       ],
       "shape": {
        "columns": 5,
        "rows": 8
       }
      },
      "text/html": [
       "<div>\n",
       "<style scoped>\n",
       "    .dataframe tbody tr th:only-of-type {\n",
       "        vertical-align: middle;\n",
       "    }\n",
       "\n",
       "    .dataframe tbody tr th {\n",
       "        vertical-align: top;\n",
       "    }\n",
       "\n",
       "    .dataframe thead th {\n",
       "        text-align: right;\n",
       "    }\n",
       "</style>\n",
       "<table border=\"1\" class=\"dataframe\">\n",
       "  <thead>\n",
       "    <tr style=\"text-align: right;\">\n",
       "      <th></th>\n",
       "      <th>Id</th>\n",
       "      <th>HelpfulnessNumerator</th>\n",
       "      <th>HelpfulnessDenominator</th>\n",
       "      <th>Score</th>\n",
       "      <th>Time</th>\n",
       "    </tr>\n",
       "  </thead>\n",
       "  <tbody>\n",
       "    <tr>\n",
       "      <th>count</th>\n",
       "      <td>7981.000000</td>\n",
       "      <td>7981.000000</td>\n",
       "      <td>7981.000000</td>\n",
       "      <td>7981.000000</td>\n",
       "      <td>7.981000e+03</td>\n",
       "    </tr>\n",
       "    <tr>\n",
       "      <th>mean</th>\n",
       "      <td>5868.009147</td>\n",
       "      <td>1.600802</td>\n",
       "      <td>2.103997</td>\n",
       "      <td>3.915675</td>\n",
       "      <td>1.295554e+09</td>\n",
       "    </tr>\n",
       "    <tr>\n",
       "      <th>std</th>\n",
       "      <td>2547.918818</td>\n",
       "      <td>5.319870</td>\n",
       "      <td>5.974483</td>\n",
       "      <td>1.403462</td>\n",
       "      <td>4.688017e+07</td>\n",
       "    </tr>\n",
       "    <tr>\n",
       "      <th>min</th>\n",
       "      <td>2.000000</td>\n",
       "      <td>0.000000</td>\n",
       "      <td>0.000000</td>\n",
       "      <td>1.000000</td>\n",
       "      <td>1.075421e+09</td>\n",
       "    </tr>\n",
       "    <tr>\n",
       "      <th>25%</th>\n",
       "      <td>4014.000000</td>\n",
       "      <td>0.000000</td>\n",
       "      <td>0.000000</td>\n",
       "      <td>3.000000</td>\n",
       "      <td>1.271203e+09</td>\n",
       "    </tr>\n",
       "    <tr>\n",
       "      <th>50%</th>\n",
       "      <td>6009.000000</td>\n",
       "      <td>0.000000</td>\n",
       "      <td>1.000000</td>\n",
       "      <td>5.000000</td>\n",
       "      <td>1.309046e+09</td>\n",
       "    </tr>\n",
       "    <tr>\n",
       "      <th>75%</th>\n",
       "      <td>8004.000000</td>\n",
       "      <td>2.000000</td>\n",
       "      <td>2.000000</td>\n",
       "      <td>5.000000</td>\n",
       "      <td>1.330301e+09</td>\n",
       "    </tr>\n",
       "    <tr>\n",
       "      <th>max</th>\n",
       "      <td>9999.000000</td>\n",
       "      <td>187.000000</td>\n",
       "      <td>216.000000</td>\n",
       "      <td>5.000000</td>\n",
       "      <td>1.351210e+09</td>\n",
       "    </tr>\n",
       "  </tbody>\n",
       "</table>\n",
       "</div>"
      ],
      "text/plain": [
       "                Id  HelpfulnessNumerator  HelpfulnessDenominator        Score  \\\n",
       "count  7981.000000           7981.000000             7981.000000  7981.000000   \n",
       "mean   5868.009147              1.600802                2.103997     3.915675   \n",
       "std    2547.918818              5.319870                5.974483     1.403462   \n",
       "min       2.000000              0.000000                0.000000     1.000000   \n",
       "25%    4014.000000              0.000000                0.000000     3.000000   \n",
       "50%    6009.000000              0.000000                1.000000     5.000000   \n",
       "75%    8004.000000              2.000000                2.000000     5.000000   \n",
       "max    9999.000000            187.000000              216.000000     5.000000   \n",
       "\n",
       "               Time  \n",
       "count  7.981000e+03  \n",
       "mean   1.295554e+09  \n",
       "std    4.688017e+07  \n",
       "min    1.075421e+09  \n",
       "25%    1.271203e+09  \n",
       "50%    1.309046e+09  \n",
       "75%    1.330301e+09  \n",
       "max    1.351210e+09  "
      ]
     },
     "execution_count": 13,
     "metadata": {},
     "output_type": "execute_result"
    }
   ],
   "source": [
    "df.describe()"
   ]
  },
  {
   "cell_type": "code",
   "execution_count": 14,
   "metadata": {},
   "outputs": [
    {
     "data": {
      "text/plain": [
       "Id                        0\n",
       "ProductId                 0\n",
       "UserId                    0\n",
       "ProfileName               0\n",
       "HelpfulnessNumerator      0\n",
       "HelpfulnessDenominator    0\n",
       "Score                     0\n",
       "Time                      0\n",
       "Summary                   0\n",
       "dtype: int64"
      ]
     },
     "execution_count": 14,
     "metadata": {},
     "output_type": "execute_result"
    }
   ],
   "source": [
    "df.isna().sum()"
   ]
  },
  {
   "cell_type": "code",
   "execution_count": 15,
   "metadata": {},
   "outputs": [
    {
     "data": {
      "text/plain": [
       "0"
      ]
     },
     "execution_count": 15,
     "metadata": {},
     "output_type": "execute_result"
    }
   ],
   "source": [
    "df.duplicated().sum()"
   ]
  },
  {
   "cell_type": "markdown",
   "metadata": {},
   "source": [
    "Phase 1 - B"
   ]
  },
  {
   "cell_type": "markdown",
   "metadata": {},
   "source": [
    "Distro of ratings"
   ]
  },
  {
   "cell_type": "code",
   "execution_count": 16,
   "metadata": {},
   "outputs": [
    {
     "data": {
      "text/plain": [
       "<Axes: xlabel='Score', ylabel='count'>"
      ]
     },
     "execution_count": 16,
     "metadata": {},
     "output_type": "execute_result"
    },
    {
     "data": {
      "image/png": "[encoded data removed]",
      "text/plain": [
       "<Figure size 640x480 with 1 Axes>"
      ]
     },
     "metadata": {},
     "output_type": "display_data"
    }
   ],
   "source": [
    "sns.barplot(df['Score'].value_counts())"
   ]
  },
  {
   "cell_type": "code",
   "execution_count": 17,
   "metadata": {},
   "outputs": [
    {
     "data": {
      "application/vnd.microsoft.datawrangler.viewer.v0+json": {
       "columns": [
        {
         "name": "index",
         "rawType": "int64",
         "type": "integer"
        },
        {
         "name": "Id",
         "rawType": "int64",
         "type": "integer"
        },
        {
         "name": "ProductId",
         "rawType": "object",
         "type": "string"
        },
        {
         "name": "UserId",
         "rawType": "object",
         "type": "string"
        },
        {
         "name": "ProfileName",
         "rawType": "object",
         "type": "string"
        },
        {
         "name": "HelpfulnessNumerator",
         "rawType": "int64",
         "type": "integer"
        },
        {
         "name": "HelpfulnessDenominator",
         "rawType": "int64",
         "type": "integer"
        },
        {
         "name": "Score",
         "rawType": "int64",
         "type": "integer"
        },
        {
         "name": "Time",
         "rawType": "int64",
         "type": "integer"
        },
        {
         "name": "Summary",
         "rawType": "object",
         "type": "string"
        }
       ],
       "conversionMethod": "pd.DataFrame",
       "ref": "70705dfa-1a05-4c1d-98e7-74ecde273542",
       "rows": [
        [
         "0",
         "3190",
         "B000FDKUSO",
         "A3PENBFALXOATY",
         "lychee07",
         "0",
         "0",
         "5",
         "1343347200",
         "LOVED IT, SHARED IT, EVERYONE LOVED IT"
        ],
        [
         "1",
         "3191",
         "B000FDKUSO",
         "A2U8853VUAU0I",
         "Ohmygosh",
         "0",
         "0",
         "5",
         "1339545600",
         "best snack"
        ],
        [
         "2",
         "3192",
         "B000FDKUSO",
         "A17KUCXAV34USP",
         "Gobi55",
         "0",
         "1",
         "5",
         "1334016000",
         "Delicious, low calorie and healthy snack. Good price too!"
        ],
        [
         "3",
         "3193",
         "B000LKXQ32",
         "A2L1SNVFML2CUQ",
         "jazzyunderpants",
         "2",
         "2",
         "5",
         "1325808000",
         "The best organic green tea available in teabags."
        ],
        [
         "4",
         "3194",
         "B000LKXQ32",
         "A16Z0ZFQNWNPD4",
         "Mary",
         "2",
         "2",
         "5",
         "1323216000",
         "Refined Tea Taste"
        ]
       ],
       "shape": {
        "columns": 9,
        "rows": 5
       }
      },
      "text/html": [
       "<div>\n",
       "<style scoped>\n",
       "    .dataframe tbody tr th:only-of-type {\n",
       "        vertical-align: middle;\n",
       "    }\n",
       "\n",
       "    .dataframe tbody tr th {\n",
       "        vertical-align: top;\n",
       "    }\n",
       "\n",
       "    .dataframe thead th {\n",
       "        text-align: right;\n",
       "    }\n",
       "</style>\n",
       "<table border=\"1\" class=\"dataframe\">\n",
       "  <thead>\n",
       "    <tr style=\"text-align: right;\">\n",
       "      <th></th>\n",
       "      <th>Id</th>\n",
       "      <th>ProductId</th>\n",
       "      <th>UserId</th>\n",
       "      <th>ProfileName</th>\n",
       "      <th>HelpfulnessNumerator</th>\n",
       "      <th>HelpfulnessDenominator</th>\n",
       "      <th>Score</th>\n",
       "      <th>Time</th>\n",
       "      <th>Summary</th>\n",
       "    </tr>\n",
       "  </thead>\n",
       "  <tbody>\n",
       "    <tr>\n",
       "      <th>0</th>\n",
       "      <td>3190</td>\n",
       "      <td>B000FDKUSO</td>\n",
       "      <td>A3PENBFALXOATY</td>\n",
       "      <td>lychee07</td>\n",
       "      <td>0</td>\n",
       "      <td>0</td>\n",
       "      <td>5</td>\n",
       "      <td>1343347200</td>\n",
       "      <td>LOVED IT, SHARED IT, EVERYONE LOVED IT</td>\n",
       "    </tr>\n",
       "    <tr>\n",
       "      <th>1</th>\n",
       "      <td>3191</td>\n",
       "      <td>B000FDKUSO</td>\n",
       "      <td>A2U8853VUAU0I</td>\n",
       "      <td>Ohmygosh</td>\n",
       "      <td>0</td>\n",
       "      <td>0</td>\n",
       "      <td>5</td>\n",
       "      <td>1339545600</td>\n",
       "      <td>best snack</td>\n",
       "    </tr>\n",
       "    <tr>\n",
       "      <th>2</th>\n",
       "      <td>3192</td>\n",
       "      <td>B000FDKUSO</td>\n",
       "      <td>A17KUCXAV34USP</td>\n",
       "      <td>Gobi55</td>\n",
       "      <td>0</td>\n",
       "      <td>1</td>\n",
       "      <td>5</td>\n",
       "      <td>1334016000</td>\n",
       "      <td>Delicious, low calorie and healthy snack. Good...</td>\n",
       "    </tr>\n",
       "    <tr>\n",
       "      <th>3</th>\n",
       "      <td>3193</td>\n",
       "      <td>B000LKXQ32</td>\n",
       "      <td>A2L1SNVFML2CUQ</td>\n",
       "      <td>jazzyunderpants</td>\n",
       "      <td>2</td>\n",
       "      <td>2</td>\n",
       "      <td>5</td>\n",
       "      <td>1325808000</td>\n",
       "      <td>The best organic green tea available in teabags.</td>\n",
       "    </tr>\n",
       "    <tr>\n",
       "      <th>4</th>\n",
       "      <td>3194</td>\n",
       "      <td>B000LKXQ32</td>\n",
       "      <td>A16Z0ZFQNWNPD4</td>\n",
       "      <td>Mary</td>\n",
       "      <td>2</td>\n",
       "      <td>2</td>\n",
       "      <td>5</td>\n",
       "      <td>1323216000</td>\n",
       "      <td>Refined Tea Taste</td>\n",
       "    </tr>\n",
       "  </tbody>\n",
       "</table>\n",
       "</div>"
      ],
      "text/plain": [
       "     Id   ProductId          UserId      ProfileName  HelpfulnessNumerator  \\\n",
       "0  3190  B000FDKUSO  A3PENBFALXOATY         lychee07                     0   \n",
       "1  3191  B000FDKUSO   A2U8853VUAU0I         Ohmygosh                     0   \n",
       "2  3192  B000FDKUSO  A17KUCXAV34USP           Gobi55                     0   \n",
       "3  3193  B000LKXQ32  A2L1SNVFML2CUQ  jazzyunderpants                     2   \n",
       "4  3194  B000LKXQ32  A16Z0ZFQNWNPD4             Mary                     2   \n",
       "\n",
       "   HelpfulnessDenominator  Score        Time  \\\n",
       "0                       0      5  1343347200   \n",
       "1                       0      5  1339545600   \n",
       "2                       1      5  1334016000   \n",
       "3                       2      5  1325808000   \n",
       "4                       2      5  1323216000   \n",
       "\n",
       "                                             Summary  \n",
       "0             LOVED IT, SHARED IT, EVERYONE LOVED IT  \n",
       "1                                         best snack  \n",
       "2  Delicious, low calorie and healthy snack. Good...  \n",
       "3   The best organic green tea available in teabags.  \n",
       "4                                  Refined Tea Taste  "
      ]
     },
     "execution_count": 17,
     "metadata": {},
     "output_type": "execute_result"
    }
   ],
   "source": [
    "df.head()"
   ]
  },
  {
   "cell_type": "code",
   "execution_count": 18,
   "metadata": {},
   "outputs": [
    {
     "data": {
      "application/vnd.microsoft.datawrangler.viewer.v0+json": {
       "columns": [
        {
         "name": "index",
         "rawType": "int64",
         "type": "integer"
        },
        {
         "name": "Id",
         "rawType": "int64",
         "type": "integer"
        },
        {
         "name": "ProductId",
         "rawType": "object",
         "type": "string"
        },
        {
         "name": "UserId",
         "rawType": "object",
         "type": "string"
        },
        {
         "name": "ProfileName",
         "rawType": "object",
         "type": "string"
        },
        {
         "name": "HelpfulnessNumerator",
         "rawType": "int64",
         "type": "integer"
        },
        {
         "name": "HelpfulnessDenominator",
         "rawType": "int64",
         "type": "integer"
        },
        {
         "name": "Score",
         "rawType": "int64",
         "type": "integer"
        },
        {
         "name": "Time",
         "rawType": "int64",
         "type": "integer"
        },
        {
         "name": "Summary",
         "rawType": "object",
         "type": "string"
        },
        {
         "name": "Sentiment",
         "rawType": "object",
         "type": "string"
        }
       ],
       "conversionMethod": "pd.DataFrame",
       "ref": "755c3d17-1dd5-41c9-b656-93b891f57c06",
       "rows": [
        [
         "0",
         "3190",
         "B000FDKUSO",
         "A3PENBFALXOATY",
         "lychee07",
         "0",
         "0",
         "5",
         "1343347200",
         "LOVED IT, SHARED IT, EVERYONE LOVED IT",
         "Positive"
        ],
        [
         "1",
         "3191",
         "B000FDKUSO",
         "A2U8853VUAU0I",
         "Ohmygosh",
         "0",
         "0",
         "5",
         "1339545600",
         "best snack",
         "Positive"
        ],
        [
         "2",
         "3192",
         "B000FDKUSO",
         "A17KUCXAV34USP",
         "Gobi55",
         "0",
         "1",
         "5",
         "1334016000",
         "Delicious, low calorie and healthy snack. Good price too!",
         "Positive"
        ],
        [
         "3",
         "3193",
         "B000LKXQ32",
         "A2L1SNVFML2CUQ",
         "jazzyunderpants",
         "2",
         "2",
         "5",
         "1325808000",
         "The best organic green tea available in teabags.",
         "Positive"
        ],
        [
         "4",
         "3194",
         "B000LKXQ32",
         "A16Z0ZFQNWNPD4",
         "Mary",
         "2",
         "2",
         "5",
         "1323216000",
         "Refined Tea Taste",
         "Positive"
        ]
       ],
       "shape": {
        "columns": 10,
        "rows": 5
       }
      },
      "text/html": [
       "<div>\n",
       "<style scoped>\n",
       "    .dataframe tbody tr th:only-of-type {\n",
       "        vertical-align: middle;\n",
       "    }\n",
       "\n",
       "    .dataframe tbody tr th {\n",
       "        vertical-align: top;\n",
       "    }\n",
       "\n",
       "    .dataframe thead th {\n",
       "        text-align: right;\n",
       "    }\n",
       "</style>\n",
       "<table border=\"1\" class=\"dataframe\">\n",
       "  <thead>\n",
       "    <tr style=\"text-align: right;\">\n",
       "      <th></th>\n",
       "      <th>Id</th>\n",
       "      <th>ProductId</th>\n",
       "      <th>UserId</th>\n",
       "      <th>ProfileName</th>\n",
       "      <th>HelpfulnessNumerator</th>\n",
       "      <th>HelpfulnessDenominator</th>\n",
       "      <th>Score</th>\n",
       "      <th>Time</th>\n",
       "      <th>Summary</th>\n",
       "      <th>Sentiment</th>\n",
       "    </tr>\n",
       "  </thead>\n",
       "  <tbody>\n",
       "    <tr>\n",
       "      <th>0</th>\n",
       "      <td>3190</td>\n",
       "      <td>B000FDKUSO</td>\n",
       "      <td>A3PENBFALXOATY</td>\n",
       "      <td>lychee07</td>\n",
       "      <td>0</td>\n",
       "      <td>0</td>\n",
       "      <td>5</td>\n",
       "      <td>1343347200</td>\n",
       "      <td>LOVED IT, SHARED IT, EVERYONE LOVED IT</td>\n",
       "      <td>Positive</td>\n",
       "    </tr>\n",
       "    <tr>\n",
       "      <th>1</th>\n",
       "      <td>3191</td>\n",
       "      <td>B000FDKUSO</td>\n",
       "      <td>A2U8853VUAU0I</td>\n",
       "      <td>Ohmygosh</td>\n",
       "      <td>0</td>\n",
       "      <td>0</td>\n",
       "      <td>5</td>\n",
       "      <td>1339545600</td>\n",
       "      <td>best snack</td>\n",
       "      <td>Positive</td>\n",
       "    </tr>\n",
       "    <tr>\n",
       "      <th>2</th>\n",
       "      <td>3192</td>\n",
       "      <td>B000FDKUSO</td>\n",
       "      <td>A17KUCXAV34USP</td>\n",
       "      <td>Gobi55</td>\n",
       "      <td>0</td>\n",
       "      <td>1</td>\n",
       "      <td>5</td>\n",
       "      <td>1334016000</td>\n",
       "      <td>Delicious, low calorie and healthy snack. Good...</td>\n",
       "      <td>Positive</td>\n",
       "    </tr>\n",
       "    <tr>\n",
       "      <th>3</th>\n",
       "      <td>3193</td>\n",
       "      <td>B000LKXQ32</td>\n",
       "      <td>A2L1SNVFML2CUQ</td>\n",
       "      <td>jazzyunderpants</td>\n",
       "      <td>2</td>\n",
       "      <td>2</td>\n",
       "      <td>5</td>\n",
       "      <td>1325808000</td>\n",
       "      <td>The best organic green tea available in teabags.</td>\n",
       "      <td>Positive</td>\n",
       "    </tr>\n",
       "    <tr>\n",
       "      <th>4</th>\n",
       "      <td>3194</td>\n",
       "      <td>B000LKXQ32</td>\n",
       "      <td>A16Z0ZFQNWNPD4</td>\n",
       "      <td>Mary</td>\n",
       "      <td>2</td>\n",
       "      <td>2</td>\n",
       "      <td>5</td>\n",
       "      <td>1323216000</td>\n",
       "      <td>Refined Tea Taste</td>\n",
       "      <td>Positive</td>\n",
       "    </tr>\n",
       "  </tbody>\n",
       "</table>\n",
       "</div>"
      ],
      "text/plain": [
       "     Id   ProductId          UserId      ProfileName  HelpfulnessNumerator  \\\n",
       "0  3190  B000FDKUSO  A3PENBFALXOATY         lychee07                     0   \n",
       "1  3191  B000FDKUSO   A2U8853VUAU0I         Ohmygosh                     0   \n",
       "2  3192  B000FDKUSO  A17KUCXAV34USP           Gobi55                     0   \n",
       "3  3193  B000LKXQ32  A2L1SNVFML2CUQ  jazzyunderpants                     2   \n",
       "4  3194  B000LKXQ32  A16Z0ZFQNWNPD4             Mary                     2   \n",
       "\n",
       "   HelpfulnessDenominator  Score        Time  \\\n",
       "0                       0      5  1343347200   \n",
       "1                       0      5  1339545600   \n",
       "2                       1      5  1334016000   \n",
       "3                       2      5  1325808000   \n",
       "4                       2      5  1323216000   \n",
       "\n",
       "                                             Summary Sentiment  \n",
       "0             LOVED IT, SHARED IT, EVERYONE LOVED IT  Positive  \n",
       "1                                         best snack  Positive  \n",
       "2  Delicious, low calorie and healthy snack. Good...  Positive  \n",
       "3   The best organic green tea available in teabags.  Positive  \n",
       "4                                  Refined Tea Taste  Positive  "
      ]
     },
     "execution_count": 18,
     "metadata": {},
     "output_type": "execute_result"
    }
   ],
   "source": [
    "df['Sentiment'] = df['Score'].map({1: 'Negative', 2: 'Negative', 3: 'Neutral', 4: 'Positive', 5: 'Positive'})\n",
    "df.head()"
   ]
  },
  {
   "cell_type": "code",
   "execution_count": null,
   "metadata": {},
   "outputs": [],
   "source": []
  },
  {
   "cell_type": "code",
   "execution_count": null,
   "metadata": {},
   "outputs": [],
   "source": []
  }
 ],
 "metadata": {
  "kernelspec": {
   "display_name": "base",
   "language": "python",
   "name": "python3"
  },
  "language_info": {
   "codemirror_mode": {
    "name": "ipython",
    "version": 3
   },
   "file_extension": ".py",
   "mimetype": "text/x-python",
   "name": "python",
   "nbconvert_exporter": "python",
   "pygments_lexer": "ipython3",
   "version": "3.12.4"
  }
 },
 "nbformat": 4,
 "nbformat_minor": 2
}
