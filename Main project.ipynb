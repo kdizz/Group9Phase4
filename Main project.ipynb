{
 "cells": [
  {
   "cell_type": "code",
   "execution_count": 97,
   "metadata": {},
   "outputs": [],
   "source": [
    "import pandas as pd\n",
    "import numpy as np\n",
    "import matplotlib.pyplot as plt\n",
    "import seaborn as sns"
   ]
  },
  {
   "cell_type": "markdown",
   "metadata": {},
   "source": [
    "Phase 1 - A"
   ]
  },
  {
   "cell_type": "code",
   "execution_count": 98,
   "metadata": {},
   "outputs": [],
   "source": [
    "df = pd.read_csv('reviews3.csv')"
   ]
  },
  {
   "cell_type": "code",
   "execution_count": 99,
   "metadata": {},
   "outputs": [
    {
     "data": {
      "application/vnd.microsoft.datawrangler.viewer.v0+json": {
       "columns": [
        {
         "name": "index",
         "rawType": "int64",
         "type": "integer"
        },
        {
         "name": "Id",
         "rawType": "int64",
         "type": "integer"
        },
        {
         "name": "ProductId",
         "rawType": "object",
         "type": "string"
        },
        {
         "name": "UserId",
         "rawType": "object",
         "type": "string"
        },
        {
         "name": "ProfileName",
         "rawType": "object",
         "type": "string"
        },
        {
         "name": "HelpfulnessNumerator",
         "rawType": "int64",
         "type": "integer"
        },
        {
         "name": "HelpfulnessDenominator",
         "rawType": "int64",
         "type": "integer"
        },
        {
         "name": "Score",
         "rawType": "int64",
         "type": "integer"
        },
        {
         "name": "Time",
         "rawType": "int64",
         "type": "integer"
        },
        {
         "name": "Summary",
         "rawType": "object",
         "type": "string"
        },
        {
         "name": "Text",
         "rawType": "object",
         "type": "string"
        }
       ],
       "conversionMethod": "pd.DataFrame",
       "ref": "909f6e73-f6b2-4e71-a801-124a3ae39d2a",
       "rows": [
        [
         "0",
         "21183",
         "B002QWP89S",
         "A8NX9GKEUAG8U",
         "S. Kim",
         "0",
         "0",
         "5",
         "1333324800",
         "Dog goes crazy over these!",
         "My dog has been loving these chews for years! I give him one everyday and it has done a great job at keeping plaque and tartar build up at bay."
        ],
        [
         "1",
         "24619",
         "B0047E2I5U",
         "A74ZHK7QFVQ29",
         "Artìst",
         "1",
         "1",
         "5",
         "1305072000",
         "My Westie loves it!",
         "I have a 6 year old westie that had the worst food allergies, her coat was very brittle, and she had low energy.  One walk and she'd be passed out.  As many of you on here, I take pride in my dog and pride that I want to take care of it the best that I am able to. I've tried blue buffalo and other high rated foods, but she would not eat them unless I \"spiced\" it up with something. It was time consuming, frustrating, and hard to keep her on an eating schedule.  I finally decided to give this a go ahead even though it is on the pricey side.<br /><br />What I've noticed is that she eats it immediately and even licks her bowl.  Her coat is soft and shiny now, she's a running dog now than a walk dog (and thats saying something considering she's a westie), and her eating schedule is regulated and I have a better idea of what she's eaten so I can control her weight (she's a small westie around 14 lbs.)<br /><br />For those of you thinking that its too expensive there's no way you could afford to keep your dog on this diet. For my dog she requires about 0.75 ounces or 3/4 of a scoop and that goes a long way for a 2.2 lb. bag.  So its not like I am buying this dog food every week.<br /><br />The only small negative is the dog food has a slight smell to it.  Nothing that will make you vomit but its not something I am used to smelling when giving her dog food.  For those wondering what the dog food looks like?  It's like small shredded pieces of dark jerky.<br /><br />Recommendation?  BUY"
        ],
        [
         "2",
         "18727",
         "B000FFRU3U",
         "A3K7XR1T8LBTB",
         "K. Frappier",
         "9",
         "9",
         "5",
         "1173657600",
         "My favorite instant oatmeal so far.",
         "I love Dr. McDougall's products, and this is my favorite instant oatmeal (compared to his other flavors and the Nature's Path oatmeal I eat at work). The large size makes is a hearty meal and it fits perfectly into my cup holder. So, when I get to college in the morning at 7am, I can eat this wholesome breakfast and feel full most of the morning until class ends at 12:30 pm. Not too much sugar yet still flavorful. Good texture, too.<br /><br />I prefer this over the other flavors."
        ],
        [
         "3",
         "36130",
         "B000FBQ594",
         "A2GJSO5UUMNLX0",
         "Sunny",
         "1",
         "1",
         "5",
         "1182816000",
         "Excellent cookie",
         "Wow, was I surprised when I first bit into one of these cookies.  They are absolutly delicous.  I just ordered another case of them.  Can't get cookies like these in a supermarket or a bakery even."
        ],
        [
         "4",
         "3304",
         "B005K4Q1VI",
         "A1TOW634MZ0ELQ",
         "kathyallen45",
         "0",
         "0",
         "5",
         "1328659200",
         "Hot Choc K Cup",
         "Wow what a deal. These taste just as good as the expensive brands. Most definately will be buying these again."
        ]
       ],
       "shape": {
        "columns": 10,
        "rows": 5
       }
      },
      "text/html": [
       "<div>\n",
       "<style scoped>\n",
       "    .dataframe tbody tr th:only-of-type {\n",
       "        vertical-align: middle;\n",
       "    }\n",
       "\n",
       "    .dataframe tbody tr th {\n",
       "        vertical-align: top;\n",
       "    }\n",
       "\n",
       "    .dataframe thead th {\n",
       "        text-align: right;\n",
       "    }\n",
       "</style>\n",
       "<table border=\"1\" class=\"dataframe\">\n",
       "  <thead>\n",
       "    <tr style=\"text-align: right;\">\n",
       "      <th></th>\n",
       "      <th>Id</th>\n",
       "      <th>ProductId</th>\n",
       "      <th>UserId</th>\n",
       "      <th>ProfileName</th>\n",
       "      <th>HelpfulnessNumerator</th>\n",
       "      <th>HelpfulnessDenominator</th>\n",
       "      <th>Score</th>\n",
       "      <th>Time</th>\n",
       "      <th>Summary</th>\n",
       "      <th>Text</th>\n",
       "    </tr>\n",
       "  </thead>\n",
       "  <tbody>\n",
       "    <tr>\n",
       "      <th>0</th>\n",
       "      <td>21183</td>\n",
       "      <td>B002QWP89S</td>\n",
       "      <td>A8NX9GKEUAG8U</td>\n",
       "      <td>S. Kim</td>\n",
       "      <td>0</td>\n",
       "      <td>0</td>\n",
       "      <td>5</td>\n",
       "      <td>1333324800</td>\n",
       "      <td>Dog goes crazy over these!</td>\n",
       "      <td>My dog has been loving these chews for years! ...</td>\n",
       "    </tr>\n",
       "    <tr>\n",
       "      <th>1</th>\n",
       "      <td>24619</td>\n",
       "      <td>B0047E2I5U</td>\n",
       "      <td>A74ZHK7QFVQ29</td>\n",
       "      <td>Artìst</td>\n",
       "      <td>1</td>\n",
       "      <td>1</td>\n",
       "      <td>5</td>\n",
       "      <td>1305072000</td>\n",
       "      <td>My Westie loves it!</td>\n",
       "      <td>I have a 6 year old westie that had the worst ...</td>\n",
       "    </tr>\n",
       "    <tr>\n",
       "      <th>2</th>\n",
       "      <td>18727</td>\n",
       "      <td>B000FFRU3U</td>\n",
       "      <td>A3K7XR1T8LBTB</td>\n",
       "      <td>K. Frappier</td>\n",
       "      <td>9</td>\n",
       "      <td>9</td>\n",
       "      <td>5</td>\n",
       "      <td>1173657600</td>\n",
       "      <td>My favorite instant oatmeal so far.</td>\n",
       "      <td>I love Dr. McDougall's products, and this is m...</td>\n",
       "    </tr>\n",
       "    <tr>\n",
       "      <th>3</th>\n",
       "      <td>36130</td>\n",
       "      <td>B000FBQ594</td>\n",
       "      <td>A2GJSO5UUMNLX0</td>\n",
       "      <td>Sunny</td>\n",
       "      <td>1</td>\n",
       "      <td>1</td>\n",
       "      <td>5</td>\n",
       "      <td>1182816000</td>\n",
       "      <td>Excellent cookie</td>\n",
       "      <td>Wow, was I surprised when I first bit into one...</td>\n",
       "    </tr>\n",
       "    <tr>\n",
       "      <th>4</th>\n",
       "      <td>3304</td>\n",
       "      <td>B005K4Q1VI</td>\n",
       "      <td>A1TOW634MZ0ELQ</td>\n",
       "      <td>kathyallen45</td>\n",
       "      <td>0</td>\n",
       "      <td>0</td>\n",
       "      <td>5</td>\n",
       "      <td>1328659200</td>\n",
       "      <td>Hot Choc K Cup</td>\n",
       "      <td>Wow what a deal. These taste just as good as t...</td>\n",
       "    </tr>\n",
       "  </tbody>\n",
       "</table>\n",
       "</div>"
      ],
      "text/plain": [
       "      Id   ProductId          UserId   ProfileName  HelpfulnessNumerator  \\\n",
       "0  21183  B002QWP89S   A8NX9GKEUAG8U        S. Kim                     0   \n",
       "1  24619  B0047E2I5U   A74ZHK7QFVQ29        Artìst                     1   \n",
       "2  18727  B000FFRU3U   A3K7XR1T8LBTB   K. Frappier                     9   \n",
       "3  36130  B000FBQ594  A2GJSO5UUMNLX0         Sunny                     1   \n",
       "4   3304  B005K4Q1VI  A1TOW634MZ0ELQ  kathyallen45                     0   \n",
       "\n",
       "   HelpfulnessDenominator  Score        Time  \\\n",
       "0                       0      5  1333324800   \n",
       "1                       1      5  1305072000   \n",
       "2                       9      5  1173657600   \n",
       "3                       1      5  1182816000   \n",
       "4                       0      5  1328659200   \n",
       "\n",
       "                               Summary  \\\n",
       "0           Dog goes crazy over these!   \n",
       "1                  My Westie loves it!   \n",
       "2  My favorite instant oatmeal so far.   \n",
       "3                     Excellent cookie   \n",
       "4                       Hot Choc K Cup   \n",
       "\n",
       "                                                Text  \n",
       "0  My dog has been loving these chews for years! ...  \n",
       "1  I have a 6 year old westie that had the worst ...  \n",
       "2  I love Dr. McDougall's products, and this is m...  \n",
       "3  Wow, was I surprised when I first bit into one...  \n",
       "4  Wow what a deal. These taste just as good as t...  "
      ]
     },
     "execution_count": 99,
     "metadata": {},
     "output_type": "execute_result"
    }
   ],
   "source": [
    "df.head()"
   ]
  },
  {
   "cell_type": "code",
   "execution_count": 100,
   "metadata": {},
   "outputs": [
    {
     "name": "stdout",
     "output_type": "stream",
     "text": [
      "<class 'pandas.core.frame.DataFrame'>\n",
      "RangeIndex: 7658 entries, 0 to 7657\n",
      "Data columns (total 10 columns):\n",
      " #   Column                  Non-Null Count  Dtype \n",
      "---  ------                  --------------  ----- \n",
      " 0   Id                      7658 non-null   int64 \n",
      " 1   ProductId               7658 non-null   object\n",
      " 2   UserId                  7658 non-null   object\n",
      " 3   ProfileName             7658 non-null   object\n",
      " 4   HelpfulnessNumerator    7658 non-null   int64 \n",
      " 5   HelpfulnessDenominator  7658 non-null   int64 \n",
      " 6   Score                   7658 non-null   int64 \n",
      " 7   Time                    7658 non-null   int64 \n",
      " 8   Summary                 7657 non-null   object\n",
      " 9   Text                    7658 non-null   object\n",
      "dtypes: int64(5), object(5)\n",
      "memory usage: 598.4+ KB\n"
     ]
    }
   ],
   "source": [
    "df.info()"
   ]
  },
  {
   "cell_type": "code",
   "execution_count": 101,
   "metadata": {},
   "outputs": [
    {
     "data": {
      "application/vnd.microsoft.datawrangler.viewer.v0+json": {
       "columns": [
        {
         "name": "index",
         "rawType": "object",
         "type": "string"
        },
        {
         "name": "Id",
         "rawType": "float64",
         "type": "float"
        },
        {
         "name": "HelpfulnessNumerator",
         "rawType": "float64",
         "type": "float"
        },
        {
         "name": "HelpfulnessDenominator",
         "rawType": "float64",
         "type": "float"
        },
        {
         "name": "Score",
         "rawType": "float64",
         "type": "float"
        },
        {
         "name": "Time",
         "rawType": "float64",
         "type": "float"
        }
       ],
       "conversionMethod": "pd.DataFrame",
       "ref": "7a727893-b71c-42df-99ff-ce82fbb4d0f4",
       "rows": [
        [
         "count",
         "7658.0",
         "7658.0",
         "7658.0",
         "7658.0",
         "7658.0"
        ],
        [
         "mean",
         "24951.37437973361",
         "1.67654740141029",
         "2.2522851919561244",
         "3.827239488117002",
         "1295600256.150431"
        ],
        [
         "std",
         "14384.295842311847",
         "5.863804098010478",
         "6.73761092239008",
         "1.435316316951936",
         "46494184.18357339"
        ],
        [
         "min",
         "6.0",
         "0.0",
         "0.0",
         "1.0",
         "1067644800.0"
        ],
        [
         "25%",
         "12670.5",
         "0.0",
         "0.0",
         "3.0",
         "1271052000.0"
        ],
        [
         "50%",
         "24694.0",
         "0.0",
         "1.0",
         "4.0",
         "1308700800.0"
        ],
        [
         "75%",
         "37480.75",
         "2.0",
         "2.0",
         "5.0",
         "1330387200.0"
        ],
        [
         "max",
         "49993.0",
         "187.0",
         "216.0",
         "5.0",
         "1351209600.0"
        ]
       ],
       "shape": {
        "columns": 5,
        "rows": 8
       }
      },
      "text/html": [
       "<div>\n",
       "<style scoped>\n",
       "    .dataframe tbody tr th:only-of-type {\n",
       "        vertical-align: middle;\n",
       "    }\n",
       "\n",
       "    .dataframe tbody tr th {\n",
       "        vertical-align: top;\n",
       "    }\n",
       "\n",
       "    .dataframe thead th {\n",
       "        text-align: right;\n",
       "    }\n",
       "</style>\n",
       "<table border=\"1\" class=\"dataframe\">\n",
       "  <thead>\n",
       "    <tr style=\"text-align: right;\">\n",
       "      <th></th>\n",
       "      <th>Id</th>\n",
       "      <th>HelpfulnessNumerator</th>\n",
       "      <th>HelpfulnessDenominator</th>\n",
       "      <th>Score</th>\n",
       "      <th>Time</th>\n",
       "    </tr>\n",
       "  </thead>\n",
       "  <tbody>\n",
       "    <tr>\n",
       "      <th>count</th>\n",
       "      <td>7658.000000</td>\n",
       "      <td>7658.000000</td>\n",
       "      <td>7658.000000</td>\n",
       "      <td>7658.000000</td>\n",
       "      <td>7.658000e+03</td>\n",
       "    </tr>\n",
       "    <tr>\n",
       "      <th>mean</th>\n",
       "      <td>24951.374380</td>\n",
       "      <td>1.676547</td>\n",
       "      <td>2.252285</td>\n",
       "      <td>3.827239</td>\n",
       "      <td>1.295600e+09</td>\n",
       "    </tr>\n",
       "    <tr>\n",
       "      <th>std</th>\n",
       "      <td>14384.295842</td>\n",
       "      <td>5.863804</td>\n",
       "      <td>6.737611</td>\n",
       "      <td>1.435316</td>\n",
       "      <td>4.649418e+07</td>\n",
       "    </tr>\n",
       "    <tr>\n",
       "      <th>min</th>\n",
       "      <td>6.000000</td>\n",
       "      <td>0.000000</td>\n",
       "      <td>0.000000</td>\n",
       "      <td>1.000000</td>\n",
       "      <td>1.067645e+09</td>\n",
       "    </tr>\n",
       "    <tr>\n",
       "      <th>25%</th>\n",
       "      <td>12670.500000</td>\n",
       "      <td>0.000000</td>\n",
       "      <td>0.000000</td>\n",
       "      <td>3.000000</td>\n",
       "      <td>1.271052e+09</td>\n",
       "    </tr>\n",
       "    <tr>\n",
       "      <th>50%</th>\n",
       "      <td>24694.000000</td>\n",
       "      <td>0.000000</td>\n",
       "      <td>1.000000</td>\n",
       "      <td>4.000000</td>\n",
       "      <td>1.308701e+09</td>\n",
       "    </tr>\n",
       "    <tr>\n",
       "      <th>75%</th>\n",
       "      <td>37480.750000</td>\n",
       "      <td>2.000000</td>\n",
       "      <td>2.000000</td>\n",
       "      <td>5.000000</td>\n",
       "      <td>1.330387e+09</td>\n",
       "    </tr>\n",
       "    <tr>\n",
       "      <th>max</th>\n",
       "      <td>49993.000000</td>\n",
       "      <td>187.000000</td>\n",
       "      <td>216.000000</td>\n",
       "      <td>5.000000</td>\n",
       "      <td>1.351210e+09</td>\n",
       "    </tr>\n",
       "  </tbody>\n",
       "</table>\n",
       "</div>"
      ],
      "text/plain": [
       "                 Id  HelpfulnessNumerator  HelpfulnessDenominator  \\\n",
       "count   7658.000000           7658.000000             7658.000000   \n",
       "mean   24951.374380              1.676547                2.252285   \n",
       "std    14384.295842              5.863804                6.737611   \n",
       "min        6.000000              0.000000                0.000000   \n",
       "25%    12670.500000              0.000000                0.000000   \n",
       "50%    24694.000000              0.000000                1.000000   \n",
       "75%    37480.750000              2.000000                2.000000   \n",
       "max    49993.000000            187.000000              216.000000   \n",
       "\n",
       "             Score          Time  \n",
       "count  7658.000000  7.658000e+03  \n",
       "mean      3.827239  1.295600e+09  \n",
       "std       1.435316  4.649418e+07  \n",
       "min       1.000000  1.067645e+09  \n",
       "25%       3.000000  1.271052e+09  \n",
       "50%       4.000000  1.308701e+09  \n",
       "75%       5.000000  1.330387e+09  \n",
       "max       5.000000  1.351210e+09  "
      ]
     },
     "execution_count": 101,
     "metadata": {},
     "output_type": "execute_result"
    }
   ],
   "source": [
    "df.describe()"
   ]
  },
  {
   "cell_type": "code",
   "execution_count": 102,
   "metadata": {},
   "outputs": [
    {
     "data": {
      "text/plain": [
       "Id                        0\n",
       "ProductId                 0\n",
       "UserId                    0\n",
       "ProfileName               0\n",
       "HelpfulnessNumerator      0\n",
       "HelpfulnessDenominator    0\n",
       "Score                     0\n",
       "Time                      0\n",
       "Summary                   1\n",
       "Text                      0\n",
       "dtype: int64"
      ]
     },
     "execution_count": 102,
     "metadata": {},
     "output_type": "execute_result"
    }
   ],
   "source": [
    "df.isna().sum()"
   ]
  },
  {
   "cell_type": "code",
   "execution_count": 103,
   "metadata": {},
   "outputs": [
    {
     "data": {
      "text/plain": [
       "0"
      ]
     },
     "execution_count": 103,
     "metadata": {},
     "output_type": "execute_result"
    }
   ],
   "source": [
    "df.duplicated().sum()"
   ]
  },
  {
   "cell_type": "markdown",
   "metadata": {},
   "source": [
    "Phase 1 - B"
   ]
  },
  {
   "cell_type": "markdown",
   "metadata": {},
   "source": [
    "Distro of ratings"
   ]
  },
  {
   "cell_type": "code",
   "execution_count": 104,
   "metadata": {},
   "outputs": [
    {
     "data": {
      "text/plain": [
       "<Axes: xlabel='Score', ylabel='count'>"
      ]
     },
     "execution_count": 104,
     "metadata": {},
     "output_type": "execute_result"
    },
    {
     "data": {
      "image/png": "[encoded data removed]",
      "text/plain": [
       "<Figure size 640x480 with 1 Axes>"
      ]
     },
     "metadata": {},
     "output_type": "display_data"
    }
   ],
   "source": [
    "sns.barplot(df['Score'].value_counts())"
   ]
  },
  {
   "cell_type": "code",
   "execution_count": 105,
   "metadata": {},
   "outputs": [
    {
     "data": {
      "application/vnd.microsoft.datawrangler.viewer.v0+json": {
       "columns": [
        {
         "name": "index",
         "rawType": "int64",
         "type": "integer"
        },
        {
         "name": "Id",
         "rawType": "int64",
         "type": "integer"
        },
        {
         "name": "ProductId",
         "rawType": "object",
         "type": "string"
        },
        {
         "name": "UserId",
         "rawType": "object",
         "type": "string"
        },
        {
         "name": "ProfileName",
         "rawType": "object",
         "type": "string"
        },
        {
         "name": "HelpfulnessNumerator",
         "rawType": "int64",
         "type": "integer"
        },
        {
         "name": "HelpfulnessDenominator",
         "rawType": "int64",
         "type": "integer"
        },
        {
         "name": "Score",
         "rawType": "int64",
         "type": "integer"
        },
        {
         "name": "Time",
         "rawType": "int64",
         "type": "integer"
        },
        {
         "name": "Summary",
         "rawType": "object",
         "type": "string"
        },
        {
         "name": "Text",
         "rawType": "object",
         "type": "string"
        }
       ],
       "conversionMethod": "pd.DataFrame",
       "ref": "6f31957e-a945-41f9-8261-af9fa1ed3f52",
       "rows": [
        [
         "0",
         "21183",
         "B002QWP89S",
         "A8NX9GKEUAG8U",
         "S. Kim",
         "0",
         "0",
         "5",
         "1333324800",
         "Dog goes crazy over these!",
         "My dog has been loving these chews for years! I give him one everyday and it has done a great job at keeping plaque and tartar build up at bay."
        ],
        [
         "1",
         "24619",
         "B0047E2I5U",
         "A74ZHK7QFVQ29",
         "Artìst",
         "1",
         "1",
         "5",
         "1305072000",
         "My Westie loves it!",
         "I have a 6 year old westie that had the worst food allergies, her coat was very brittle, and she had low energy.  One walk and she'd be passed out.  As many of you on here, I take pride in my dog and pride that I want to take care of it the best that I am able to. I've tried blue buffalo and other high rated foods, but she would not eat them unless I \"spiced\" it up with something. It was time consuming, frustrating, and hard to keep her on an eating schedule.  I finally decided to give this a go ahead even though it is on the pricey side.<br /><br />What I've noticed is that she eats it immediately and even licks her bowl.  Her coat is soft and shiny now, she's a running dog now than a walk dog (and thats saying something considering she's a westie), and her eating schedule is regulated and I have a better idea of what she's eaten so I can control her weight (she's a small westie around 14 lbs.)<br /><br />For those of you thinking that its too expensive there's no way you could afford to keep your dog on this diet. For my dog she requires about 0.75 ounces or 3/4 of a scoop and that goes a long way for a 2.2 lb. bag.  So its not like I am buying this dog food every week.<br /><br />The only small negative is the dog food has a slight smell to it.  Nothing that will make you vomit but its not something I am used to smelling when giving her dog food.  For those wondering what the dog food looks like?  It's like small shredded pieces of dark jerky.<br /><br />Recommendation?  BUY"
        ],
        [
         "2",
         "18727",
         "B000FFRU3U",
         "A3K7XR1T8LBTB",
         "K. Frappier",
         "9",
         "9",
         "5",
         "1173657600",
         "My favorite instant oatmeal so far.",
         "I love Dr. McDougall's products, and this is my favorite instant oatmeal (compared to his other flavors and the Nature's Path oatmeal I eat at work). The large size makes is a hearty meal and it fits perfectly into my cup holder. So, when I get to college in the morning at 7am, I can eat this wholesome breakfast and feel full most of the morning until class ends at 12:30 pm. Not too much sugar yet still flavorful. Good texture, too.<br /><br />I prefer this over the other flavors."
        ],
        [
         "3",
         "36130",
         "B000FBQ594",
         "A2GJSO5UUMNLX0",
         "Sunny",
         "1",
         "1",
         "5",
         "1182816000",
         "Excellent cookie",
         "Wow, was I surprised when I first bit into one of these cookies.  They are absolutly delicous.  I just ordered another case of them.  Can't get cookies like these in a supermarket or a bakery even."
        ],
        [
         "4",
         "3304",
         "B005K4Q1VI",
         "A1TOW634MZ0ELQ",
         "kathyallen45",
         "0",
         "0",
         "5",
         "1328659200",
         "Hot Choc K Cup",
         "Wow what a deal. These taste just as good as the expensive brands. Most definately will be buying these again."
        ]
       ],
       "shape": {
        "columns": 10,
        "rows": 5
       }
      },
      "text/html": [
       "<div>\n",
       "<style scoped>\n",
       "    .dataframe tbody tr th:only-of-type {\n",
       "        vertical-align: middle;\n",
       "    }\n",
       "\n",
       "    .dataframe tbody tr th {\n",
       "        vertical-align: top;\n",
       "    }\n",
       "\n",
       "    .dataframe thead th {\n",
       "        text-align: right;\n",
       "    }\n",
       "</style>\n",
       "<table border=\"1\" class=\"dataframe\">\n",
       "  <thead>\n",
       "    <tr style=\"text-align: right;\">\n",
       "      <th></th>\n",
       "      <th>Id</th>\n",
       "      <th>ProductId</th>\n",
       "      <th>UserId</th>\n",
       "      <th>ProfileName</th>\n",
       "      <th>HelpfulnessNumerator</th>\n",
       "      <th>HelpfulnessDenominator</th>\n",
       "      <th>Score</th>\n",
       "      <th>Time</th>\n",
       "      <th>Summary</th>\n",
       "      <th>Text</th>\n",
       "    </tr>\n",
       "  </thead>\n",
       "  <tbody>\n",
       "    <tr>\n",
       "      <th>0</th>\n",
       "      <td>21183</td>\n",
       "      <td>B002QWP89S</td>\n",
       "      <td>A8NX9GKEUAG8U</td>\n",
       "      <td>S. Kim</td>\n",
       "      <td>0</td>\n",
       "      <td>0</td>\n",
       "      <td>5</td>\n",
       "      <td>1333324800</td>\n",
       "      <td>Dog goes crazy over these!</td>\n",
       "      <td>My dog has been loving these chews for years! ...</td>\n",
       "    </tr>\n",
       "    <tr>\n",
       "      <th>1</th>\n",
       "      <td>24619</td>\n",
       "      <td>B0047E2I5U</td>\n",
       "      <td>A74ZHK7QFVQ29</td>\n",
       "      <td>Artìst</td>\n",
       "      <td>1</td>\n",
       "      <td>1</td>\n",
       "      <td>5</td>\n",
       "      <td>1305072000</td>\n",
       "      <td>My Westie loves it!</td>\n",
       "      <td>I have a 6 year old westie that had the worst ...</td>\n",
       "    </tr>\n",
       "    <tr>\n",
       "      <th>2</th>\n",
       "      <td>18727</td>\n",
       "      <td>B000FFRU3U</td>\n",
       "      <td>A3K7XR1T8LBTB</td>\n",
       "      <td>K. Frappier</td>\n",
       "      <td>9</td>\n",
       "      <td>9</td>\n",
       "      <td>5</td>\n",
       "      <td>1173657600</td>\n",
       "      <td>My favorite instant oatmeal so far.</td>\n",
       "      <td>I love Dr. McDougall's products, and this is m...</td>\n",
       "    </tr>\n",
       "    <tr>\n",
       "      <th>3</th>\n",
       "      <td>36130</td>\n",
       "      <td>B000FBQ594</td>\n",
       "      <td>A2GJSO5UUMNLX0</td>\n",
       "      <td>Sunny</td>\n",
       "      <td>1</td>\n",
       "      <td>1</td>\n",
       "      <td>5</td>\n",
       "      <td>1182816000</td>\n",
       "      <td>Excellent cookie</td>\n",
       "      <td>Wow, was I surprised when I first bit into one...</td>\n",
       "    </tr>\n",
       "    <tr>\n",
       "      <th>4</th>\n",
       "      <td>3304</td>\n",
       "      <td>B005K4Q1VI</td>\n",
       "      <td>A1TOW634MZ0ELQ</td>\n",
       "      <td>kathyallen45</td>\n",
       "      <td>0</td>\n",
       "      <td>0</td>\n",
       "      <td>5</td>\n",
       "      <td>1328659200</td>\n",
       "      <td>Hot Choc K Cup</td>\n",
       "      <td>Wow what a deal. These taste just as good as t...</td>\n",
       "    </tr>\n",
       "  </tbody>\n",
       "</table>\n",
       "</div>"
      ],
      "text/plain": [
       "      Id   ProductId          UserId   ProfileName  HelpfulnessNumerator  \\\n",
       "0  21183  B002QWP89S   A8NX9GKEUAG8U        S. Kim                     0   \n",
       "1  24619  B0047E2I5U   A74ZHK7QFVQ29        Artìst                     1   \n",
       "2  18727  B000FFRU3U   A3K7XR1T8LBTB   K. Frappier                     9   \n",
       "3  36130  B000FBQ594  A2GJSO5UUMNLX0         Sunny                     1   \n",
       "4   3304  B005K4Q1VI  A1TOW634MZ0ELQ  kathyallen45                     0   \n",
       "\n",
       "   HelpfulnessDenominator  Score        Time  \\\n",
       "0                       0      5  1333324800   \n",
       "1                       1      5  1305072000   \n",
       "2                       9      5  1173657600   \n",
       "3                       1      5  1182816000   \n",
       "4                       0      5  1328659200   \n",
       "\n",
       "                               Summary  \\\n",
       "0           Dog goes crazy over these!   \n",
       "1                  My Westie loves it!   \n",
       "2  My favorite instant oatmeal so far.   \n",
       "3                     Excellent cookie   \n",
       "4                       Hot Choc K Cup   \n",
       "\n",
       "                                                Text  \n",
       "0  My dog has been loving these chews for years! ...  \n",
       "1  I have a 6 year old westie that had the worst ...  \n",
       "2  I love Dr. McDougall's products, and this is m...  \n",
       "3  Wow, was I surprised when I first bit into one...  \n",
       "4  Wow what a deal. These taste just as good as t...  "
      ]
     },
     "execution_count": 105,
     "metadata": {},
     "output_type": "execute_result"
    }
   ],
   "source": [
    "df.head()"
   ]
  },
  {
   "cell_type": "markdown",
   "metadata": {},
   "source": [
    "Phase 2 - 1."
   ]
  },
  {
   "cell_type": "markdown",
   "metadata": {},
   "source": [
    "Next we need to clean and prepare the data "
   ]
  },
  {
   "cell_type": "markdown",
   "metadata": {},
   "source": [
    "We shall map the sentiment analysis to 3 classes;  negative, neutral, positve"
   ]
  },
  {
   "cell_type": "code",
   "execution_count": 106,
   "metadata": {},
   "outputs": [
    {
     "data": {
      "application/vnd.microsoft.datawrangler.viewer.v0+json": {
       "columns": [
        {
         "name": "index",
         "rawType": "int64",
         "type": "integer"
        },
        {
         "name": "Id",
         "rawType": "int64",
         "type": "integer"
        },
        {
         "name": "ProductId",
         "rawType": "object",
         "type": "string"
        },
        {
         "name": "UserId",
         "rawType": "object",
         "type": "string"
        },
        {
         "name": "ProfileName",
         "rawType": "object",
         "type": "string"
        },
        {
         "name": "HelpfulnessNumerator",
         "rawType": "int64",
         "type": "integer"
        },
        {
         "name": "HelpfulnessDenominator",
         "rawType": "int64",
         "type": "integer"
        },
        {
         "name": "Score",
         "rawType": "int64",
         "type": "integer"
        },
        {
         "name": "Time",
         "rawType": "int64",
         "type": "integer"
        },
        {
         "name": "Summary",
         "rawType": "object",
         "type": "string"
        },
        {
         "name": "Text",
         "rawType": "object",
         "type": "string"
        },
        {
         "name": "Sentiment",
         "rawType": "object",
         "type": "string"
        }
       ],
       "conversionMethod": "pd.DataFrame",
       "ref": "85c15050-096f-4518-994e-c69dcb98a4d6",
       "rows": [
        [
         "0",
         "21183",
         "B002QWP89S",
         "A8NX9GKEUAG8U",
         "S. Kim",
         "0",
         "0",
         "5",
         "1333324800",
         "Dog goes crazy over these!",
         "My dog has been loving these chews for years! I give him one everyday and it has done a great job at keeping plaque and tartar build up at bay.",
         "Positive"
        ],
        [
         "1",
         "24619",
         "B0047E2I5U",
         "A74ZHK7QFVQ29",
         "Artìst",
         "1",
         "1",
         "5",
         "1305072000",
         "My Westie loves it!",
         "I have a 6 year old westie that had the worst food allergies, her coat was very brittle, and she had low energy.  One walk and she'd be passed out.  As many of you on here, I take pride in my dog and pride that I want to take care of it the best that I am able to. I've tried blue buffalo and other high rated foods, but she would not eat them unless I \"spiced\" it up with something. It was time consuming, frustrating, and hard to keep her on an eating schedule.  I finally decided to give this a go ahead even though it is on the pricey side.<br /><br />What I've noticed is that she eats it immediately and even licks her bowl.  Her coat is soft and shiny now, she's a running dog now than a walk dog (and thats saying something considering she's a westie), and her eating schedule is regulated and I have a better idea of what she's eaten so I can control her weight (she's a small westie around 14 lbs.)<br /><br />For those of you thinking that its too expensive there's no way you could afford to keep your dog on this diet. For my dog she requires about 0.75 ounces or 3/4 of a scoop and that goes a long way for a 2.2 lb. bag.  So its not like I am buying this dog food every week.<br /><br />The only small negative is the dog food has a slight smell to it.  Nothing that will make you vomit but its not something I am used to smelling when giving her dog food.  For those wondering what the dog food looks like?  It's like small shredded pieces of dark jerky.<br /><br />Recommendation?  BUY",
         "Positive"
        ],
        [
         "2",
         "18727",
         "B000FFRU3U",
         "A3K7XR1T8LBTB",
         "K. Frappier",
         "9",
         "9",
         "5",
         "1173657600",
         "My favorite instant oatmeal so far.",
         "I love Dr. McDougall's products, and this is my favorite instant oatmeal (compared to his other flavors and the Nature's Path oatmeal I eat at work). The large size makes is a hearty meal and it fits perfectly into my cup holder. So, when I get to college in the morning at 7am, I can eat this wholesome breakfast and feel full most of the morning until class ends at 12:30 pm. Not too much sugar yet still flavorful. Good texture, too.<br /><br />I prefer this over the other flavors.",
         "Positive"
        ],
        [
         "3",
         "36130",
         "B000FBQ594",
         "A2GJSO5UUMNLX0",
         "Sunny",
         "1",
         "1",
         "5",
         "1182816000",
         "Excellent cookie",
         "Wow, was I surprised when I first bit into one of these cookies.  They are absolutly delicous.  I just ordered another case of them.  Can't get cookies like these in a supermarket or a bakery even.",
         "Positive"
        ],
        [
         "4",
         "3304",
         "B005K4Q1VI",
         "A1TOW634MZ0ELQ",
         "kathyallen45",
         "0",
         "0",
         "5",
         "1328659200",
         "Hot Choc K Cup",
         "Wow what a deal. These taste just as good as the expensive brands. Most definately will be buying these again.",
         "Positive"
        ]
       ],
       "shape": {
        "columns": 11,
        "rows": 5
       }
      },
      "text/html": [
       "<div>\n",
       "<style scoped>\n",
       "    .dataframe tbody tr th:only-of-type {\n",
       "        vertical-align: middle;\n",
       "    }\n",
       "\n",
       "    .dataframe tbody tr th {\n",
       "        vertical-align: top;\n",
       "    }\n",
       "\n",
       "    .dataframe thead th {\n",
       "        text-align: right;\n",
       "    }\n",
       "</style>\n",
       "<table border=\"1\" class=\"dataframe\">\n",
       "  <thead>\n",
       "    <tr style=\"text-align: right;\">\n",
       "      <th></th>\n",
       "      <th>Id</th>\n",
       "      <th>ProductId</th>\n",
       "      <th>UserId</th>\n",
       "      <th>ProfileName</th>\n",
       "      <th>HelpfulnessNumerator</th>\n",
       "      <th>HelpfulnessDenominator</th>\n",
       "      <th>Score</th>\n",
       "      <th>Time</th>\n",
       "      <th>Summary</th>\n",
       "      <th>Text</th>\n",
       "      <th>Sentiment</th>\n",
       "    </tr>\n",
       "  </thead>\n",
       "  <tbody>\n",
       "    <tr>\n",
       "      <th>0</th>\n",
       "      <td>21183</td>\n",
       "      <td>B002QWP89S</td>\n",
       "      <td>A8NX9GKEUAG8U</td>\n",
       "      <td>S. Kim</td>\n",
       "      <td>0</td>\n",
       "      <td>0</td>\n",
       "      <td>5</td>\n",
       "      <td>1333324800</td>\n",
       "      <td>Dog goes crazy over these!</td>\n",
       "      <td>My dog has been loving these chews for years! ...</td>\n",
       "      <td>Positive</td>\n",
       "    </tr>\n",
       "    <tr>\n",
       "      <th>1</th>\n",
       "      <td>24619</td>\n",
       "      <td>B0047E2I5U</td>\n",
       "      <td>A74ZHK7QFVQ29</td>\n",
       "      <td>Artìst</td>\n",
       "      <td>1</td>\n",
       "      <td>1</td>\n",
       "      <td>5</td>\n",
       "      <td>1305072000</td>\n",
       "      <td>My Westie loves it!</td>\n",
       "      <td>I have a 6 year old westie that had the worst ...</td>\n",
       "      <td>Positive</td>\n",
       "    </tr>\n",
       "    <tr>\n",
       "      <th>2</th>\n",
       "      <td>18727</td>\n",
       "      <td>B000FFRU3U</td>\n",
       "      <td>A3K7XR1T8LBTB</td>\n",
       "      <td>K. Frappier</td>\n",
       "      <td>9</td>\n",
       "      <td>9</td>\n",
       "      <td>5</td>\n",
       "      <td>1173657600</td>\n",
       "      <td>My favorite instant oatmeal so far.</td>\n",
       "      <td>I love Dr. McDougall's products, and this is m...</td>\n",
       "      <td>Positive</td>\n",
       "    </tr>\n",
       "    <tr>\n",
       "      <th>3</th>\n",
       "      <td>36130</td>\n",
       "      <td>B000FBQ594</td>\n",
       "      <td>A2GJSO5UUMNLX0</td>\n",
       "      <td>Sunny</td>\n",
       "      <td>1</td>\n",
       "      <td>1</td>\n",
       "      <td>5</td>\n",
       "      <td>1182816000</td>\n",
       "      <td>Excellent cookie</td>\n",
       "      <td>Wow, was I surprised when I first bit into one...</td>\n",
       "      <td>Positive</td>\n",
       "    </tr>\n",
       "    <tr>\n",
       "      <th>4</th>\n",
       "      <td>3304</td>\n",
       "      <td>B005K4Q1VI</td>\n",
       "      <td>A1TOW634MZ0ELQ</td>\n",
       "      <td>kathyallen45</td>\n",
       "      <td>0</td>\n",
       "      <td>0</td>\n",
       "      <td>5</td>\n",
       "      <td>1328659200</td>\n",
       "      <td>Hot Choc K Cup</td>\n",
       "      <td>Wow what a deal. These taste just as good as t...</td>\n",
       "      <td>Positive</td>\n",
       "    </tr>\n",
       "  </tbody>\n",
       "</table>\n",
       "</div>"
      ],
      "text/plain": [
       "      Id   ProductId          UserId   ProfileName  HelpfulnessNumerator  \\\n",
       "0  21183  B002QWP89S   A8NX9GKEUAG8U        S. Kim                     0   \n",
       "1  24619  B0047E2I5U   A74ZHK7QFVQ29        Artìst                     1   \n",
       "2  18727  B000FFRU3U   A3K7XR1T8LBTB   K. Frappier                     9   \n",
       "3  36130  B000FBQ594  A2GJSO5UUMNLX0         Sunny                     1   \n",
       "4   3304  B005K4Q1VI  A1TOW634MZ0ELQ  kathyallen45                     0   \n",
       "\n",
       "   HelpfulnessDenominator  Score        Time  \\\n",
       "0                       0      5  1333324800   \n",
       "1                       1      5  1305072000   \n",
       "2                       9      5  1173657600   \n",
       "3                       1      5  1182816000   \n",
       "4                       0      5  1328659200   \n",
       "\n",
       "                               Summary  \\\n",
       "0           Dog goes crazy over these!   \n",
       "1                  My Westie loves it!   \n",
       "2  My favorite instant oatmeal so far.   \n",
       "3                     Excellent cookie   \n",
       "4                       Hot Choc K Cup   \n",
       "\n",
       "                                                Text Sentiment  \n",
       "0  My dog has been loving these chews for years! ...  Positive  \n",
       "1  I have a 6 year old westie that had the worst ...  Positive  \n",
       "2  I love Dr. McDougall's products, and this is m...  Positive  \n",
       "3  Wow, was I surprised when I first bit into one...  Positive  \n",
       "4  Wow what a deal. These taste just as good as t...  Positive  "
      ]
     },
     "execution_count": 106,
     "metadata": {},
     "output_type": "execute_result"
    }
   ],
   "source": [
    "df['Sentiment'] = df['Score'].map({1: 'Negative', 2: 'Negative', 3: 'Neutral', 4: 'Positive', 5: 'Positive'})\n",
    "df.head()"
   ]
  },
  {
   "cell_type": "markdown",
   "metadata": {},
   "source": [
    "We shall do a len count for each review and create a new column for this."
   ]
  },
  {
   "cell_type": "code",
   "execution_count": 107,
   "metadata": {},
   "outputs": [
    {
     "data": {
      "application/vnd.microsoft.datawrangler.viewer.v0+json": {
       "columns": [
        {
         "name": "index",
         "rawType": "int64",
         "type": "integer"
        },
        {
         "name": "Id",
         "rawType": "int64",
         "type": "integer"
        },
        {
         "name": "ProductId",
         "rawType": "object",
         "type": "string"
        },
        {
         "name": "UserId",
         "rawType": "object",
         "type": "string"
        },
        {
         "name": "ProfileName",
         "rawType": "object",
         "type": "string"
        },
        {
         "name": "HelpfulnessNumerator",
         "rawType": "int64",
         "type": "integer"
        },
        {
         "name": "HelpfulnessDenominator",
         "rawType": "int64",
         "type": "integer"
        },
        {
         "name": "Score",
         "rawType": "int64",
         "type": "integer"
        },
        {
         "name": "Time",
         "rawType": "int64",
         "type": "integer"
        },
        {
         "name": "Summary",
         "rawType": "object",
         "type": "string"
        },
        {
         "name": "Text",
         "rawType": "object",
         "type": "string"
        },
        {
         "name": "Sentiment",
         "rawType": "object",
         "type": "string"
        },
        {
         "name": "Review_len",
         "rawType": "int64",
         "type": "integer"
        }
       ],
       "conversionMethod": "pd.DataFrame",
       "ref": "40d8740b-26f5-444d-9ef3-b12d654f09ec",
       "rows": [
        [
         "0",
         "21183",
         "B002QWP89S",
         "A8NX9GKEUAG8U",
         "S. Kim",
         "0",
         "0",
         "5",
         "1333324800",
         "Dog goes crazy over these!",
         "My dog has been loving these chews for years! I give him one everyday and it has done a great job at keeping plaque and tartar build up at bay.",
         "Positive",
         "143"
        ],
        [
         "1",
         "24619",
         "B0047E2I5U",
         "A74ZHK7QFVQ29",
         "Artìst",
         "1",
         "1",
         "5",
         "1305072000",
         "My Westie loves it!",
         "I have a 6 year old westie that had the worst food allergies, her coat was very brittle, and she had low energy.  One walk and she'd be passed out.  As many of you on here, I take pride in my dog and pride that I want to take care of it the best that I am able to. I've tried blue buffalo and other high rated foods, but she would not eat them unless I \"spiced\" it up with something. It was time consuming, frustrating, and hard to keep her on an eating schedule.  I finally decided to give this a go ahead even though it is on the pricey side.<br /><br />What I've noticed is that she eats it immediately and even licks her bowl.  Her coat is soft and shiny now, she's a running dog now than a walk dog (and thats saying something considering she's a westie), and her eating schedule is regulated and I have a better idea of what she's eaten so I can control her weight (she's a small westie around 14 lbs.)<br /><br />For those of you thinking that its too expensive there's no way you could afford to keep your dog on this diet. For my dog she requires about 0.75 ounces or 3/4 of a scoop and that goes a long way for a 2.2 lb. bag.  So its not like I am buying this dog food every week.<br /><br />The only small negative is the dog food has a slight smell to it.  Nothing that will make you vomit but its not something I am used to smelling when giving her dog food.  For those wondering what the dog food looks like?  It's like small shredded pieces of dark jerky.<br /><br />Recommendation?  BUY",
         "Positive",
         "1502"
        ],
        [
         "2",
         "18727",
         "B000FFRU3U",
         "A3K7XR1T8LBTB",
         "K. Frappier",
         "9",
         "9",
         "5",
         "1173657600",
         "My favorite instant oatmeal so far.",
         "I love Dr. McDougall's products, and this is my favorite instant oatmeal (compared to his other flavors and the Nature's Path oatmeal I eat at work). The large size makes is a hearty meal and it fits perfectly into my cup holder. So, when I get to college in the morning at 7am, I can eat this wholesome breakfast and feel full most of the morning until class ends at 12:30 pm. Not too much sugar yet still flavorful. Good texture, too.<br /><br />I prefer this over the other flavors.",
         "Positive",
         "485"
        ],
        [
         "3",
         "36130",
         "B000FBQ594",
         "A2GJSO5UUMNLX0",
         "Sunny",
         "1",
         "1",
         "5",
         "1182816000",
         "Excellent cookie",
         "Wow, was I surprised when I first bit into one of these cookies.  They are absolutly delicous.  I just ordered another case of them.  Can't get cookies like these in a supermarket or a bakery even.",
         "Positive",
         "197"
        ],
        [
         "4",
         "3304",
         "B005K4Q1VI",
         "A1TOW634MZ0ELQ",
         "kathyallen45",
         "0",
         "0",
         "5",
         "1328659200",
         "Hot Choc K Cup",
         "Wow what a deal. These taste just as good as the expensive brands. Most definately will be buying these again.",
         "Positive",
         "110"
        ]
       ],
       "shape": {
        "columns": 12,
        "rows": 5
       }
      },
      "text/html": [
       "<div>\n",
       "<style scoped>\n",
       "    .dataframe tbody tr th:only-of-type {\n",
       "        vertical-align: middle;\n",
       "    }\n",
       "\n",
       "    .dataframe tbody tr th {\n",
       "        vertical-align: top;\n",
       "    }\n",
       "\n",
       "    .dataframe thead th {\n",
       "        text-align: right;\n",
       "    }\n",
       "</style>\n",
       "<table border=\"1\" class=\"dataframe\">\n",
       "  <thead>\n",
       "    <tr style=\"text-align: right;\">\n",
       "      <th></th>\n",
       "      <th>Id</th>\n",
       "      <th>ProductId</th>\n",
       "      <th>UserId</th>\n",
       "      <th>ProfileName</th>\n",
       "      <th>HelpfulnessNumerator</th>\n",
       "      <th>HelpfulnessDenominator</th>\n",
       "      <th>Score</th>\n",
       "      <th>Time</th>\n",
       "      <th>Summary</th>\n",
       "      <th>Text</th>\n",
       "      <th>Sentiment</th>\n",
       "      <th>Review_len</th>\n",
       "    </tr>\n",
       "  </thead>\n",
       "  <tbody>\n",
       "    <tr>\n",
       "      <th>0</th>\n",
       "      <td>21183</td>\n",
       "      <td>B002QWP89S</td>\n",
       "      <td>A8NX9GKEUAG8U</td>\n",
       "      <td>S. Kim</td>\n",
       "      <td>0</td>\n",
       "      <td>0</td>\n",
       "      <td>5</td>\n",
       "      <td>1333324800</td>\n",
       "      <td>Dog goes crazy over these!</td>\n",
       "      <td>My dog has been loving these chews for years! ...</td>\n",
       "      <td>Positive</td>\n",
       "      <td>143</td>\n",
       "    </tr>\n",
       "    <tr>\n",
       "      <th>1</th>\n",
       "      <td>24619</td>\n",
       "      <td>B0047E2I5U</td>\n",
       "      <td>A74ZHK7QFVQ29</td>\n",
       "      <td>Artìst</td>\n",
       "      <td>1</td>\n",
       "      <td>1</td>\n",
       "      <td>5</td>\n",
       "      <td>1305072000</td>\n",
       "      <td>My Westie loves it!</td>\n",
       "      <td>I have a 6 year old westie that had the worst ...</td>\n",
       "      <td>Positive</td>\n",
       "      <td>1502</td>\n",
       "    </tr>\n",
       "    <tr>\n",
       "      <th>2</th>\n",
       "      <td>18727</td>\n",
       "      <td>B000FFRU3U</td>\n",
       "      <td>A3K7XR1T8LBTB</td>\n",
       "      <td>K. Frappier</td>\n",
       "      <td>9</td>\n",
       "      <td>9</td>\n",
       "      <td>5</td>\n",
       "      <td>1173657600</td>\n",
       "      <td>My favorite instant oatmeal so far.</td>\n",
       "      <td>I love Dr. McDougall's products, and this is m...</td>\n",
       "      <td>Positive</td>\n",
       "      <td>485</td>\n",
       "    </tr>\n",
       "    <tr>\n",
       "      <th>3</th>\n",
       "      <td>36130</td>\n",
       "      <td>B000FBQ594</td>\n",
       "      <td>A2GJSO5UUMNLX0</td>\n",
       "      <td>Sunny</td>\n",
       "      <td>1</td>\n",
       "      <td>1</td>\n",
       "      <td>5</td>\n",
       "      <td>1182816000</td>\n",
       "      <td>Excellent cookie</td>\n",
       "      <td>Wow, was I surprised when I first bit into one...</td>\n",
       "      <td>Positive</td>\n",
       "      <td>197</td>\n",
       "    </tr>\n",
       "    <tr>\n",
       "      <th>4</th>\n",
       "      <td>3304</td>\n",
       "      <td>B005K4Q1VI</td>\n",
       "      <td>A1TOW634MZ0ELQ</td>\n",
       "      <td>kathyallen45</td>\n",
       "      <td>0</td>\n",
       "      <td>0</td>\n",
       "      <td>5</td>\n",
       "      <td>1328659200</td>\n",
       "      <td>Hot Choc K Cup</td>\n",
       "      <td>Wow what a deal. These taste just as good as t...</td>\n",
       "      <td>Positive</td>\n",
       "      <td>110</td>\n",
       "    </tr>\n",
       "  </tbody>\n",
       "</table>\n",
       "</div>"
      ],
      "text/plain": [
       "      Id   ProductId          UserId   ProfileName  HelpfulnessNumerator  \\\n",
       "0  21183  B002QWP89S   A8NX9GKEUAG8U        S. Kim                     0   \n",
       "1  24619  B0047E2I5U   A74ZHK7QFVQ29        Artìst                     1   \n",
       "2  18727  B000FFRU3U   A3K7XR1T8LBTB   K. Frappier                     9   \n",
       "3  36130  B000FBQ594  A2GJSO5UUMNLX0         Sunny                     1   \n",
       "4   3304  B005K4Q1VI  A1TOW634MZ0ELQ  kathyallen45                     0   \n",
       "\n",
       "   HelpfulnessDenominator  Score        Time  \\\n",
       "0                       0      5  1333324800   \n",
       "1                       1      5  1305072000   \n",
       "2                       9      5  1173657600   \n",
       "3                       1      5  1182816000   \n",
       "4                       0      5  1328659200   \n",
       "\n",
       "                               Summary  \\\n",
       "0           Dog goes crazy over these!   \n",
       "1                  My Westie loves it!   \n",
       "2  My favorite instant oatmeal so far.   \n",
       "3                     Excellent cookie   \n",
       "4                       Hot Choc K Cup   \n",
       "\n",
       "                                                Text Sentiment  Review_len  \n",
       "0  My dog has been loving these chews for years! ...  Positive         143  \n",
       "1  I have a 6 year old westie that had the worst ...  Positive        1502  \n",
       "2  I love Dr. McDougall's products, and this is m...  Positive         485  \n",
       "3  Wow, was I surprised when I first bit into one...  Positive         197  \n",
       "4  Wow what a deal. These taste just as good as t...  Positive         110  "
      ]
     },
     "execution_count": 107,
     "metadata": {},
     "output_type": "execute_result"
    }
   ],
   "source": [
    "def review_len(df1):\n",
    "    df1['Review_len'] = df1['Text'].apply(lambda x: len(str(x)))\n",
    "    return df1\n",
    "\n",
    "review_len(df)\n",
    "df.head()"
   ]
  },
  {
   "cell_type": "code",
   "execution_count": 108,
   "metadata": {},
   "outputs": [
    {
     "name": "stderr",
     "output_type": "stream",
     "text": [
      "[nltk_data] Downloading package punkt to\n",
      "[nltk_data]     C:\\Users\\HP\\AppData\\Roaming\\nltk_data...\n",
      "[nltk_data]   Package punkt is already up-to-date!\n",
      "[nltk_data] Downloading package stopwords to\n",
      "[nltk_data]     C:\\Users\\HP\\AppData\\Roaming\\nltk_data...\n",
      "[nltk_data]   Package stopwords is already up-to-date!\n",
      "[nltk_data] Downloading package wordnet to\n",
      "[nltk_data]     C:\\Users\\HP\\AppData\\Roaming\\nltk_data...\n",
      "[nltk_data]   Package wordnet is already up-to-date!\n",
      "[nltk_data] Downloading package omw-1.4 to\n",
      "[nltk_data]     C:\\Users\\HP\\AppData\\Roaming\\nltk_data...\n",
      "[nltk_data]   Package omw-1.4 is already up-to-date!\n"
     ]
    }
   ],
   "source": [
    "\n",
    "import nltk\n",
    "import re\n",
    "from nltk.tokenize import word_tokenize\n",
    "from nltk.corpus import stopwords\n",
    "from nltk.stem import WordNetLemmatizer\n",
    "nltk.download('punkt')\n",
    "nltk.download('stopwords')\n",
    "nltk.download('wordnet')\n",
    "nltk.download('omw-1.4')\n",
    "\n",
    "#initializing the stopwords and Lemmantization\n",
    "stop_words = set(stopwords.words('english'))\n",
    "lemmatizer = WordNetLemmatizer()\n",
    "\n",
    "\n",
    "\n"
   ]
  },
  {
   "cell_type": "markdown",
   "metadata": {},
   "source": []
  },
  {
   "cell_type": "code",
   "execution_count": 109,
   "metadata": {},
   "outputs": [
    {
     "name": "stdout",
     "output_type": "stream",
     "text": [
      "                                                Text  \\\n",
      "0  My dog has been loving these chews for years! ...   \n",
      "1  I have a 6 year old westie that had the worst ...   \n",
      "2  I love Dr. McDougall's products, and this is m...   \n",
      "3  Wow, was I surprised when I first bit into one...   \n",
      "4  Wow what a deal. These taste just as good as t...   \n",
      "\n",
      "                                              Tokens  \n",
      "0  [dog, loving, chew, year, give, one, everyday,...  \n",
      "1  [year, old, westie, worst, food, allergy, coat...  \n",
      "2  [love, dr, mcdougall, product, favorite, insta...  \n",
      "3  [wow, surprised, first, bit, one, cooky, absol...  \n",
      "4  [wow, deal, taste, good, expensive, brand, def...  \n"
     ]
    }
   ],
   "source": [
    "def clean_and_tokenize(text):\n",
    "    \n",
    "    text = str(text)\n",
    "    #removing htmls if present.\n",
    "    text = re.sub(r\"<.*?>\", \" \", text) \n",
    "    #Removing url links.\n",
    "    text = re.sub(r\"http\\S+|www.\\S+\", \" \", text)\n",
    "    #removing non-alpha numeric characters.\n",
    "    text = re.sub(r\"[^a-zA-Z\\s]\", \" \", text) \n",
    "    #changing text to lowercase and fixing spaces.\n",
    "    text = re.sub(r\"\\s+\", \" \", text).strip().lower()\n",
    "    \n",
    "    #tokenizing and the lemmatizing after\n",
    "    tokens = word_tokenize(text)                        \n",
    "    tokens = [t for t in tokens if t not in stop_words] \n",
    "    tokens = [lemmatizer.lemmatize(t) for t in tokens] \n",
    "    \n",
    "    return tokens\n",
    "\n",
    "df['Tokens'] = df['Text'].apply(clean_and_tokenize)\n",
    "\n",
    "print(df[['Text', 'Tokens']].head())"
   ]
  },
  {
   "cell_type": "code",
   "execution_count": 110,
   "metadata": {},
   "outputs": [
    {
     "data": {
      "text/plain": [
       "'To be returned to take note'"
      ]
     },
     "execution_count": 110,
     "metadata": {},
     "output_type": "execute_result"
    }
   ],
   "source": [
    "'''To be returned to take note'''\n",
    "#df.to_csv('cleaned_reviews.csv', index=False)\n",
    "\n"
   ]
  },
  {
   "cell_type": "markdown",
   "metadata": {},
   "source": [
    "We shall do a len count for each tokenized review and create a new column for this."
   ]
  },
  {
   "cell_type": "code",
   "execution_count": 111,
   "metadata": {},
   "outputs": [
    {
     "data": {
      "application/vnd.microsoft.datawrangler.viewer.v0+json": {
       "columns": [
        {
         "name": "index",
         "rawType": "int64",
         "type": "integer"
        },
        {
         "name": "Id",
         "rawType": "int64",
         "type": "integer"
        },
        {
         "name": "ProductId",
         "rawType": "object",
         "type": "string"
        },
        {
         "name": "UserId",
         "rawType": "object",
         "type": "string"
        },
        {
         "name": "ProfileName",
         "rawType": "object",
         "type": "string"
        },
        {
         "name": "HelpfulnessNumerator",
         "rawType": "int64",
         "type": "integer"
        },
        {
         "name": "HelpfulnessDenominator",
         "rawType": "int64",
         "type": "integer"
        },
        {
         "name": "Score",
         "rawType": "int64",
         "type": "integer"
        },
        {
         "name": "Time",
         "rawType": "int64",
         "type": "integer"
        },
        {
         "name": "Summary",
         "rawType": "object",
         "type": "string"
        },
        {
         "name": "Text",
         "rawType": "object",
         "type": "string"
        },
        {
         "name": "Sentiment",
         "rawType": "object",
         "type": "string"
        },
        {
         "name": "Review_len",
         "rawType": "int64",
         "type": "integer"
        },
        {
         "name": "Tokens",
         "rawType": "object",
         "type": "unknown"
        },
        {
         "name": "Token_len",
         "rawType": "int64",
         "type": "integer"
        }
       ],
       "conversionMethod": "pd.DataFrame",
       "ref": "dba65fe4-a1c0-43bb-9f7c-335e69c33a5e",
       "rows": [
        [
         "0",
         "21183",
         "B002QWP89S",
         "A8NX9GKEUAG8U",
         "S. Kim",
         "0",
         "0",
         "5",
         "1333324800",
         "Dog goes crazy over these!",
         "My dog has been loving these chews for years! I give him one everyday and it has done a great job at keeping plaque and tartar build up at bay.",
         "Positive",
         "143",
         "['dog', 'loving', 'chew', 'year', 'give', 'one', 'everyday', 'done', 'great', 'job', 'keeping', 'plaque', 'tartar', 'build', 'bay']",
         "131"
        ],
        [
         "1",
         "24619",
         "B0047E2I5U",
         "A74ZHK7QFVQ29",
         "Artìst",
         "1",
         "1",
         "5",
         "1305072000",
         "My Westie loves it!",
         "I have a 6 year old westie that had the worst food allergies, her coat was very brittle, and she had low energy.  One walk and she'd be passed out.  As many of you on here, I take pride in my dog and pride that I want to take care of it the best that I am able to. I've tried blue buffalo and other high rated foods, but she would not eat them unless I \"spiced\" it up with something. It was time consuming, frustrating, and hard to keep her on an eating schedule.  I finally decided to give this a go ahead even though it is on the pricey side.<br /><br />What I've noticed is that she eats it immediately and even licks her bowl.  Her coat is soft and shiny now, she's a running dog now than a walk dog (and thats saying something considering she's a westie), and her eating schedule is regulated and I have a better idea of what she's eaten so I can control her weight (she's a small westie around 14 lbs.)<br /><br />For those of you thinking that its too expensive there's no way you could afford to keep your dog on this diet. For my dog she requires about 0.75 ounces or 3/4 of a scoop and that goes a long way for a 2.2 lb. bag.  So its not like I am buying this dog food every week.<br /><br />The only small negative is the dog food has a slight smell to it.  Nothing that will make you vomit but its not something I am used to smelling when giving her dog food.  For those wondering what the dog food looks like?  It's like small shredded pieces of dark jerky.<br /><br />Recommendation?  BUY",
         "Positive",
         "1502",
         "['year', 'old', 'westie', 'worst', 'food', 'allergy', 'coat', 'brittle', 'low', 'energy', 'one', 'walk', 'passed', 'many', 'take', 'pride', 'dog', 'pride', 'want', 'take', 'care', 'best', 'able', 'tried', 'blue', 'buffalo', 'high', 'rated', 'food', 'would', 'eat', 'unless', 'spiced', 'something', 'time', 'consuming', 'frustrating', 'hard', 'keep', 'eating', 'schedule', 'finally', 'decided', 'give', 'go', 'ahead', 'even', 'though', 'pricey', 'side', 'noticed', 'eats', 'immediately', 'even', 'lick', 'bowl', 'coat', 'soft', 'shiny', 'running', 'dog', 'walk', 'dog', 'thats', 'saying', 'something', 'considering', 'westie', 'eating', 'schedule', 'regulated', 'better', 'idea', 'eaten', 'control', 'weight', 'small', 'westie', 'around', 'lb', 'thinking', 'expensive', 'way', 'could', 'afford', 'keep', 'dog', 'diet', 'dog', 'requires', 'ounce', 'scoop', 'go', 'long', 'way', 'lb', 'bag', 'like', 'buying', 'dog', 'food', 'every', 'week', 'small', 'negative', 'dog', 'food', 'slight', 'smell', 'nothing', 'make', 'vomit', 'something', 'used', 'smelling', 'giving', 'dog', 'food', 'wondering', 'dog', 'food', 'look', 'like', 'like', 'small', 'shredded', 'piece', 'dark', 'jerky', 'recommendation', 'buy']",
         "1203"
        ],
        [
         "2",
         "18727",
         "B000FFRU3U",
         "A3K7XR1T8LBTB",
         "K. Frappier",
         "9",
         "9",
         "5",
         "1173657600",
         "My favorite instant oatmeal so far.",
         "I love Dr. McDougall's products, and this is my favorite instant oatmeal (compared to his other flavors and the Nature's Path oatmeal I eat at work). The large size makes is a hearty meal and it fits perfectly into my cup holder. So, when I get to college in the morning at 7am, I can eat this wholesome breakfast and feel full most of the morning until class ends at 12:30 pm. Not too much sugar yet still flavorful. Good texture, too.<br /><br />I prefer this over the other flavors.",
         "Positive",
         "485",
         "['love', 'dr', 'mcdougall', 'product', 'favorite', 'instant', 'oatmeal', 'compared', 'flavor', 'nature', 'path', 'oatmeal', 'eat', 'work', 'large', 'size', 'make', 'hearty', 'meal', 'fit', 'perfectly', 'cup', 'holder', 'get', 'college', 'morning', 'eat', 'wholesome', 'breakfast', 'feel', 'full', 'morning', 'class', 'end', 'pm', 'much', 'sugar', 'yet', 'still', 'flavorful', 'good', 'texture', 'prefer', 'flavor']",
         "414"
        ],
        [
         "3",
         "36130",
         "B000FBQ594",
         "A2GJSO5UUMNLX0",
         "Sunny",
         "1",
         "1",
         "5",
         "1182816000",
         "Excellent cookie",
         "Wow, was I surprised when I first bit into one of these cookies.  They are absolutly delicous.  I just ordered another case of them.  Can't get cookies like these in a supermarket or a bakery even.",
         "Positive",
         "197",
         "['wow', 'surprised', 'first', 'bit', 'one', 'cooky', 'absolutly', 'delicous', 'ordered', 'another', 'case', 'get', 'cooky', 'like', 'supermarket', 'bakery', 'even']",
         "164"
        ],
        [
         "4",
         "3304",
         "B005K4Q1VI",
         "A1TOW634MZ0ELQ",
         "kathyallen45",
         "0",
         "0",
         "5",
         "1328659200",
         "Hot Choc K Cup",
         "Wow what a deal. These taste just as good as the expensive brands. Most definately will be buying these again.",
         "Positive",
         "110",
         "['wow', 'deal', 'taste', 'good', 'expensive', 'brand', 'definately', 'buying']",
         "78"
        ]
       ],
       "shape": {
        "columns": 14,
        "rows": 5
       }
      },
      "text/html": [
       "<div>\n",
       "<style scoped>\n",
       "    .dataframe tbody tr th:only-of-type {\n",
       "        vertical-align: middle;\n",
       "    }\n",
       "\n",
       "    .dataframe tbody tr th {\n",
       "        vertical-align: top;\n",
       "    }\n",
       "\n",
       "    .dataframe thead th {\n",
       "        text-align: right;\n",
       "    }\n",
       "</style>\n",
       "<table border=\"1\" class=\"dataframe\">\n",
       "  <thead>\n",
       "    <tr style=\"text-align: right;\">\n",
       "      <th></th>\n",
       "      <th>Id</th>\n",
       "      <th>ProductId</th>\n",
       "      <th>UserId</th>\n",
       "      <th>ProfileName</th>\n",
       "      <th>HelpfulnessNumerator</th>\n",
       "      <th>HelpfulnessDenominator</th>\n",
       "      <th>Score</th>\n",
       "      <th>Time</th>\n",
       "      <th>Summary</th>\n",
       "      <th>Text</th>\n",
       "      <th>Sentiment</th>\n",
       "      <th>Review_len</th>\n",
       "      <th>Tokens</th>\n",
       "      <th>Token_len</th>\n",
       "    </tr>\n",
       "  </thead>\n",
       "  <tbody>\n",
       "    <tr>\n",
       "      <th>0</th>\n",
       "      <td>21183</td>\n",
       "      <td>B002QWP89S</td>\n",
       "      <td>A8NX9GKEUAG8U</td>\n",
       "      <td>S. Kim</td>\n",
       "      <td>0</td>\n",
       "      <td>0</td>\n",
       "      <td>5</td>\n",
       "      <td>1333324800</td>\n",
       "      <td>Dog goes crazy over these!</td>\n",
       "      <td>My dog has been loving these chews for years! ...</td>\n",
       "      <td>Positive</td>\n",
       "      <td>143</td>\n",
       "      <td>[dog, loving, chew, year, give, one, everyday,...</td>\n",
       "      <td>131</td>\n",
       "    </tr>\n",
       "    <tr>\n",
       "      <th>1</th>\n",
       "      <td>24619</td>\n",
       "      <td>B0047E2I5U</td>\n",
       "      <td>A74ZHK7QFVQ29</td>\n",
       "      <td>Artìst</td>\n",
       "      <td>1</td>\n",
       "      <td>1</td>\n",
       "      <td>5</td>\n",
       "      <td>1305072000</td>\n",
       "      <td>My Westie loves it!</td>\n",
       "      <td>I have a 6 year old westie that had the worst ...</td>\n",
       "      <td>Positive</td>\n",
       "      <td>1502</td>\n",
       "      <td>[year, old, westie, worst, food, allergy, coat...</td>\n",
       "      <td>1203</td>\n",
       "    </tr>\n",
       "    <tr>\n",
       "      <th>2</th>\n",
       "      <td>18727</td>\n",
       "      <td>B000FFRU3U</td>\n",
       "      <td>A3K7XR1T8LBTB</td>\n",
       "      <td>K. Frappier</td>\n",
       "      <td>9</td>\n",
       "      <td>9</td>\n",
       "      <td>5</td>\n",
       "      <td>1173657600</td>\n",
       "      <td>My favorite instant oatmeal so far.</td>\n",
       "      <td>I love Dr. McDougall's products, and this is m...</td>\n",
       "      <td>Positive</td>\n",
       "      <td>485</td>\n",
       "      <td>[love, dr, mcdougall, product, favorite, insta...</td>\n",
       "      <td>414</td>\n",
       "    </tr>\n",
       "    <tr>\n",
       "      <th>3</th>\n",
       "      <td>36130</td>\n",
       "      <td>B000FBQ594</td>\n",
       "      <td>A2GJSO5UUMNLX0</td>\n",
       "      <td>Sunny</td>\n",
       "      <td>1</td>\n",
       "      <td>1</td>\n",
       "      <td>5</td>\n",
       "      <td>1182816000</td>\n",
       "      <td>Excellent cookie</td>\n",
       "      <td>Wow, was I surprised when I first bit into one...</td>\n",
       "      <td>Positive</td>\n",
       "      <td>197</td>\n",
       "      <td>[wow, surprised, first, bit, one, cooky, absol...</td>\n",
       "      <td>164</td>\n",
       "    </tr>\n",
       "    <tr>\n",
       "      <th>4</th>\n",
       "      <td>3304</td>\n",
       "      <td>B005K4Q1VI</td>\n",
       "      <td>A1TOW634MZ0ELQ</td>\n",
       "      <td>kathyallen45</td>\n",
       "      <td>0</td>\n",
       "      <td>0</td>\n",
       "      <td>5</td>\n",
       "      <td>1328659200</td>\n",
       "      <td>Hot Choc K Cup</td>\n",
       "      <td>Wow what a deal. These taste just as good as t...</td>\n",
       "      <td>Positive</td>\n",
       "      <td>110</td>\n",
       "      <td>[wow, deal, taste, good, expensive, brand, def...</td>\n",
       "      <td>78</td>\n",
       "    </tr>\n",
       "  </tbody>\n",
       "</table>\n",
       "</div>"
      ],
      "text/plain": [
       "      Id   ProductId          UserId   ProfileName  HelpfulnessNumerator  \\\n",
       "0  21183  B002QWP89S   A8NX9GKEUAG8U        S. Kim                     0   \n",
       "1  24619  B0047E2I5U   A74ZHK7QFVQ29        Artìst                     1   \n",
       "2  18727  B000FFRU3U   A3K7XR1T8LBTB   K. Frappier                     9   \n",
       "3  36130  B000FBQ594  A2GJSO5UUMNLX0         Sunny                     1   \n",
       "4   3304  B005K4Q1VI  A1TOW634MZ0ELQ  kathyallen45                     0   \n",
       "\n",
       "   HelpfulnessDenominator  Score        Time  \\\n",
       "0                       0      5  1333324800   \n",
       "1                       1      5  1305072000   \n",
       "2                       9      5  1173657600   \n",
       "3                       1      5  1182816000   \n",
       "4                       0      5  1328659200   \n",
       "\n",
       "                               Summary  \\\n",
       "0           Dog goes crazy over these!   \n",
       "1                  My Westie loves it!   \n",
       "2  My favorite instant oatmeal so far.   \n",
       "3                     Excellent cookie   \n",
       "4                       Hot Choc K Cup   \n",
       "\n",
       "                                                Text Sentiment  Review_len  \\\n",
       "0  My dog has been loving these chews for years! ...  Positive         143   \n",
       "1  I have a 6 year old westie that had the worst ...  Positive        1502   \n",
       "2  I love Dr. McDougall's products, and this is m...  Positive         485   \n",
       "3  Wow, was I surprised when I first bit into one...  Positive         197   \n",
       "4  Wow what a deal. These taste just as good as t...  Positive         110   \n",
       "\n",
       "                                              Tokens  Token_len  \n",
       "0  [dog, loving, chew, year, give, one, everyday,...        131  \n",
       "1  [year, old, westie, worst, food, allergy, coat...       1203  \n",
       "2  [love, dr, mcdougall, product, favorite, insta...        414  \n",
       "3  [wow, surprised, first, bit, one, cooky, absol...        164  \n",
       "4  [wow, deal, taste, good, expensive, brand, def...         78  "
      ]
     },
     "execution_count": 111,
     "metadata": {},
     "output_type": "execute_result"
    }
   ],
   "source": [
    "def token_len(df1):\n",
    "    df1['Token_len'] = df1['Tokens'].apply(lambda x: len(str(x)))\n",
    "    return df1\n",
    "\n",
    "token_len(df)\n",
    "df.head()"
   ]
  },
  {
   "cell_type": "markdown",
   "metadata": {},
   "source": [
    "We shall vectorize the text using tfidf"
   ]
  },
  {
   "cell_type": "code",
   "execution_count": 115,
   "metadata": {},
   "outputs": [
    {
     "name": "stdout",
     "output_type": "stream",
     "text": [
      "\n",
      "TF-IDF matrix shape: (7658, 5000)\n",
      "       00  000  0mg   10  100  10th   11  110        12  120  ...  zevia  \\\n",
      "0     0.0  0.0  0.0  0.0  0.0   0.0  0.0  0.0  0.000000  0.0  ...    0.0   \n",
      "1     0.0  0.0  0.0  0.0  0.0   0.0  0.0  0.0  0.000000  0.0  ...    0.0   \n",
      "2     0.0  0.0  0.0  0.0  0.0   0.0  0.0  0.0  0.131463  0.0  ...    0.0   \n",
      "3     0.0  0.0  0.0  0.0  0.0   0.0  0.0  0.0  0.000000  0.0  ...    0.0   \n",
      "4     0.0  0.0  0.0  0.0  0.0   0.0  0.0  0.0  0.000000  0.0  ...    0.0   \n",
      "...   ...  ...  ...  ...  ...   ...  ...  ...       ...  ...  ...    ...   \n",
      "7653  0.0  0.0  0.0  0.0  0.0   0.0  0.0  0.0  0.000000  0.0  ...    0.0   \n",
      "7654  0.0  0.0  0.0  0.0  0.0   0.0  0.0  0.0  0.000000  0.0  ...    0.0   \n",
      "7655  0.0  0.0  0.0  0.0  0.0   0.0  0.0  0.0  0.000000  0.0  ...    0.0   \n",
      "7656  0.0  0.0  0.0  0.0  0.0   0.0  0.0  0.0  0.000000  0.0  ...    0.0   \n",
      "7657  0.0  0.0  0.0  0.0  0.0   0.0  0.0  0.0  0.000000  0.0  ...    0.0   \n",
      "\n",
      "      zico  zing  zip  zipfizz  ziploc  ziplock  zucchini  zuke  zukes  \n",
      "0      0.0   0.0  0.0      0.0     0.0      0.0       0.0   0.0    0.0  \n",
      "1      0.0   0.0  0.0      0.0     0.0      0.0       0.0   0.0    0.0  \n",
      "2      0.0   0.0  0.0      0.0     0.0      0.0       0.0   0.0    0.0  \n",
      "3      0.0   0.0  0.0      0.0     0.0      0.0       0.0   0.0    0.0  \n",
      "4      0.0   0.0  0.0      0.0     0.0      0.0       0.0   0.0    0.0  \n",
      "...    ...   ...  ...      ...     ...      ...       ...   ...    ...  \n",
      "7653   0.0   0.0  0.0      0.0     0.0      0.0       0.0   0.0    0.0  \n",
      "7654   0.0   0.0  0.0      0.0     0.0      0.0       0.0   0.0    0.0  \n",
      "7655   0.0   0.0  0.0      0.0     0.0      0.0       0.0   0.0    0.0  \n",
      "7656   0.0   0.0  0.0      0.0     0.0      0.0       0.0   0.0    0.0  \n",
      "7657   0.0   0.0  0.0      0.0     0.0      0.0       0.0   0.0    0.0  \n",
      "\n",
      "[7658 rows x 5000 columns]\n",
      "00          0.605380\n",
      "000         0.118901\n",
      "0mg         0.297206\n",
      "10          0.404259\n",
      "100         0.345350\n",
      "              ...   \n",
      "ziploc      0.347211\n",
      "ziplock     0.334622\n",
      "zucchini    0.480566\n",
      "zuke        0.420355\n",
      "zukes       0.375101\n",
      "Length: 5000, dtype: float64\n"
     ]
    }
   ],
   "source": [
    "from sklearn.feature_extraction.text import TfidfVectorizer\n",
    "# create the vectorizer\n",
    "vectorizer = TfidfVectorizer(max_features=5000, stop_words='english')  # adjust max_features as needed\n",
    "\n",
    "tfidf_matrix = vectorizer.fit_transform(df['Text'].astype(str))\n",
    "tfidf_df = pd.DataFrame(tfidf_matrix.toarray(), columns=vectorizer.get_feature_names_out())\n",
    "print(f\"\\nTF-IDF matrix shape: {tfidf_df.shape}\")\n",
    "print(tfidf_df)\n",
    "print(tfidf_df.max())"
   ]
  },
  {
   "cell_type": "code",
   "execution_count": null,
   "metadata": {},
   "outputs": [],
   "source": []
  }
 ],
 "metadata": {
  "kernelspec": {
   "display_name": "base",
   "language": "python",
   "name": "python3"
  },
  "language_info": {
   "codemirror_mode": {
    "name": "ipython",
    "version": 3
   },
   "file_extension": ".py",
   "mimetype": "text/x-python",
   "name": "python",
   "nbconvert_exporter": "python",
   "pygments_lexer": "ipython3",
   "version": "3.12.4"
  }
 },
 "nbformat": 4,
 "nbformat_minor": 2
}
