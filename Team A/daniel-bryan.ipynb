{
 "cells": [
  {
   "cell_type": "code",
   "execution_count": null,
   "metadata": {},
   "outputs": [
    {
     "name": "stderr",
     "output_type": "stream",
     "text": [
      "[nltk_data] Downloading package punkt to\n",
      "[nltk_data]     C:\\Users\\HP\\AppData\\Roaming\\nltk_data...\n",
      "[nltk_data]   Package punkt is already up-to-date!\n",
      "[nltk_data] Downloading package stopwords to\n",
      "[nltk_data]     C:\\Users\\HP\\AppData\\Roaming\\nltk_data...\n",
      "[nltk_data]   Package stopwords is already up-to-date!\n",
      "[nltk_data] Downloading package wordnet to\n",
      "[nltk_data]     C:\\Users\\HP\\AppData\\Roaming\\nltk_data...\n",
      "[nltk_data]   Package wordnet is already up-to-date!\n",
      "[nltk_data] Downloading package omw-1.4 to\n",
      "[nltk_data]     C:\\Users\\HP\\AppData\\Roaming\\nltk_data...\n",
      "[nltk_data]   Package omw-1.4 is already up-to-date!\n"
     ]
    },
    {
     "name": "stdout",
     "output_type": "stream",
     "text": [
      "                                                Text  \\\n",
      "0  My dog has been loving these chews for years! ...   \n",
      "1  I have a 6 year old westie that had the worst ...   \n",
      "2  I love Dr. McDougall's products, and this is m...   \n",
      "3  Wow, was I surprised when I first bit into one...   \n",
      "4  Wow what a deal. These taste just as good as t...   \n",
      "\n",
      "                                              Tokens  \n",
      "0  [dog, loving, chew, year, give, one, everyday,...  \n",
      "1  [year, old, westie, worst, food, allergy, coat...  \n",
      "2  [love, dr, mcdougall, product, favorite, insta...  \n",
      "3  [wow, surprised, first, bit, one, cooky, absol...  \n",
      "4  [wow, deal, taste, good, expensive, brand, def...  \n"
     ]
    }
   ],
   "source": [
    "import nltk\n",
    "import pandas as pd\n",
    "import re\n",
    "from nltk.tokenize import word_tokenize\n",
    "from nltk.corpus import stopwords\n",
    "from nltk.stem import WordNetLemmatizer\n",
    "nltk.download('punkt')\n",
    "nltk.download('stopwords')\n",
    "nltk.download('wordnet')\n",
    "nltk.download('omw-1.4')\n",
    "\n",
    "#initializing the stopwords and Lemmantization\n",
    "stop_words = set(stopwords.words('english'))\n",
    "lemmatizer = WordNetLemmatizer()\n",
    "\n",
    "df = pd.read_csv('reviews3.csv')\n",
    "\n",
    "def clean_and_tokenize(text):\n",
    "    \n",
    "    #converting to string format.\n",
    "    text = str(text)\n",
    "    #removing htmls if present.\n",
    "    text = re.sub(r\"<.*?>\", \" \", text) \n",
    "    #Removing url links.\n",
    "    text = re.sub(r\"http\\S+|www.\\S+\", \" \", text)\n",
    "    #removing non-alpha numeric characters.\n",
    "    text = re.sub(r\"[^a-zA-Z\\s]\", \" \", text) \n",
    "    #changing text to lowercase and fixing spaces.\n",
    "    text = re.sub(r\"\\s+\", \" \", text).strip().lower()\n",
    "    \n",
    "    #tokenizing and the lemmatizing after\n",
    "    tokens = word_tokenize(text)                        \n",
    "    tokens = [t for t in tokens if t not in stop_words] \n",
    "    tokens = [lemmatizer.lemmatize(t) for t in tokens] \n",
    "    \n",
    "    return tokens\n",
    "\n",
    "df['Tokens'] = df['Text'].apply(clean_and_tokenize)\n",
    "\n",
    "df.to_csv('cleaned_reviews.csv', index=False)\n",
    "\n",
    "# View sample\n",
    "print(df[['Text', 'Tokens']].head())"
   ]
  }
 ],
 "metadata": {
  "kernelspec": {
   "display_name": "base",
   "language": "python",
   "name": "python3"
  },
  "language_info": {
   "codemirror_mode": {
    "name": "ipython",
    "version": 3
   },
   "file_extension": ".py",
   "mimetype": "text/x-python",
   "name": "python",
   "nbconvert_exporter": "python",
   "pygments_lexer": "ipython3",
   "version": "3.12.4"
  }
 },
 "nbformat": 4,
 "nbformat_minor": 2
}
