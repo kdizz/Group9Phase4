{
 "cells": [
  {
   "cell_type": "code",
   "execution_count": 1,
   "metadata": {},
   "outputs": [
    {
     "name": "stderr",
     "output_type": "stream",
     "text": [
      "[nltk_data] Downloading package punkt to\n",
      "[nltk_data]     C:\\Users\\HP\\AppData\\Roaming\\nltk_data...\n",
      "[nltk_data]   Package punkt is already up-to-date!\n"
     ]
    },
    {
     "name": "stdout",
     "output_type": "stream",
     "text": [
      "                                                Text  \\\n",
      "0  My dog has been loving these chews for years! ...   \n",
      "1  I have a 6 year old westie that had the worst ...   \n",
      "2  I love Dr. McDougall's products, and this is m...   \n",
      "3  Wow, was I surprised when I first bit into one...   \n",
      "4  Wow what a deal. These taste just as good as t...   \n",
      "\n",
      "                                              Tokens  \n",
      "0  [my, dog, has, been, loving, these, chews, for...  \n",
      "1  [i, have, a, year, old, westie, that, had, the...  \n",
      "2  [i, love, dr, mcdougall, s, products, and, thi...  \n",
      "3  [wow, was, i, surprised, when, i, first, bit, ...  \n",
      "4  [wow, what, a, deal, these, taste, just, as, g...  \n"
     ]
    }
   ],
   "source": [
    "import nltk\n",
    "import pandas as pd\n",
    "import re\n",
    "nltk.download('punkt')\n",
    "from nltk.tokenize import word_tokenize\n",
    "\n",
    "df = pd.read_csv('reviews3.csv')\n",
    "def clean_and_tokenize(text):\n",
    "    text = str(text)\n",
    "    text = re.sub(r\"<.*?>\", \" \", text)\n",
    "    text = re.sub(r\"http\\S+|www.\\S+\", \" \", text)\n",
    "    text = re.sub(r\"[^a-zA-Z\\s]\", \" \", text)\n",
    "    text = re.sub(r\"\\s+\", \" \", text).strip().lower()\n",
    "    return word_tokenize(text) \n",
    "\n",
    "df['Tokens'] = df['Text'].apply(clean_and_tokenize)\n",
    "\n",
    "df.to_csv('cleaned_reviews.csv', index=False)\n",
    "\n",
    "# View sample\n",
    "print(df[['Text', 'Tokens']].head())"
   ]
  }
 ],
 "metadata": {
  "kernelspec": {
   "display_name": "base",
   "language": "python",
   "name": "python3"
  },
  "language_info": {
   "codemirror_mode": {
    "name": "ipython",
    "version": 3
   },
   "file_extension": ".py",
   "mimetype": "text/x-python",
   "name": "python",
   "nbconvert_exporter": "python",
   "pygments_lexer": "ipython3",
   "version": "3.12.4"
  }
 },
 "nbformat": 4,
 "nbformat_minor": 2
}
