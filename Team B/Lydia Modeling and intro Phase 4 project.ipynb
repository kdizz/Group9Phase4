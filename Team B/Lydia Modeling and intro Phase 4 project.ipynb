{
 "cells": [
  {
   "cell_type": "markdown",
   "metadata": {},
   "source": [
    "# \"Sentiment Analysis of Amazon Fine Food Reviews: Leveraging Customer Feedback to Improve Customer Satisfaction\""
   ]
  },
  {
   "cell_type": "markdown",
   "metadata": {},
   "source": [
    "Group 9 Members\n",
    "\n",
    "Daniel Ogando\n",
    "\n",
    "Joel Kioko\n",
    "\n",
    "Humphrey Matagaro\n",
    "\n",
    "Lydia Mangoa\n",
    "\n",
    "Christine Ambasa\n",
    "\n",
    "Bryan njogu\n"
   ]
  },
  {
   "cell_type": "markdown",
   "metadata": {},
   "source": [
    "# 1 Business Understanding"
   ]
  },
  {
   "cell_type": "markdown",
   "metadata": {},
   "source": [
    "## 1.1 Introduction\n",
    "The Amazon Fine Food Reviews Dataset contains over 500,000 reviews with textual data, ratings, timestamps, and product metadata. This dataset is ideal for sentiment analysis due to its rich textual content and structured ratings."
   ]
  },
  {
   "cell_type": "markdown",
   "metadata": {},
   "source": [
    "## 1.2 Problem Statement\n",
    "The rapid growth of e-marketplaces like Amazon has led to an enormous amount of customer-generated content,such as product reviews, ratings, and feedback. These reviews contain important information regarding customer feedback, likes, and dislikes that can directly affect business decisions like product improvements, marketing campaigns, and customer reach programs. However, it is not possible to manually analyze millions of reviews due to the vast amount of data and the unstructured nature of textual data.\n",
    "\n",
    "For food business firms, understanding customer sentiment regarding their products is critical to maintaining competitive advantage, product quality improvement, and customer satisfaction. The Amazon Fine Food Reviews Dataset, which comprises over 500,000 food product reviews, presents an opportunity to leverage cutting-edge Natural Language Processing (NLP) techniques to extract actionable insights from this unstructured text data."
   ]
  },
  {
   "cell_type": "markdown",
   "metadata": {},
   "source": [
    "## 1.3 Stakeholders\n",
    "1. E-commerce Sites: Amazon and other online shopping websites can use this model to measure customer satisfaction and improve the quality of the products.\n",
    "2. Product Manufacturers: Food businesses can employ sentiment analysis to identify areas of improvement in their products.\n",
    "3. Marketing Teams: Direct marketing campaigns and customer interaction policies can be informed through sentiment insights.\n",
    "4. Data Scientists: The project can be referenced for deploying sophisticated NLP techniques like BERT and text classification pipelines."
   ]
  },
  {
   "cell_type": "markdown",
   "metadata": {},
   "source": [
    "## 1.4 Business Impact\n",
    "1. Improved Product Quality: Finding negative comments informs restaurant owners of repeated problems in their products.\n",
    "2. Improved Customer Experience: Through customer sentiment analysis, organizations are able to customize services as per customer requirements.\n",
    "3. Data-Driven Decision Making: Sentiment analysis generates quantitative data for measuring customer satisfaction that enables more strategic decisions.\n",
    "4. Competitive Advantage: Firms which can analyze customer comments effectively can stand apart in the marketplace"
   ]
  },
  {
   "cell_type": "markdown",
   "metadata": {},
   "source": [
    "## 1.5 Objectives\n",
    "\n",
    "1. Create a robust sentiment analysis model using advanced Natural Language Processing (NLP) techniques for classifying customer reviews as positive or negative.\n",
    "2. Examine the performance of non-deep (Logistic Regression, Random Forest, Naive Bayes and XGboost) and deep learning models (TextCNN, DistilBERT).\n",
    "3. Address challenges such as class imbalance, high-dimensional text data, and computational efficiency.\n",
    "4. Provide actionable recommendations to businesses based on examining patterns in customer feedback."
   ]
  },
  {
   "cell_type": "markdown",
   "metadata": {},
   "source": [
    "## 1.6 Limitations\n",
    "1. Sentiment Classification: Automatically classifying reviews as \"positive\" or \"negative\" from text content and matching ratings.\n",
    "2. Class Imbalance: The dataset exhibits a skewed distribution of ratings, with a majority of positive reviews (70% of ratings are 4-5 stars), which may lead to biased model predictions.\n",
    "3. High Dimensionality: Text data is inherently high-dimensional, and preprocessing and feature engineering must be effective processes transforming it into a state suitable for machine learning models.\n"
   ]
  },
  {
   "cell_type": "markdown",
   "metadata": {},
   "source": [
    "## 1.7 Expected Outcomes\n",
    "1. A scalable pipeline for preprocessing and modeling textual data.\n",
    "2. A sentiment analysis model with high predictive accuracy and generalizability.\n",
    "3. Insights into customer sentiment trends that can inform business decisions.\n",
    "4. Recommendations for deploying the model in real-world applications, such as automated feedback systems or customer dashboards."
   ]
  },
  {
   "cell_type": "markdown",
   "metadata": {},
   "source": [
    "## 1.8 Data source\n",
    "https://www.kaggle.com/datasets/snap/amazon-fine-food-reviews?resource=download\n",
    "\n",
    "Given the large size of the Amazon Food Reviews dataset, which contains over 500,000 entries, the group performed random sampling to select a subset of 7,000 reviews for analysis in order to make the data more manageable and efficient to work with."
   ]
  },
  {
   "cell_type": "code",
   "execution_count": null,
   "metadata": {},
   "outputs": [
    {
     "name": "stderr",
     "output_type": "stream",
     "text": [
      "[nltk_data] Downloading package stopwords to\n",
      "[nltk_data]     C:\\Users\\USER\\AppData\\Roaming\\nltk_data...\n",
      "[nltk_data]   Package stopwords is already up-to-date!\n",
      "[nltk_data] Downloading package wordnet to\n",
      "[nltk_data]     C:\\Users\\USER\\AppData\\Roaming\\nltk_data...\n",
      "[nltk_data]   Package wordnet is already up-to-date!\n",
      "[nltk_data] Downloading package words to\n",
      "[nltk_data]     C:\\Users\\USER\\AppData\\Roaming\\nltk_data...\n",
      "[nltk_data]   Package words is already up-to-date!\n"
     ]
    }
   ],
   "source": [
    "# Data manipulation and plotting\n",
    "import pandas as pd\n",
    "import numpy as np\n",
    "import matplotlib.pyplot as plt\n",
    "import seaborn as sns\n",
    "import warnings\n",
    "warnings.filterwarnings('ignore')\n",
    "\n",
    "# Text processing\n",
    "import nltk\n",
    "import string\n",
    "from nltk.corpus import stopwords\n",
    "from nltk.stem.wordnet import WordNetLemmatizer\n",
    "from nltk.tokenize import RegexpTokenizer\n",
    "from nltk.stem import PorterStemmer\n",
    "import re\n",
    "nltk.download('stopwords')\n",
    "nltk.download('wordnet')\n",
    "nltk.download('words')\n",
    "\n",
    "# Preprocessing and Model-related\n",
    "from sklearn.feature_extraction.text import TfidfVectorizer\n",
    "from sklearn.model_selection import train_test_split\n",
    "from sklearn.naive_bayes import BernoulliNB, MultinomialNB\n",
    "from sklearn.svm import LinearSVC\n",
    "from sklearn.linear_model import LogisticRegression\n",
    "from tensorflow.keras.models import Model\n",
    "from tensorflow.keras.layers import Input, Embedding, Conv1D, GlobalMaxPooling1D, Dense, Dropout, Concatenate\n",
    "from tensorflow.keras.preprocessing.text import Tokenizer\n",
    "from tensorflow.keras.preprocessing.sequence import pad_sequences\n",
    "from sklearn.preprocessing import LabelEncoder\n",
    "from sklearn.model_selection import train_test_split\n",
    "from tensorflow.keras.models import Model\n",
    "from tensorflow.keras.layers import Input, Embedding, Conv1D, GlobalMaxPooling1D, Dense, Dropout, Concatenate\n",
    "from tensorflow.keras.preprocessing.sequence import pad_sequences\n",
    "from tensorflow.keras.models import Model\n",
    "from tensorflow.keras.layers import Input, Embedding, Conv1D, GlobalMaxPooling1D, Dense, Dropout, Concatenate\n",
    "from sklearn.metrics import confusion_matrix, classification_report, precision_score, recall_score, f1_score\n",
    "from sklearn.model_selection import train_test_split\n",
    "from sklearn.linear_model import LogisticRegression\n",
    "from sklearn.feature_extraction.text import CountVectorizer\n",
    "from sklearn.naive_bayes import MultinomialNB\n",
    "from sklearn.ensemble import RandomForestClassifier\n",
    "from transformers import DistilBertTokenizer, DistilBertForSequenceClassification\n",
    "from transformers import Trainer, TrainingArguments\n",
    "import torch\n",
    "from torch.utils.data import Dataset\n",
    "from sklearn.metrics import classification_report"
   ]
  },
  {
   "cell_type": "markdown",
   "metadata": {},
   "source": [
    "Phase 1 - A"
   ]
  },
  {
   "cell_type": "code",
   "execution_count": 2,
   "metadata": {},
   "outputs": [],
   "source": [
    "df = pd.read_csv('reviews3.csv')"
   ]
  },
  {
   "cell_type": "code",
   "execution_count": 3,
   "metadata": {},
   "outputs": [
    {
     "data": {
      "text/html": [
       "<div>\n",
       "<style scoped>\n",
       "    .dataframe tbody tr th:only-of-type {\n",
       "        vertical-align: middle;\n",
       "    }\n",
       "\n",
       "    .dataframe tbody tr th {\n",
       "        vertical-align: top;\n",
       "    }\n",
       "\n",
       "    .dataframe thead th {\n",
       "        text-align: right;\n",
       "    }\n",
       "</style>\n",
       "<table border=\"1\" class=\"dataframe\">\n",
       "  <thead>\n",
       "    <tr style=\"text-align: right;\">\n",
       "      <th></th>\n",
       "      <th>Id</th>\n",
       "      <th>ProductId</th>\n",
       "      <th>UserId</th>\n",
       "      <th>ProfileName</th>\n",
       "      <th>HelpfulnessNumerator</th>\n",
       "      <th>HelpfulnessDenominator</th>\n",
       "      <th>Score</th>\n",
       "      <th>Time</th>\n",
       "      <th>Summary</th>\n",
       "      <th>Text</th>\n",
       "    </tr>\n",
       "  </thead>\n",
       "  <tbody>\n",
       "    <tr>\n",
       "      <th>0</th>\n",
       "      <td>26249</td>\n",
       "      <td>B0007A0PX0</td>\n",
       "      <td>A239D6FZHF13QE</td>\n",
       "      <td>ABC MOM</td>\n",
       "      <td>1</td>\n",
       "      <td>1</td>\n",
       "      <td>5</td>\n",
       "      <td>1276560000</td>\n",
       "      <td>Very convenient!</td>\n",
       "      <td>This is not an instant tea mix.  This actually...</td>\n",
       "    </tr>\n",
       "    <tr>\n",
       "      <th>1</th>\n",
       "      <td>38295</td>\n",
       "      <td>B007R1PGVS</td>\n",
       "      <td>A1K6BWET4KNSL</td>\n",
       "      <td>S. Mayo</td>\n",
       "      <td>4</td>\n",
       "      <td>5</td>\n",
       "      <td>3</td>\n",
       "      <td>1250208000</td>\n",
       "      <td>Zipfizz</td>\n",
       "      <td>A friend's doctor recommended this to her for ...</td>\n",
       "    </tr>\n",
       "    <tr>\n",
       "      <th>2</th>\n",
       "      <td>28573</td>\n",
       "      <td>B0089SPEO2</td>\n",
       "      <td>A2VQO4Y1SH3TTQ</td>\n",
       "      <td>Elesix</td>\n",
       "      <td>0</td>\n",
       "      <td>0</td>\n",
       "      <td>5</td>\n",
       "      <td>1328140800</td>\n",
       "      <td>Tasty</td>\n",
       "      <td>It's tasty although they say \"a medley of oran...</td>\n",
       "    </tr>\n",
       "    <tr>\n",
       "      <th>3</th>\n",
       "      <td>10132</td>\n",
       "      <td>B003EML8PM</td>\n",
       "      <td>A2ZX2OEW7WL6G4</td>\n",
       "      <td>Brian K Thornton</td>\n",
       "      <td>0</td>\n",
       "      <td>0</td>\n",
       "      <td>4</td>\n",
       "      <td>1320364800</td>\n",
       "      <td>Pork Rinds</td>\n",
       "      <td>I'm diabetic and manage my weight and blood su...</td>\n",
       "    </tr>\n",
       "    <tr>\n",
       "      <th>4</th>\n",
       "      <td>49426</td>\n",
       "      <td>B000IHNCQO</td>\n",
       "      <td>A14WSF4X001KBM</td>\n",
       "      <td>tonid</td>\n",
       "      <td>0</td>\n",
       "      <td>0</td>\n",
       "      <td>1</td>\n",
       "      <td>1336348800</td>\n",
       "      <td>Gross</td>\n",
       "      <td>These were gross. It was like chomping down on...</td>\n",
       "    </tr>\n",
       "  </tbody>\n",
       "</table>\n",
       "</div>"
      ],
      "text/plain": [
       "      Id   ProductId          UserId       ProfileName  HelpfulnessNumerator  \\\n",
       "0  26249  B0007A0PX0  A239D6FZHF13QE           ABC MOM                     1   \n",
       "1  38295  B007R1PGVS   A1K6BWET4KNSL           S. Mayo                     4   \n",
       "2  28573  B0089SPEO2  A2VQO4Y1SH3TTQ            Elesix                     0   \n",
       "3  10132  B003EML8PM  A2ZX2OEW7WL6G4  Brian K Thornton                     0   \n",
       "4  49426  B000IHNCQO  A14WSF4X001KBM             tonid                     0   \n",
       "\n",
       "   HelpfulnessDenominator  Score        Time           Summary  \\\n",
       "0                       1      5  1276560000  Very convenient!   \n",
       "1                       5      3  1250208000           Zipfizz   \n",
       "2                       0      5  1328140800             Tasty   \n",
       "3                       0      4  1320364800        Pork Rinds   \n",
       "4                       0      1  1336348800             Gross   \n",
       "\n",
       "                                                Text  \n",
       "0  This is not an instant tea mix.  This actually...  \n",
       "1  A friend's doctor recommended this to her for ...  \n",
       "2  It's tasty although they say \"a medley of oran...  \n",
       "3  I'm diabetic and manage my weight and blood su...  \n",
       "4  These were gross. It was like chomping down on...  "
      ]
     },
     "execution_count": 3,
     "metadata": {},
     "output_type": "execute_result"
    }
   ],
   "source": [
    "df.head()"
   ]
  },
  {
   "cell_type": "code",
   "execution_count": 4,
   "metadata": {},
   "outputs": [
    {
     "name": "stdout",
     "output_type": "stream",
     "text": [
      "<class 'pandas.core.frame.DataFrame'>\n",
      "RangeIndex: 10556 entries, 0 to 10555\n",
      "Data columns (total 10 columns):\n",
      " #   Column                  Non-Null Count  Dtype \n",
      "---  ------                  --------------  ----- \n",
      " 0   Id                      10556 non-null  int64 \n",
      " 1   ProductId               10556 non-null  object\n",
      " 2   UserId                  10556 non-null  object\n",
      " 3   ProfileName             10556 non-null  object\n",
      " 4   HelpfulnessNumerator    10556 non-null  int64 \n",
      " 5   HelpfulnessDenominator  10556 non-null  int64 \n",
      " 6   Score                   10556 non-null  int64 \n",
      " 7   Time                    10556 non-null  int64 \n",
      " 8   Summary                 10555 non-null  object\n",
      " 9   Text                    10556 non-null  object\n",
      "dtypes: int64(5), object(5)\n",
      "memory usage: 824.8+ KB\n"
     ]
    }
   ],
   "source": [
    "df.info()"
   ]
  },
  {
   "cell_type": "code",
   "execution_count": 5,
   "metadata": {},
   "outputs": [
    {
     "data": {
      "text/html": [
       "<div>\n",
       "<style scoped>\n",
       "    .dataframe tbody tr th:only-of-type {\n",
       "        vertical-align: middle;\n",
       "    }\n",
       "\n",
       "    .dataframe tbody tr th {\n",
       "        vertical-align: top;\n",
       "    }\n",
       "\n",
       "    .dataframe thead th {\n",
       "        text-align: right;\n",
       "    }\n",
       "</style>\n",
       "<table border=\"1\" class=\"dataframe\">\n",
       "  <thead>\n",
       "    <tr style=\"text-align: right;\">\n",
       "      <th></th>\n",
       "      <th>Id</th>\n",
       "      <th>HelpfulnessNumerator</th>\n",
       "      <th>HelpfulnessDenominator</th>\n",
       "      <th>Score</th>\n",
       "      <th>Time</th>\n",
       "    </tr>\n",
       "  </thead>\n",
       "  <tbody>\n",
       "    <tr>\n",
       "      <th>count</th>\n",
       "      <td>10556.000000</td>\n",
       "      <td>10556.000000</td>\n",
       "      <td>10556.000000</td>\n",
       "      <td>10556.000000</td>\n",
       "      <td>1.055600e+04</td>\n",
       "    </tr>\n",
       "    <tr>\n",
       "      <th>mean</th>\n",
       "      <td>24916.887457</td>\n",
       "      <td>1.637647</td>\n",
       "      <td>2.114343</td>\n",
       "      <td>4.149204</td>\n",
       "      <td>1.294959e+09</td>\n",
       "    </tr>\n",
       "    <tr>\n",
       "      <th>std</th>\n",
       "      <td>14387.070744</td>\n",
       "      <td>5.524306</td>\n",
       "      <td>6.290436</td>\n",
       "      <td>1.329831</td>\n",
       "      <td>4.695672e+07</td>\n",
       "    </tr>\n",
       "    <tr>\n",
       "      <th>min</th>\n",
       "      <td>6.000000</td>\n",
       "      <td>0.000000</td>\n",
       "      <td>0.000000</td>\n",
       "      <td>1.000000</td>\n",
       "      <td>1.067645e+09</td>\n",
       "    </tr>\n",
       "    <tr>\n",
       "      <th>25%</th>\n",
       "      <td>12532.750000</td>\n",
       "      <td>0.000000</td>\n",
       "      <td>0.000000</td>\n",
       "      <td>4.000000</td>\n",
       "      <td>1.269130e+09</td>\n",
       "    </tr>\n",
       "    <tr>\n",
       "      <th>50%</th>\n",
       "      <td>24737.000000</td>\n",
       "      <td>0.000000</td>\n",
       "      <td>1.000000</td>\n",
       "      <td>5.000000</td>\n",
       "      <td>1.308269e+09</td>\n",
       "    </tr>\n",
       "    <tr>\n",
       "      <th>75%</th>\n",
       "      <td>37379.750000</td>\n",
       "      <td>2.000000</td>\n",
       "      <td>2.000000</td>\n",
       "      <td>5.000000</td>\n",
       "      <td>1.330387e+09</td>\n",
       "    </tr>\n",
       "    <tr>\n",
       "      <th>max</th>\n",
       "      <td>49997.000000</td>\n",
       "      <td>187.000000</td>\n",
       "      <td>216.000000</td>\n",
       "      <td>5.000000</td>\n",
       "      <td>1.351210e+09</td>\n",
       "    </tr>\n",
       "  </tbody>\n",
       "</table>\n",
       "</div>"
      ],
      "text/plain": [
       "                 Id  HelpfulnessNumerator  HelpfulnessDenominator  \\\n",
       "count  10556.000000          10556.000000            10556.000000   \n",
       "mean   24916.887457              1.637647                2.114343   \n",
       "std    14387.070744              5.524306                6.290436   \n",
       "min        6.000000              0.000000                0.000000   \n",
       "25%    12532.750000              0.000000                0.000000   \n",
       "50%    24737.000000              0.000000                1.000000   \n",
       "75%    37379.750000              2.000000                2.000000   \n",
       "max    49997.000000            187.000000              216.000000   \n",
       "\n",
       "              Score          Time  \n",
       "count  10556.000000  1.055600e+04  \n",
       "mean       4.149204  1.294959e+09  \n",
       "std        1.329831  4.695672e+07  \n",
       "min        1.000000  1.067645e+09  \n",
       "25%        4.000000  1.269130e+09  \n",
       "50%        5.000000  1.308269e+09  \n",
       "75%        5.000000  1.330387e+09  \n",
       "max        5.000000  1.351210e+09  "
      ]
     },
     "execution_count": 5,
     "metadata": {},
     "output_type": "execute_result"
    }
   ],
   "source": [
    "df.describe()"
   ]
  },
  {
   "cell_type": "code",
   "execution_count": 6,
   "metadata": {},
   "outputs": [
    {
     "data": {
      "text/plain": [
       "Id                        0\n",
       "ProductId                 0\n",
       "UserId                    0\n",
       "ProfileName               0\n",
       "HelpfulnessNumerator      0\n",
       "HelpfulnessDenominator    0\n",
       "Score                     0\n",
       "Time                      0\n",
       "Summary                   1\n",
       "Text                      0\n",
       "dtype: int64"
      ]
     },
     "execution_count": 6,
     "metadata": {},
     "output_type": "execute_result"
    }
   ],
   "source": [
    "df.isna().sum()"
   ]
  },
  {
   "cell_type": "code",
   "execution_count": 7,
   "metadata": {},
   "outputs": [
    {
     "data": {
      "text/plain": [
       "0"
      ]
     },
     "execution_count": 7,
     "metadata": {},
     "output_type": "execute_result"
    }
   ],
   "source": [
    "df.duplicated().sum()"
   ]
  },
  {
   "cell_type": "markdown",
   "metadata": {},
   "source": [
    "Phase 1 - B"
   ]
  },
  {
   "cell_type": "markdown",
   "metadata": {},
   "source": [
    "Distro of ratings"
   ]
  },
  {
   "cell_type": "code",
   "execution_count": 10,
   "metadata": {},
   "outputs": [],
   "source": [
    "#sns.barplot(df['Score'].value_counts())"
   ]
  },
  {
   "cell_type": "code",
   "execution_count": 11,
   "metadata": {},
   "outputs": [
    {
     "data": {
      "text/html": [
       "<div>\n",
       "<style scoped>\n",
       "    .dataframe tbody tr th:only-of-type {\n",
       "        vertical-align: middle;\n",
       "    }\n",
       "\n",
       "    .dataframe tbody tr th {\n",
       "        vertical-align: top;\n",
       "    }\n",
       "\n",
       "    .dataframe thead th {\n",
       "        text-align: right;\n",
       "    }\n",
       "</style>\n",
       "<table border=\"1\" class=\"dataframe\">\n",
       "  <thead>\n",
       "    <tr style=\"text-align: right;\">\n",
       "      <th></th>\n",
       "      <th>Id</th>\n",
       "      <th>ProductId</th>\n",
       "      <th>UserId</th>\n",
       "      <th>ProfileName</th>\n",
       "      <th>HelpfulnessNumerator</th>\n",
       "      <th>HelpfulnessDenominator</th>\n",
       "      <th>Score</th>\n",
       "      <th>Time</th>\n",
       "      <th>Summary</th>\n",
       "      <th>Text</th>\n",
       "    </tr>\n",
       "  </thead>\n",
       "  <tbody>\n",
       "    <tr>\n",
       "      <th>0</th>\n",
       "      <td>26249</td>\n",
       "      <td>B0007A0PX0</td>\n",
       "      <td>A239D6FZHF13QE</td>\n",
       "      <td>ABC MOM</td>\n",
       "      <td>1</td>\n",
       "      <td>1</td>\n",
       "      <td>5</td>\n",
       "      <td>1276560000</td>\n",
       "      <td>Very convenient!</td>\n",
       "      <td>This is not an instant tea mix.  This actually...</td>\n",
       "    </tr>\n",
       "    <tr>\n",
       "      <th>1</th>\n",
       "      <td>38295</td>\n",
       "      <td>B007R1PGVS</td>\n",
       "      <td>A1K6BWET4KNSL</td>\n",
       "      <td>S. Mayo</td>\n",
       "      <td>4</td>\n",
       "      <td>5</td>\n",
       "      <td>3</td>\n",
       "      <td>1250208000</td>\n",
       "      <td>Zipfizz</td>\n",
       "      <td>A friend's doctor recommended this to her for ...</td>\n",
       "    </tr>\n",
       "    <tr>\n",
       "      <th>2</th>\n",
       "      <td>28573</td>\n",
       "      <td>B0089SPEO2</td>\n",
       "      <td>A2VQO4Y1SH3TTQ</td>\n",
       "      <td>Elesix</td>\n",
       "      <td>0</td>\n",
       "      <td>0</td>\n",
       "      <td>5</td>\n",
       "      <td>1328140800</td>\n",
       "      <td>Tasty</td>\n",
       "      <td>It's tasty although they say \"a medley of oran...</td>\n",
       "    </tr>\n",
       "    <tr>\n",
       "      <th>3</th>\n",
       "      <td>10132</td>\n",
       "      <td>B003EML8PM</td>\n",
       "      <td>A2ZX2OEW7WL6G4</td>\n",
       "      <td>Brian K Thornton</td>\n",
       "      <td>0</td>\n",
       "      <td>0</td>\n",
       "      <td>4</td>\n",
       "      <td>1320364800</td>\n",
       "      <td>Pork Rinds</td>\n",
       "      <td>I'm diabetic and manage my weight and blood su...</td>\n",
       "    </tr>\n",
       "    <tr>\n",
       "      <th>4</th>\n",
       "      <td>49426</td>\n",
       "      <td>B000IHNCQO</td>\n",
       "      <td>A14WSF4X001KBM</td>\n",
       "      <td>tonid</td>\n",
       "      <td>0</td>\n",
       "      <td>0</td>\n",
       "      <td>1</td>\n",
       "      <td>1336348800</td>\n",
       "      <td>Gross</td>\n",
       "      <td>These were gross. It was like chomping down on...</td>\n",
       "    </tr>\n",
       "  </tbody>\n",
       "</table>\n",
       "</div>"
      ],
      "text/plain": [
       "      Id   ProductId          UserId       ProfileName  HelpfulnessNumerator  \\\n",
       "0  26249  B0007A0PX0  A239D6FZHF13QE           ABC MOM                     1   \n",
       "1  38295  B007R1PGVS   A1K6BWET4KNSL           S. Mayo                     4   \n",
       "2  28573  B0089SPEO2  A2VQO4Y1SH3TTQ            Elesix                     0   \n",
       "3  10132  B003EML8PM  A2ZX2OEW7WL6G4  Brian K Thornton                     0   \n",
       "4  49426  B000IHNCQO  A14WSF4X001KBM             tonid                     0   \n",
       "\n",
       "   HelpfulnessDenominator  Score        Time           Summary  \\\n",
       "0                       1      5  1276560000  Very convenient!   \n",
       "1                       5      3  1250208000           Zipfizz   \n",
       "2                       0      5  1328140800             Tasty   \n",
       "3                       0      4  1320364800        Pork Rinds   \n",
       "4                       0      1  1336348800             Gross   \n",
       "\n",
       "                                                Text  \n",
       "0  This is not an instant tea mix.  This actually...  \n",
       "1  A friend's doctor recommended this to her for ...  \n",
       "2  It's tasty although they say \"a medley of oran...  \n",
       "3  I'm diabetic and manage my weight and blood su...  \n",
       "4  These were gross. It was like chomping down on...  "
      ]
     },
     "execution_count": 11,
     "metadata": {},
     "output_type": "execute_result"
    }
   ],
   "source": [
    "df.head()"
   ]
  },
  {
   "cell_type": "markdown",
   "metadata": {},
   "source": [
    "Phase 2 - 1."
   ]
  },
  {
   "cell_type": "markdown",
   "metadata": {},
   "source": [
    "Next we need to clean and prepare the data "
   ]
  },
  {
   "cell_type": "markdown",
   "metadata": {},
   "source": [
    "We shall map the sentiment analysis to 3 classes;  negative, neutral, positve"
   ]
  },
  {
   "cell_type": "code",
   "execution_count": 12,
   "metadata": {},
   "outputs": [
    {
     "data": {
      "text/html": [
       "<div>\n",
       "<style scoped>\n",
       "    .dataframe tbody tr th:only-of-type {\n",
       "        vertical-align: middle;\n",
       "    }\n",
       "\n",
       "    .dataframe tbody tr th {\n",
       "        vertical-align: top;\n",
       "    }\n",
       "\n",
       "    .dataframe thead th {\n",
       "        text-align: right;\n",
       "    }\n",
       "</style>\n",
       "<table border=\"1\" class=\"dataframe\">\n",
       "  <thead>\n",
       "    <tr style=\"text-align: right;\">\n",
       "      <th></th>\n",
       "      <th>Id</th>\n",
       "      <th>ProductId</th>\n",
       "      <th>UserId</th>\n",
       "      <th>ProfileName</th>\n",
       "      <th>HelpfulnessNumerator</th>\n",
       "      <th>HelpfulnessDenominator</th>\n",
       "      <th>Score</th>\n",
       "      <th>Time</th>\n",
       "      <th>Summary</th>\n",
       "      <th>Text</th>\n",
       "      <th>Sentiment</th>\n",
       "    </tr>\n",
       "  </thead>\n",
       "  <tbody>\n",
       "    <tr>\n",
       "      <th>0</th>\n",
       "      <td>26249</td>\n",
       "      <td>B0007A0PX0</td>\n",
       "      <td>A239D6FZHF13QE</td>\n",
       "      <td>ABC MOM</td>\n",
       "      <td>1</td>\n",
       "      <td>1</td>\n",
       "      <td>5</td>\n",
       "      <td>1276560000</td>\n",
       "      <td>Very convenient!</td>\n",
       "      <td>This is not an instant tea mix.  This actually...</td>\n",
       "      <td>Positive</td>\n",
       "    </tr>\n",
       "    <tr>\n",
       "      <th>1</th>\n",
       "      <td>38295</td>\n",
       "      <td>B007R1PGVS</td>\n",
       "      <td>A1K6BWET4KNSL</td>\n",
       "      <td>S. Mayo</td>\n",
       "      <td>4</td>\n",
       "      <td>5</td>\n",
       "      <td>3</td>\n",
       "      <td>1250208000</td>\n",
       "      <td>Zipfizz</td>\n",
       "      <td>A friend's doctor recommended this to her for ...</td>\n",
       "      <td>Neutral</td>\n",
       "    </tr>\n",
       "    <tr>\n",
       "      <th>2</th>\n",
       "      <td>28573</td>\n",
       "      <td>B0089SPEO2</td>\n",
       "      <td>A2VQO4Y1SH3TTQ</td>\n",
       "      <td>Elesix</td>\n",
       "      <td>0</td>\n",
       "      <td>0</td>\n",
       "      <td>5</td>\n",
       "      <td>1328140800</td>\n",
       "      <td>Tasty</td>\n",
       "      <td>It's tasty although they say \"a medley of oran...</td>\n",
       "      <td>Positive</td>\n",
       "    </tr>\n",
       "    <tr>\n",
       "      <th>3</th>\n",
       "      <td>10132</td>\n",
       "      <td>B003EML8PM</td>\n",
       "      <td>A2ZX2OEW7WL6G4</td>\n",
       "      <td>Brian K Thornton</td>\n",
       "      <td>0</td>\n",
       "      <td>0</td>\n",
       "      <td>4</td>\n",
       "      <td>1320364800</td>\n",
       "      <td>Pork Rinds</td>\n",
       "      <td>I'm diabetic and manage my weight and blood su...</td>\n",
       "      <td>Positive</td>\n",
       "    </tr>\n",
       "    <tr>\n",
       "      <th>4</th>\n",
       "      <td>49426</td>\n",
       "      <td>B000IHNCQO</td>\n",
       "      <td>A14WSF4X001KBM</td>\n",
       "      <td>tonid</td>\n",
       "      <td>0</td>\n",
       "      <td>0</td>\n",
       "      <td>1</td>\n",
       "      <td>1336348800</td>\n",
       "      <td>Gross</td>\n",
       "      <td>These were gross. It was like chomping down on...</td>\n",
       "      <td>Negative</td>\n",
       "    </tr>\n",
       "  </tbody>\n",
       "</table>\n",
       "</div>"
      ],
      "text/plain": [
       "      Id   ProductId          UserId       ProfileName  HelpfulnessNumerator  \\\n",
       "0  26249  B0007A0PX0  A239D6FZHF13QE           ABC MOM                     1   \n",
       "1  38295  B007R1PGVS   A1K6BWET4KNSL           S. Mayo                     4   \n",
       "2  28573  B0089SPEO2  A2VQO4Y1SH3TTQ            Elesix                     0   \n",
       "3  10132  B003EML8PM  A2ZX2OEW7WL6G4  Brian K Thornton                     0   \n",
       "4  49426  B000IHNCQO  A14WSF4X001KBM             tonid                     0   \n",
       "\n",
       "   HelpfulnessDenominator  Score        Time           Summary  \\\n",
       "0                       1      5  1276560000  Very convenient!   \n",
       "1                       5      3  1250208000           Zipfizz   \n",
       "2                       0      5  1328140800             Tasty   \n",
       "3                       0      4  1320364800        Pork Rinds   \n",
       "4                       0      1  1336348800             Gross   \n",
       "\n",
       "                                                Text Sentiment  \n",
       "0  This is not an instant tea mix.  This actually...  Positive  \n",
       "1  A friend's doctor recommended this to her for ...   Neutral  \n",
       "2  It's tasty although they say \"a medley of oran...  Positive  \n",
       "3  I'm diabetic and manage my weight and blood su...  Positive  \n",
       "4  These were gross. It was like chomping down on...  Negative  "
      ]
     },
     "execution_count": 12,
     "metadata": {},
     "output_type": "execute_result"
    }
   ],
   "source": [
    "df['Sentiment'] = df['Score'].map({1: 'Negative', 2: 'Negative', 3: 'Neutral', 4: 'Positive', 5: 'Positive'})\n",
    "df.head()"
   ]
  },
  {
   "cell_type": "markdown",
   "metadata": {},
   "source": [
    "We shall do a len count for each review and create a new column for this."
   ]
  },
  {
   "cell_type": "code",
   "execution_count": 13,
   "metadata": {},
   "outputs": [
    {
     "data": {
      "text/html": [
       "<div>\n",
       "<style scoped>\n",
       "    .dataframe tbody tr th:only-of-type {\n",
       "        vertical-align: middle;\n",
       "    }\n",
       "\n",
       "    .dataframe tbody tr th {\n",
       "        vertical-align: top;\n",
       "    }\n",
       "\n",
       "    .dataframe thead th {\n",
       "        text-align: right;\n",
       "    }\n",
       "</style>\n",
       "<table border=\"1\" class=\"dataframe\">\n",
       "  <thead>\n",
       "    <tr style=\"text-align: right;\">\n",
       "      <th></th>\n",
       "      <th>Id</th>\n",
       "      <th>ProductId</th>\n",
       "      <th>UserId</th>\n",
       "      <th>ProfileName</th>\n",
       "      <th>HelpfulnessNumerator</th>\n",
       "      <th>HelpfulnessDenominator</th>\n",
       "      <th>Score</th>\n",
       "      <th>Time</th>\n",
       "      <th>Summary</th>\n",
       "      <th>Text</th>\n",
       "      <th>Sentiment</th>\n",
       "      <th>Review_len</th>\n",
       "    </tr>\n",
       "  </thead>\n",
       "  <tbody>\n",
       "    <tr>\n",
       "      <th>0</th>\n",
       "      <td>26249</td>\n",
       "      <td>B0007A0PX0</td>\n",
       "      <td>A239D6FZHF13QE</td>\n",
       "      <td>ABC MOM</td>\n",
       "      <td>1</td>\n",
       "      <td>1</td>\n",
       "      <td>5</td>\n",
       "      <td>1276560000</td>\n",
       "      <td>Very convenient!</td>\n",
       "      <td>This is not an instant tea mix.  This actually...</td>\n",
       "      <td>Positive</td>\n",
       "      <td>634</td>\n",
       "    </tr>\n",
       "    <tr>\n",
       "      <th>1</th>\n",
       "      <td>38295</td>\n",
       "      <td>B007R1PGVS</td>\n",
       "      <td>A1K6BWET4KNSL</td>\n",
       "      <td>S. Mayo</td>\n",
       "      <td>4</td>\n",
       "      <td>5</td>\n",
       "      <td>3</td>\n",
       "      <td>1250208000</td>\n",
       "      <td>Zipfizz</td>\n",
       "      <td>A friend's doctor recommended this to her for ...</td>\n",
       "      <td>Neutral</td>\n",
       "      <td>253</td>\n",
       "    </tr>\n",
       "    <tr>\n",
       "      <th>2</th>\n",
       "      <td>28573</td>\n",
       "      <td>B0089SPEO2</td>\n",
       "      <td>A2VQO4Y1SH3TTQ</td>\n",
       "      <td>Elesix</td>\n",
       "      <td>0</td>\n",
       "      <td>0</td>\n",
       "      <td>5</td>\n",
       "      <td>1328140800</td>\n",
       "      <td>Tasty</td>\n",
       "      <td>It's tasty although they say \"a medley of oran...</td>\n",
       "      <td>Positive</td>\n",
       "      <td>147</td>\n",
       "    </tr>\n",
       "    <tr>\n",
       "      <th>3</th>\n",
       "      <td>10132</td>\n",
       "      <td>B003EML8PM</td>\n",
       "      <td>A2ZX2OEW7WL6G4</td>\n",
       "      <td>Brian K Thornton</td>\n",
       "      <td>0</td>\n",
       "      <td>0</td>\n",
       "      <td>4</td>\n",
       "      <td>1320364800</td>\n",
       "      <td>Pork Rinds</td>\n",
       "      <td>I'm diabetic and manage my weight and blood su...</td>\n",
       "      <td>Positive</td>\n",
       "      <td>418</td>\n",
       "    </tr>\n",
       "    <tr>\n",
       "      <th>4</th>\n",
       "      <td>49426</td>\n",
       "      <td>B000IHNCQO</td>\n",
       "      <td>A14WSF4X001KBM</td>\n",
       "      <td>tonid</td>\n",
       "      <td>0</td>\n",
       "      <td>0</td>\n",
       "      <td>1</td>\n",
       "      <td>1336348800</td>\n",
       "      <td>Gross</td>\n",
       "      <td>These were gross. It was like chomping down on...</td>\n",
       "      <td>Negative</td>\n",
       "      <td>125</td>\n",
       "    </tr>\n",
       "  </tbody>\n",
       "</table>\n",
       "</div>"
      ],
      "text/plain": [
       "      Id   ProductId          UserId       ProfileName  HelpfulnessNumerator  \\\n",
       "0  26249  B0007A0PX0  A239D6FZHF13QE           ABC MOM                     1   \n",
       "1  38295  B007R1PGVS   A1K6BWET4KNSL           S. Mayo                     4   \n",
       "2  28573  B0089SPEO2  A2VQO4Y1SH3TTQ            Elesix                     0   \n",
       "3  10132  B003EML8PM  A2ZX2OEW7WL6G4  Brian K Thornton                     0   \n",
       "4  49426  B000IHNCQO  A14WSF4X001KBM             tonid                     0   \n",
       "\n",
       "   HelpfulnessDenominator  Score        Time           Summary  \\\n",
       "0                       1      5  1276560000  Very convenient!   \n",
       "1                       5      3  1250208000           Zipfizz   \n",
       "2                       0      5  1328140800             Tasty   \n",
       "3                       0      4  1320364800        Pork Rinds   \n",
       "4                       0      1  1336348800             Gross   \n",
       "\n",
       "                                                Text Sentiment  Review_len  \n",
       "0  This is not an instant tea mix.  This actually...  Positive         634  \n",
       "1  A friend's doctor recommended this to her for ...   Neutral         253  \n",
       "2  It's tasty although they say \"a medley of oran...  Positive         147  \n",
       "3  I'm diabetic and manage my weight and blood su...  Positive         418  \n",
       "4  These were gross. It was like chomping down on...  Negative         125  "
      ]
     },
     "execution_count": 13,
     "metadata": {},
     "output_type": "execute_result"
    }
   ],
   "source": [
    "def review_len(df1):\n",
    "    df1['Review_len'] = df1['Text'].apply(lambda x: len(str(x)))\n",
    "    return df1\n",
    "\n",
    "review_len(df)\n",
    "df.head()"
   ]
  },
  {
   "cell_type": "code",
   "execution_count": 2,
   "metadata": {},
   "outputs": [],
   "source": [
    "#initializing the stopwords and Lemmantization\n",
    "stop_words = set(stopwords.words('english'))\n",
    "lemmatizer = WordNetLemmatizer()\n",
    "\n",
    "\n",
    "\n"
   ]
  },
  {
   "cell_type": "markdown",
   "metadata": {},
   "source": []
  },
  {
   "cell_type": "code",
   "execution_count": 16,
   "metadata": {},
   "outputs": [
    {
     "name": "stdout",
     "output_type": "stream",
     "text": [
      "                                                Text  \\\n",
      "0  This is not an instant tea mix.  This actually...   \n",
      "1  A friend's doctor recommended this to her for ...   \n",
      "2  It's tasty although they say \"a medley of oran...   \n",
      "3  I'm diabetic and manage my weight and blood su...   \n",
      "4  These were gross. It was like chomping down on...   \n",
      "\n",
      "                                              Tokens  \n",
      "0  [instant, tea, mix, actually, powdered, green,...  \n",
      "1  [friend, doctor, recommended, weight, loss, ba...  \n",
      "2  [tasty, although, say, medley, orange, mingled...  \n",
      "3  [diabetic, manage, weight, blood, sugar, level...  \n",
      "4  [gross, like, chomping, chunk, salt, regret, w...  \n"
     ]
    }
   ],
   "source": [
    "def clean_and_tokenize(text):\n",
    "    \n",
    "    text = str(text)\n",
    "    #removing htmls if present.\n",
    "    text = re.sub(r\"<.*?>\", \" \", text) \n",
    "    #Removing url links.\n",
    "    text = re.sub(r\"http\\S+|www.\\S+\", \" \", text)\n",
    "    #removing non-alpha numeric characters.\n",
    "    text = re.sub(r\"[^a-zA-Z\\s]\", \" \", text) \n",
    "    #changing text to lowercase and fixing spaces.\n",
    "    text = re.sub(r\"\\s+\", \" \", text).strip().lower()\n",
    "    \n",
    "    #tokenizing and the lemmatizing after\n",
    "    tokens = word_tokenize(text)                        \n",
    "    tokens = [t for t in tokens if t not in stop_words] \n",
    "    tokens = [lemmatizer.lemmatize(t) for t in tokens] \n",
    "    \n",
    "    return tokens\n",
    "\n",
    "df['Tokens'] = df['Text'].apply(clean_and_tokenize)\n",
    "\n",
    "print(df[['Text', 'Tokens']].head())"
   ]
  },
  {
   "cell_type": "code",
   "execution_count": 17,
   "metadata": {},
   "outputs": [
    {
     "data": {
      "text/plain": [
       "'To be returned to take note'"
      ]
     },
     "execution_count": 17,
     "metadata": {},
     "output_type": "execute_result"
    }
   ],
   "source": [
    "'''To be returned to take note'''\n",
    "#df.to_csv('cleaned_reviews.csv', index=False)\n",
    "\n"
   ]
  },
  {
   "cell_type": "markdown",
   "metadata": {},
   "source": [
    "We shall do a len count for each tokenized review and create a new column for this."
   ]
  },
  {
   "cell_type": "code",
   "execution_count": 18,
   "metadata": {},
   "outputs": [
    {
     "data": {
      "text/html": [
       "<div>\n",
       "<style scoped>\n",
       "    .dataframe tbody tr th:only-of-type {\n",
       "        vertical-align: middle;\n",
       "    }\n",
       "\n",
       "    .dataframe tbody tr th {\n",
       "        vertical-align: top;\n",
       "    }\n",
       "\n",
       "    .dataframe thead th {\n",
       "        text-align: right;\n",
       "    }\n",
       "</style>\n",
       "<table border=\"1\" class=\"dataframe\">\n",
       "  <thead>\n",
       "    <tr style=\"text-align: right;\">\n",
       "      <th></th>\n",
       "      <th>Id</th>\n",
       "      <th>ProductId</th>\n",
       "      <th>UserId</th>\n",
       "      <th>ProfileName</th>\n",
       "      <th>HelpfulnessNumerator</th>\n",
       "      <th>HelpfulnessDenominator</th>\n",
       "      <th>Score</th>\n",
       "      <th>Time</th>\n",
       "      <th>Summary</th>\n",
       "      <th>Text</th>\n",
       "      <th>Sentiment</th>\n",
       "      <th>Review_len</th>\n",
       "      <th>Tokens</th>\n",
       "      <th>Token_len</th>\n",
       "    </tr>\n",
       "  </thead>\n",
       "  <tbody>\n",
       "    <tr>\n",
       "      <th>0</th>\n",
       "      <td>26249</td>\n",
       "      <td>B0007A0PX0</td>\n",
       "      <td>A239D6FZHF13QE</td>\n",
       "      <td>ABC MOM</td>\n",
       "      <td>1</td>\n",
       "      <td>1</td>\n",
       "      <td>5</td>\n",
       "      <td>1276560000</td>\n",
       "      <td>Very convenient!</td>\n",
       "      <td>This is not an instant tea mix.  This actually...</td>\n",
       "      <td>Positive</td>\n",
       "      <td>634</td>\n",
       "      <td>[instant, tea, mix, actually, powdered, green,...</td>\n",
       "      <td>570</td>\n",
       "    </tr>\n",
       "    <tr>\n",
       "      <th>1</th>\n",
       "      <td>38295</td>\n",
       "      <td>B007R1PGVS</td>\n",
       "      <td>A1K6BWET4KNSL</td>\n",
       "      <td>S. Mayo</td>\n",
       "      <td>4</td>\n",
       "      <td>5</td>\n",
       "      <td>3</td>\n",
       "      <td>1250208000</td>\n",
       "      <td>Zipfizz</td>\n",
       "      <td>A friend's doctor recommended this to her for ...</td>\n",
       "      <td>Neutral</td>\n",
       "      <td>253</td>\n",
       "      <td>[friend, doctor, recommended, weight, loss, ba...</td>\n",
       "      <td>200</td>\n",
       "    </tr>\n",
       "    <tr>\n",
       "      <th>2</th>\n",
       "      <td>28573</td>\n",
       "      <td>B0089SPEO2</td>\n",
       "      <td>A2VQO4Y1SH3TTQ</td>\n",
       "      <td>Elesix</td>\n",
       "      <td>0</td>\n",
       "      <td>0</td>\n",
       "      <td>5</td>\n",
       "      <td>1328140800</td>\n",
       "      <td>Tasty</td>\n",
       "      <td>It's tasty although they say \"a medley of oran...</td>\n",
       "      <td>Positive</td>\n",
       "      <td>147</td>\n",
       "      <td>[tasty, although, say, medley, orange, mingled...</td>\n",
       "      <td>142</td>\n",
       "    </tr>\n",
       "    <tr>\n",
       "      <th>3</th>\n",
       "      <td>10132</td>\n",
       "      <td>B003EML8PM</td>\n",
       "      <td>A2ZX2OEW7WL6G4</td>\n",
       "      <td>Brian K Thornton</td>\n",
       "      <td>0</td>\n",
       "      <td>0</td>\n",
       "      <td>4</td>\n",
       "      <td>1320364800</td>\n",
       "      <td>Pork Rinds</td>\n",
       "      <td>I'm diabetic and manage my weight and blood su...</td>\n",
       "      <td>Positive</td>\n",
       "      <td>418</td>\n",
       "      <td>[diabetic, manage, weight, blood, sugar, level...</td>\n",
       "      <td>390</td>\n",
       "    </tr>\n",
       "    <tr>\n",
       "      <th>4</th>\n",
       "      <td>49426</td>\n",
       "      <td>B000IHNCQO</td>\n",
       "      <td>A14WSF4X001KBM</td>\n",
       "      <td>tonid</td>\n",
       "      <td>0</td>\n",
       "      <td>0</td>\n",
       "      <td>1</td>\n",
       "      <td>1336348800</td>\n",
       "      <td>Gross</td>\n",
       "      <td>These were gross. It was like chomping down on...</td>\n",
       "      <td>Negative</td>\n",
       "      <td>125</td>\n",
       "      <td>[gross, like, chomping, chunk, salt, regret, w...</td>\n",
       "      <td>98</td>\n",
       "    </tr>\n",
       "  </tbody>\n",
       "</table>\n",
       "</div>"
      ],
      "text/plain": [
       "      Id   ProductId          UserId       ProfileName  HelpfulnessNumerator  \\\n",
       "0  26249  B0007A0PX0  A239D6FZHF13QE           ABC MOM                     1   \n",
       "1  38295  B007R1PGVS   A1K6BWET4KNSL           S. Mayo                     4   \n",
       "2  28573  B0089SPEO2  A2VQO4Y1SH3TTQ            Elesix                     0   \n",
       "3  10132  B003EML8PM  A2ZX2OEW7WL6G4  Brian K Thornton                     0   \n",
       "4  49426  B000IHNCQO  A14WSF4X001KBM             tonid                     0   \n",
       "\n",
       "   HelpfulnessDenominator  Score        Time           Summary  \\\n",
       "0                       1      5  1276560000  Very convenient!   \n",
       "1                       5      3  1250208000           Zipfizz   \n",
       "2                       0      5  1328140800             Tasty   \n",
       "3                       0      4  1320364800        Pork Rinds   \n",
       "4                       0      1  1336348800             Gross   \n",
       "\n",
       "                                                Text Sentiment  Review_len  \\\n",
       "0  This is not an instant tea mix.  This actually...  Positive         634   \n",
       "1  A friend's doctor recommended this to her for ...   Neutral         253   \n",
       "2  It's tasty although they say \"a medley of oran...  Positive         147   \n",
       "3  I'm diabetic and manage my weight and blood su...  Positive         418   \n",
       "4  These were gross. It was like chomping down on...  Negative         125   \n",
       "\n",
       "                                              Tokens  Token_len  \n",
       "0  [instant, tea, mix, actually, powdered, green,...        570  \n",
       "1  [friend, doctor, recommended, weight, loss, ba...        200  \n",
       "2  [tasty, although, say, medley, orange, mingled...        142  \n",
       "3  [diabetic, manage, weight, blood, sugar, level...        390  \n",
       "4  [gross, like, chomping, chunk, salt, regret, w...         98  "
      ]
     },
     "execution_count": 18,
     "metadata": {},
     "output_type": "execute_result"
    }
   ],
   "source": [
    "def token_len(df1):\n",
    "    df1['Token_len'] = df1['Tokens'].apply(lambda x: len(str(x)))\n",
    "    return df1\n",
    "\n",
    "token_len(df)\n",
    "df.head()"
   ]
  },
  {
   "cell_type": "markdown",
   "metadata": {},
   "source": [
    "We shall vectorize the text using tfidf"
   ]
  },
  {
   "cell_type": "code",
   "execution_count": null,
   "metadata": {},
   "outputs": [
    {
     "name": "stdout",
     "output_type": "stream",
     "text": [
      "\n",
      "TF-IDF matrix shape: (10556, 5000)\n",
      "             00  000   0g   10  100  10th   11  110        12  120  ...  zero  \\\n",
      "0      0.000000  0.0  0.0  0.0  0.0   0.0  0.0  0.0  0.000000  0.0  ...   0.0   \n",
      "1      0.000000  0.0  0.0  0.0  0.0   0.0  0.0  0.0  0.000000  0.0  ...   0.0   \n",
      "2      0.000000  0.0  0.0  0.0  0.0   0.0  0.0  0.0  0.000000  0.0  ...   0.0   \n",
      "3      0.000000  0.0  0.0  0.0  0.0   0.0  0.0  0.0  0.000000  0.0  ...   0.0   \n",
      "4      0.000000  0.0  0.0  0.0  0.0   0.0  0.0  0.0  0.000000  0.0  ...   0.0   \n",
      "...         ...  ...  ...  ...  ...   ...  ...  ...       ...  ...  ...   ...   \n",
      "10551  0.000000  0.0  0.0  0.0  0.0   0.0  0.0  0.0  0.000000  0.0  ...   0.0   \n",
      "10552  0.000000  0.0  0.0  0.0  0.0   0.0  0.0  0.0  0.000000  0.0  ...   0.0   \n",
      "10553  0.000000  0.0  0.0  0.0  0.0   0.0  0.0  0.0  0.000000  0.0  ...   0.0   \n",
      "10554  0.154121  0.0  0.0  0.0  0.0   0.0  0.0  0.0  0.000000  0.0  ...   0.0   \n",
      "10555  0.000000  0.0  0.0  0.0  0.0   0.0  0.0  0.0  0.062071  0.0  ...   0.0   \n",
      "\n",
      "       zesty  zico  zing  zip  zipfizz  ziploc  ziplock  zucchini  zuke  \n",
      "0        0.0   0.0   0.0  0.0      0.0     0.0      0.0       0.0   0.0  \n",
      "1        0.0   0.0   0.0  0.0      0.0     0.0      0.0       0.0   0.0  \n",
      "2        0.0   0.0   0.0  0.0      0.0     0.0      0.0       0.0   0.0  \n",
      "3        0.0   0.0   0.0  0.0      0.0     0.0      0.0       0.0   0.0  \n",
      "4        0.0   0.0   0.0  0.0      0.0     0.0      0.0       0.0   0.0  \n",
      "...      ...   ...   ...  ...      ...     ...      ...       ...   ...  \n",
      "10551    0.0   0.0   0.0  0.0      0.0     0.0      0.0       0.0   0.0  \n",
      "10552    0.0   0.0   0.0  0.0      0.0     0.0      0.0       0.0   0.0  \n",
      "10553    0.0   0.0   0.0  0.0      0.0     0.0      0.0       0.0   0.0  \n",
      "10554    0.0   0.0   0.0  0.0      0.0     0.0      0.0       0.0   0.0  \n",
      "10555    0.0   0.0   0.0  0.0      0.0     0.0      0.0       0.0   0.0  \n",
      "\n",
      "[10556 rows x 5000 columns]\n",
      "00          0.605660\n",
      "000         0.364850\n",
      "0g          0.147842\n",
      "10          0.401723\n",
      "100         0.346971\n",
      "              ...   \n",
      "zipfizz     0.512481\n",
      "ziploc      0.368198\n",
      "ziplock     0.334472\n",
      "zucchini    0.482940\n",
      "zuke        0.457464\n",
      "Length: 5000, dtype: float64\n"
     ]
    }
   ],
   "source": [
    "\n",
    "# create the vectorizer\n",
    "vectorizer = TfidfVectorizer(max_features=5000, stop_words='english')  # adjust max_features as needed\n",
    "\n",
    "tfidf_matrix = vectorizer.fit_transform(df['Text'].astype(str))\n",
    "tfidf_df = pd.DataFrame(tfidf_matrix.toarray(), columns=vectorizer.get_feature_names_out())\n",
    "print(f\"\\nTF-IDF matrix shape: {tfidf_df.shape}\")\n",
    "print(tfidf_df)\n",
    "print(tfidf_df.max())"
   ]
  },
  {
   "cell_type": "code",
   "execution_count": null,
   "metadata": {},
   "outputs": [],
   "source": [
    "MAX_SEQUENCE_LENGTH = 100  \n",
    "MAX_VOCAB_SIZE = 10000     \n",
    "embedding_dim = 100       \n",
    "\n",
    "tokenizer = Tokenizer(num_words=MAX_VOCAB_SIZE)\n",
    "tokenizer.fit_on_texts(df['Text'])\n",
    "sequences = tokenizer.texts_to_sequences(df['Text'])\n",
    "\n",
    "\n",
    "X = pad_sequences(sequences, maxlen=MAX_SEQUENCE_LENGTH, padding='post')\n",
    "\n",
    "\n",
    "label_encoder = LabelEncoder()\n",
    "y = label_encoder.fit_transform(df['Sentiment'])  \n",
    "y = np.eye(len(label_encoder.classes_))[y]  \n",
    "\n",
    "\n",
    "X_train, X_temp, y_train, y_temp = train_test_split(X, y, test_size=0.2, random_state=42)  # 80% training, 20% temp\n",
    "X_val, X_test, y_val, y_test = train_test_split(X_temp, y_temp, test_size=0.5, random_state=42)  # Split temp into 10% validation, 10% test\n"
   ]
  },
  {
   "cell_type": "code",
   "execution_count": null,
   "metadata": {},
   "outputs": [
    {
     "name": "stderr",
     "output_type": "stream",
     "text": [
      "c:\\Users\\USER\\anaconda3\\Lib\\site-packages\\keras\\src\\layers\\core\\embedding.py:90: UserWarning: Argument `input_length` is deprecated. Just remove it.\n",
      "  warnings.warn(\n"
     ]
    },
    {
     "data": {
      "text/html": [
       "<pre style=\"white-space:pre;overflow-x:auto;line-height:normal;font-family:Menlo,'DejaVu Sans Mono',consolas,'Courier New',monospace\"><span style=\"font-weight: bold\">Model: \"functional\"</span>\n",
       "</pre>\n"
      ],
      "text/plain": [
       "\u001b[1mModel: \"functional\"\u001b[0m\n"
      ]
     },
     "metadata": {},
     "output_type": "display_data"
    },
    {
     "data": {
      "text/html": [
       "<pre style=\"white-space:pre;overflow-x:auto;line-height:normal;font-family:Menlo,'DejaVu Sans Mono',consolas,'Courier New',monospace\">┏━━━━━━━━━━━━━━━━━━━━━┳━━━━━━━━━━━━━━━━━━━┳━━━━━━━━━━━━┳━━━━━━━━━━━━━━━━━━━┓\n",
       "┃<span style=\"font-weight: bold\"> Layer (type)        </span>┃<span style=\"font-weight: bold\"> Output Shape      </span>┃<span style=\"font-weight: bold\">    Param # </span>┃<span style=\"font-weight: bold\"> Connected to      </span>┃\n",
       "┡━━━━━━━━━━━━━━━━━━━━━╇━━━━━━━━━━━━━━━━━━━╇━━━━━━━━━━━━╇━━━━━━━━━━━━━━━━━━━┩\n",
       "│ input_layer         │ (<span style=\"color: #00d7ff; text-decoration-color: #00d7ff\">None</span>, <span style=\"color: #00af00; text-decoration-color: #00af00\">100</span>)       │          <span style=\"color: #00af00; text-decoration-color: #00af00\">0</span> │ -                 │\n",
       "│ (<span style=\"color: #0087ff; text-decoration-color: #0087ff\">InputLayer</span>)        │                   │            │                   │\n",
       "├─────────────────────┼───────────────────┼────────────┼───────────────────┤\n",
       "│ embedding           │ (<span style=\"color: #00d7ff; text-decoration-color: #00d7ff\">None</span>, <span style=\"color: #00af00; text-decoration-color: #00af00\">100</span>, <span style=\"color: #00af00; text-decoration-color: #00af00\">100</span>)  │  <span style=\"color: #00af00; text-decoration-color: #00af00\">1,000,000</span> │ input_layer[<span style=\"color: #00af00; text-decoration-color: #00af00\">0</span>][<span style=\"color: #00af00; text-decoration-color: #00af00\">0</span>] │\n",
       "│ (<span style=\"color: #0087ff; text-decoration-color: #0087ff\">Embedding</span>)         │                   │            │                   │\n",
       "├─────────────────────┼───────────────────┼────────────┼───────────────────┤\n",
       "│ conv1d (<span style=\"color: #0087ff; text-decoration-color: #0087ff\">Conv1D</span>)     │ (<span style=\"color: #00d7ff; text-decoration-color: #00d7ff\">None</span>, <span style=\"color: #00af00; text-decoration-color: #00af00\">98</span>, <span style=\"color: #00af00; text-decoration-color: #00af00\">128</span>)   │     <span style=\"color: #00af00; text-decoration-color: #00af00\">38,528</span> │ embedding[<span style=\"color: #00af00; text-decoration-color: #00af00\">0</span>][<span style=\"color: #00af00; text-decoration-color: #00af00\">0</span>]   │\n",
       "├─────────────────────┼───────────────────┼────────────┼───────────────────┤\n",
       "│ conv1d_1 (<span style=\"color: #0087ff; text-decoration-color: #0087ff\">Conv1D</span>)   │ (<span style=\"color: #00d7ff; text-decoration-color: #00d7ff\">None</span>, <span style=\"color: #00af00; text-decoration-color: #00af00\">97</span>, <span style=\"color: #00af00; text-decoration-color: #00af00\">128</span>)   │     <span style=\"color: #00af00; text-decoration-color: #00af00\">51,328</span> │ embedding[<span style=\"color: #00af00; text-decoration-color: #00af00\">0</span>][<span style=\"color: #00af00; text-decoration-color: #00af00\">0</span>]   │\n",
       "├─────────────────────┼───────────────────┼────────────┼───────────────────┤\n",
       "│ conv1d_2 (<span style=\"color: #0087ff; text-decoration-color: #0087ff\">Conv1D</span>)   │ (<span style=\"color: #00d7ff; text-decoration-color: #00d7ff\">None</span>, <span style=\"color: #00af00; text-decoration-color: #00af00\">96</span>, <span style=\"color: #00af00; text-decoration-color: #00af00\">128</span>)   │     <span style=\"color: #00af00; text-decoration-color: #00af00\">64,128</span> │ embedding[<span style=\"color: #00af00; text-decoration-color: #00af00\">0</span>][<span style=\"color: #00af00; text-decoration-color: #00af00\">0</span>]   │\n",
       "├─────────────────────┼───────────────────┼────────────┼───────────────────┤\n",
       "│ global_max_pooling… │ (<span style=\"color: #00d7ff; text-decoration-color: #00d7ff\">None</span>, <span style=\"color: #00af00; text-decoration-color: #00af00\">128</span>)       │          <span style=\"color: #00af00; text-decoration-color: #00af00\">0</span> │ conv1d[<span style=\"color: #00af00; text-decoration-color: #00af00\">0</span>][<span style=\"color: #00af00; text-decoration-color: #00af00\">0</span>]      │\n",
       "│ (<span style=\"color: #0087ff; text-decoration-color: #0087ff\">GlobalMaxPooling1…</span> │                   │            │                   │\n",
       "├─────────────────────┼───────────────────┼────────────┼───────────────────┤\n",
       "│ global_max_pooling… │ (<span style=\"color: #00d7ff; text-decoration-color: #00d7ff\">None</span>, <span style=\"color: #00af00; text-decoration-color: #00af00\">128</span>)       │          <span style=\"color: #00af00; text-decoration-color: #00af00\">0</span> │ conv1d_1[<span style=\"color: #00af00; text-decoration-color: #00af00\">0</span>][<span style=\"color: #00af00; text-decoration-color: #00af00\">0</span>]    │\n",
       "│ (<span style=\"color: #0087ff; text-decoration-color: #0087ff\">GlobalMaxPooling1…</span> │                   │            │                   │\n",
       "├─────────────────────┼───────────────────┼────────────┼───────────────────┤\n",
       "│ global_max_pooling… │ (<span style=\"color: #00d7ff; text-decoration-color: #00d7ff\">None</span>, <span style=\"color: #00af00; text-decoration-color: #00af00\">128</span>)       │          <span style=\"color: #00af00; text-decoration-color: #00af00\">0</span> │ conv1d_2[<span style=\"color: #00af00; text-decoration-color: #00af00\">0</span>][<span style=\"color: #00af00; text-decoration-color: #00af00\">0</span>]    │\n",
       "│ (<span style=\"color: #0087ff; text-decoration-color: #0087ff\">GlobalMaxPooling1…</span> │                   │            │                   │\n",
       "├─────────────────────┼───────────────────┼────────────┼───────────────────┤\n",
       "│ concatenate         │ (<span style=\"color: #00d7ff; text-decoration-color: #00d7ff\">None</span>, <span style=\"color: #00af00; text-decoration-color: #00af00\">384</span>)       │          <span style=\"color: #00af00; text-decoration-color: #00af00\">0</span> │ global_max_pooli… │\n",
       "│ (<span style=\"color: #0087ff; text-decoration-color: #0087ff\">Concatenate</span>)       │                   │            │ global_max_pooli… │\n",
       "│                     │                   │            │ global_max_pooli… │\n",
       "├─────────────────────┼───────────────────┼────────────┼───────────────────┤\n",
       "│ dropout (<span style=\"color: #0087ff; text-decoration-color: #0087ff\">Dropout</span>)   │ (<span style=\"color: #00d7ff; text-decoration-color: #00d7ff\">None</span>, <span style=\"color: #00af00; text-decoration-color: #00af00\">384</span>)       │          <span style=\"color: #00af00; text-decoration-color: #00af00\">0</span> │ concatenate[<span style=\"color: #00af00; text-decoration-color: #00af00\">0</span>][<span style=\"color: #00af00; text-decoration-color: #00af00\">0</span>] │\n",
       "├─────────────────────┼───────────────────┼────────────┼───────────────────┤\n",
       "│ dense (<span style=\"color: #0087ff; text-decoration-color: #0087ff\">Dense</span>)       │ (<span style=\"color: #00d7ff; text-decoration-color: #00d7ff\">None</span>, <span style=\"color: #00af00; text-decoration-color: #00af00\">3</span>)         │      <span style=\"color: #00af00; text-decoration-color: #00af00\">1,155</span> │ dropout[<span style=\"color: #00af00; text-decoration-color: #00af00\">0</span>][<span style=\"color: #00af00; text-decoration-color: #00af00\">0</span>]     │\n",
       "└─────────────────────┴───────────────────┴────────────┴───────────────────┘\n",
       "</pre>\n"
      ],
      "text/plain": [
       "┏━━━━━━━━━━━━━━━━━━━━━┳━━━━━━━━━━━━━━━━━━━┳━━━━━━━━━━━━┳━━━━━━━━━━━━━━━━━━━┓\n",
       "┃\u001b[1m \u001b[0m\u001b[1mLayer (type)       \u001b[0m\u001b[1m \u001b[0m┃\u001b[1m \u001b[0m\u001b[1mOutput Shape     \u001b[0m\u001b[1m \u001b[0m┃\u001b[1m \u001b[0m\u001b[1m   Param #\u001b[0m\u001b[1m \u001b[0m┃\u001b[1m \u001b[0m\u001b[1mConnected to     \u001b[0m\u001b[1m \u001b[0m┃\n",
       "┡━━━━━━━━━━━━━━━━━━━━━╇━━━━━━━━━━━━━━━━━━━╇━━━━━━━━━━━━╇━━━━━━━━━━━━━━━━━━━┩\n",
       "│ input_layer         │ (\u001b[38;5;45mNone\u001b[0m, \u001b[38;5;34m100\u001b[0m)       │          \u001b[38;5;34m0\u001b[0m │ -                 │\n",
       "│ (\u001b[38;5;33mInputLayer\u001b[0m)        │                   │            │                   │\n",
       "├─────────────────────┼───────────────────┼────────────┼───────────────────┤\n",
       "│ embedding           │ (\u001b[38;5;45mNone\u001b[0m, \u001b[38;5;34m100\u001b[0m, \u001b[38;5;34m100\u001b[0m)  │  \u001b[38;5;34m1,000,000\u001b[0m │ input_layer[\u001b[38;5;34m0\u001b[0m][\u001b[38;5;34m0\u001b[0m] │\n",
       "│ (\u001b[38;5;33mEmbedding\u001b[0m)         │                   │            │                   │\n",
       "├─────────────────────┼───────────────────┼────────────┼───────────────────┤\n",
       "│ conv1d (\u001b[38;5;33mConv1D\u001b[0m)     │ (\u001b[38;5;45mNone\u001b[0m, \u001b[38;5;34m98\u001b[0m, \u001b[38;5;34m128\u001b[0m)   │     \u001b[38;5;34m38,528\u001b[0m │ embedding[\u001b[38;5;34m0\u001b[0m][\u001b[38;5;34m0\u001b[0m]   │\n",
       "├─────────────────────┼───────────────────┼────────────┼───────────────────┤\n",
       "│ conv1d_1 (\u001b[38;5;33mConv1D\u001b[0m)   │ (\u001b[38;5;45mNone\u001b[0m, \u001b[38;5;34m97\u001b[0m, \u001b[38;5;34m128\u001b[0m)   │     \u001b[38;5;34m51,328\u001b[0m │ embedding[\u001b[38;5;34m0\u001b[0m][\u001b[38;5;34m0\u001b[0m]   │\n",
       "├─────────────────────┼───────────────────┼────────────┼───────────────────┤\n",
       "│ conv1d_2 (\u001b[38;5;33mConv1D\u001b[0m)   │ (\u001b[38;5;45mNone\u001b[0m, \u001b[38;5;34m96\u001b[0m, \u001b[38;5;34m128\u001b[0m)   │     \u001b[38;5;34m64,128\u001b[0m │ embedding[\u001b[38;5;34m0\u001b[0m][\u001b[38;5;34m0\u001b[0m]   │\n",
       "├─────────────────────┼───────────────────┼────────────┼───────────────────┤\n",
       "│ global_max_pooling… │ (\u001b[38;5;45mNone\u001b[0m, \u001b[38;5;34m128\u001b[0m)       │          \u001b[38;5;34m0\u001b[0m │ conv1d[\u001b[38;5;34m0\u001b[0m][\u001b[38;5;34m0\u001b[0m]      │\n",
       "│ (\u001b[38;5;33mGlobalMaxPooling1…\u001b[0m │                   │            │                   │\n",
       "├─────────────────────┼───────────────────┼────────────┼───────────────────┤\n",
       "│ global_max_pooling… │ (\u001b[38;5;45mNone\u001b[0m, \u001b[38;5;34m128\u001b[0m)       │          \u001b[38;5;34m0\u001b[0m │ conv1d_1[\u001b[38;5;34m0\u001b[0m][\u001b[38;5;34m0\u001b[0m]    │\n",
       "│ (\u001b[38;5;33mGlobalMaxPooling1…\u001b[0m │                   │            │                   │\n",
       "├─────────────────────┼───────────────────┼────────────┼───────────────────┤\n",
       "│ global_max_pooling… │ (\u001b[38;5;45mNone\u001b[0m, \u001b[38;5;34m128\u001b[0m)       │          \u001b[38;5;34m0\u001b[0m │ conv1d_2[\u001b[38;5;34m0\u001b[0m][\u001b[38;5;34m0\u001b[0m]    │\n",
       "│ (\u001b[38;5;33mGlobalMaxPooling1…\u001b[0m │                   │            │                   │\n",
       "├─────────────────────┼───────────────────┼────────────┼───────────────────┤\n",
       "│ concatenate         │ (\u001b[38;5;45mNone\u001b[0m, \u001b[38;5;34m384\u001b[0m)       │          \u001b[38;5;34m0\u001b[0m │ global_max_pooli… │\n",
       "│ (\u001b[38;5;33mConcatenate\u001b[0m)       │                   │            │ global_max_pooli… │\n",
       "│                     │                   │            │ global_max_pooli… │\n",
       "├─────────────────────┼───────────────────┼────────────┼───────────────────┤\n",
       "│ dropout (\u001b[38;5;33mDropout\u001b[0m)   │ (\u001b[38;5;45mNone\u001b[0m, \u001b[38;5;34m384\u001b[0m)       │          \u001b[38;5;34m0\u001b[0m │ concatenate[\u001b[38;5;34m0\u001b[0m][\u001b[38;5;34m0\u001b[0m] │\n",
       "├─────────────────────┼───────────────────┼────────────┼───────────────────┤\n",
       "│ dense (\u001b[38;5;33mDense\u001b[0m)       │ (\u001b[38;5;45mNone\u001b[0m, \u001b[38;5;34m3\u001b[0m)         │      \u001b[38;5;34m1,155\u001b[0m │ dropout[\u001b[38;5;34m0\u001b[0m][\u001b[38;5;34m0\u001b[0m]     │\n",
       "└─────────────────────┴───────────────────┴────────────┴───────────────────┘\n"
      ]
     },
     "metadata": {},
     "output_type": "display_data"
    },
    {
     "data": {
      "text/html": [
       "<pre style=\"white-space:pre;overflow-x:auto;line-height:normal;font-family:Menlo,'DejaVu Sans Mono',consolas,'Courier New',monospace\"><span style=\"font-weight: bold\"> Total params: </span><span style=\"color: #00af00; text-decoration-color: #00af00\">1,155,139</span> (4.41 MB)\n",
       "</pre>\n"
      ],
      "text/plain": [
       "\u001b[1m Total params: \u001b[0m\u001b[38;5;34m1,155,139\u001b[0m (4.41 MB)\n"
      ]
     },
     "metadata": {},
     "output_type": "display_data"
    },
    {
     "data": {
      "text/html": [
       "<pre style=\"white-space:pre;overflow-x:auto;line-height:normal;font-family:Menlo,'DejaVu Sans Mono',consolas,'Courier New',monospace\"><span style=\"font-weight: bold\"> Trainable params: </span><span style=\"color: #00af00; text-decoration-color: #00af00\">1,155,139</span> (4.41 MB)\n",
       "</pre>\n"
      ],
      "text/plain": [
       "\u001b[1m Trainable params: \u001b[0m\u001b[38;5;34m1,155,139\u001b[0m (4.41 MB)\n"
      ]
     },
     "metadata": {},
     "output_type": "display_data"
    },
    {
     "data": {
      "text/html": [
       "<pre style=\"white-space:pre;overflow-x:auto;line-height:normal;font-family:Menlo,'DejaVu Sans Mono',consolas,'Courier New',monospace\"><span style=\"font-weight: bold\"> Non-trainable params: </span><span style=\"color: #00af00; text-decoration-color: #00af00\">0</span> (0.00 B)\n",
       "</pre>\n"
      ],
      "text/plain": [
       "\u001b[1m Non-trainable params: \u001b[0m\u001b[38;5;34m0\u001b[0m (0.00 B)\n"
      ]
     },
     "metadata": {},
     "output_type": "display_data"
    }
   ],
   "source": [
    "MAX_SEQUENCE_LENGTH = 100  \n",
    "MAX_VOCAB_SIZE = 10000     \n",
    "embedding_dim = 100        \n",
    "\n",
    "input_layer = Input(shape=(MAX_SEQUENCE_LENGTH,))\n",
    "\n",
    "\n",
    "embedding_layer = Embedding(input_dim=MAX_VOCAB_SIZE, output_dim=embedding_dim, input_length=MAX_SEQUENCE_LENGTH)(input_layer)\n",
    "\n",
    "conv_3 = Conv1D(filters=128, kernel_size=3, activation='relu')(embedding_layer)\n",
    "conv_4 = Conv1D(filters=128, kernel_size=4, activation='relu')(embedding_layer)\n",
    "conv_5 = Conv1D(filters=128, kernel_size=5, activation='relu')(embedding_layer)\n",
    "\n",
    "pool_3 = GlobalMaxPooling1D()(conv_3)\n",
    "pool_4 = GlobalMaxPooling1D()(conv_4)\n",
    "pool_5 = GlobalMaxPooling1D()(conv_5)\n",
    "\n",
    "concat = Concatenate()([pool_3, pool_4, pool_5])\n",
    "\n",
    "dropout = Dropout(0.5)(concat)\n",
    "\n",
    "\n",
    "output = Dense(3, activation='softmax')(dropout)\n",
    "\n",
    "model = Model(inputs=input_layer, outputs=output)\n",
    "model.compile(loss='categorical_crossentropy', optimizer='adam', metrics=['accuracy'])\n",
    "\n",
    "model.summary()"
   ]
  },
  {
   "cell_type": "code",
   "execution_count": 32,
   "metadata": {},
   "outputs": [
    {
     "name": "stdout",
     "output_type": "stream",
     "text": [
      "Epoch 1/5\n",
      "\u001b[1m119/119\u001b[0m \u001b[32m━━━━━━━━━━━━━━━━━━━━\u001b[0m\u001b[37m\u001b[0m \u001b[1m21s\u001b[0m 111ms/step - accuracy: 0.7089 - loss: 0.7726 - val_accuracy: 0.8000 - val_loss: 0.5299\n",
      "Epoch 2/5\n",
      "\u001b[1m119/119\u001b[0m \u001b[32m━━━━━━━━━━━━━━━━━━━━\u001b[0m\u001b[37m\u001b[0m \u001b[1m14s\u001b[0m 117ms/step - accuracy: 0.7908 - loss: 0.5436 - val_accuracy: 0.8615 - val_loss: 0.3991\n",
      "Epoch 3/5\n",
      "\u001b[1m119/119\u001b[0m \u001b[32m━━━━━━━━━━━━━━━━━━━━\u001b[0m\u001b[37m\u001b[0m \u001b[1m15s\u001b[0m 128ms/step - accuracy: 0.8550 - loss: 0.3796 - val_accuracy: 0.8521 - val_loss: 0.3871\n",
      "Epoch 4/5\n",
      "\u001b[1m119/119\u001b[0m \u001b[32m━━━━━━━━━━━━━━━━━━━━\u001b[0m\u001b[37m\u001b[0m \u001b[1m13s\u001b[0m 108ms/step - accuracy: 0.9039 - loss: 0.2591 - val_accuracy: 0.8521 - val_loss: 0.4177\n",
      "Epoch 5/5\n",
      "\u001b[1m119/119\u001b[0m \u001b[32m━━━━━━━━━━━━━━━━━━━━\u001b[0m\u001b[37m\u001b[0m \u001b[1m12s\u001b[0m 96ms/step - accuracy: 0.9421 - loss: 0.1781 - val_accuracy: 0.8533 - val_loss: 0.4556\n"
     ]
    }
   ],
   "source": [
    "#Train the model\n",
    "history = model.fit(X_train, y_train, validation_split=0.1, epochs=5, batch_size=64)\n"
   ]
  },
  {
   "cell_type": "code",
   "execution_count": null,
   "metadata": {},
   "outputs": [
    {
     "name": "stdout",
     "output_type": "stream",
     "text": [
      "TextCNN Accuracy: 0.8191\n",
      "TextCNN Loss: 0.5579\n",
      "\u001b[1m33/33\u001b[0m \u001b[32m━━━━━━━━━━━━━━━━━━━━\u001b[0m\u001b[37m\u001b[0m \u001b[1m1s\u001b[0m 17ms/step\n",
      "\n",
      "Additional Metrics:\n",
      "Precision: 0.7836\n",
      "Recall: 0.8191\n",
      "F1-Score: 0.7919\n",
      "\n",
      "Classification Report:\n",
      "              precision    recall  f1-score   support\n",
      "\n",
      "           0       0.65      0.56      0.60       167\n",
      "           1       0.36      0.09      0.15        88\n",
      "           2       0.86      0.95      0.90       801\n",
      "\n",
      "    accuracy                           0.82      1056\n",
      "   macro avg       0.63      0.53      0.55      1056\n",
      "weighted avg       0.78      0.82      0.79      1056\n",
      "\n"
     ]
    },
    {
     "data": {
      "image/png": "[encoded data removed]",
      "text/plain": [
       "<Figure size 800x600 with 2 Axes>"
      ]
     },
     "metadata": {},
     "output_type": "display_data"
    }
   ],
   "source": [
    "loss, acc = model.evaluate(X_test, y_test, verbose=0)  \n",
    "print(f\"TextCNN Accuracy: {acc:.4f}\")\n",
    "print(f\"TextCNN Loss: {loss:.4f}\")\n",
    "\n",
    "y_pred_probs = model.predict(X_test)  \n",
    "y_pred = np.argmax(y_pred_probs, axis=1)   \n",
    "\n",
    "\n",
    "y_true = np.argmax(y_test, axis=1)  \n",
    "\n",
    "\n",
    "precision = precision_score(y_true, y_pred, average='weighted')  \n",
    "recall = recall_score(y_true, y_pred, average='weighted')       \n",
    "f1 = f1_score(y_true, y_pred, average='weighted')                \n",
    "\n",
    "print(\"\\nAdditional Metrics:\")\n",
    "print(f\"Precision: {precision:.4f}\")\n",
    "print(f\"Recall: {recall:.4f}\")\n",
    "print(f\"F1-Score: {f1:.4f}\")\n",
    "\n",
    "print(\"\\nClassification Report:\")\n",
    "print(classification_report(y_true, y_pred))\n",
    "\n",
    "cm = confusion_matrix(y_true, y_pred)\n",
    "\n",
    "plt.figure(figsize=(8, 6))\n",
    "sns.heatmap(cm, annot=True, fmt='d', cmap='Blues', xticklabels=['Class 0', 'Class 1', 'Class 2'], \n",
    "            yticklabels=['Class 0', 'Class 1', 'Class 2'])\n",
    "plt.ylabel('Actual')\n",
    "plt.xlabel('Predicted')\n",
    "plt.title('Confusion Matrix')\n",
    "plt.show()"
   ]
  },
  {
   "cell_type": "markdown",
   "metadata": {},
   "source": [
    "TextCNN shows good overall performance with accuracy 0.82 and weighted F1-score 0.79, reflecting a generally consistent balance between precision (0.78) and recall (0.82). The classification report, however, shows that performance is quite different across classes. Class 2 is notable with high metrics—precision (0.86), recall (0.95), and F1-score (0.90)—implying the model performs extremely well in detecting and correctly classifying instances from this class. Class 1, however, exhibits strong weakness with low precision (0.36), very low recall (0.09), and resultant F1-score of merely 0.15, which represents the inability of the model to classify true occurrences of this class. Class 0 is moderately weak with lower balanced precision (0.65) and recall (0.56), with the resultant F1-score of 0.60. The macro averages—precision (0.63), recall (0.53), and F1-score (0.55)—show the disparity in class-wise performance. The relatively high loss value of 0.5346 also suggests that while the model is overall good, particularly for Class 2, there are some points for improvement, most importantly in enhancing recall for the poorly performing classes like Class 1, potentially through class rebalancing, improved feature representation, or model tuning."
   ]
  },
  {
   "cell_type": "code",
   "execution_count": null,
   "metadata": {},
   "outputs": [
    {
     "name": "stdout",
     "output_type": "stream",
     "text": [
      "Logistic Regression Classification Report:\n",
      "              precision    recall  f1-score   support\n",
      "\n",
      "    Negative       0.72      0.44      0.54       319\n",
      "     Neutral       0.36      0.03      0.05       168\n",
      "    Positive       0.84      0.98      0.90      1625\n",
      "\n",
      "    accuracy                           0.82      2112\n",
      "   macro avg       0.64      0.48      0.50      2112\n",
      "weighted avg       0.78      0.82      0.78      2112\n",
      "\n"
     ]
    },
    {
     "data": {
      "image/png": "[encoded data removed]",
      "text/plain": [
       "<Figure size 800x600 with 2 Axes>"
      ]
     },
     "metadata": {},
     "output_type": "display_data"
    }
   ],
   "source": [
    "# Encode the target labels\n",
    "label_encoder = LabelEncoder()\n",
    "df['Sentiment_Encoded'] = label_encoder.fit_transform(df['Sentiment'])\n",
    "\n",
    "# Train/test split\n",
    "X_tfidf_train, X_tfidf_test, y_tfidf_train, y_tfidf_test = train_test_split(\n",
    "    tfidf_df, df['Sentiment_Encoded'], test_size=0.2, random_state=42\n",
    ")\n",
    "\n",
    "# Train Logistic Regression\n",
    "logreg = LogisticRegression(max_iter=1000)\n",
    "logreg.fit(X_tfidf_train, y_tfidf_train)\n",
    "\n",
    "# Predict\n",
    "y_pred_logreg = logreg.predict(X_tfidf_test)\n",
    "\n",
    "# Classification Report\n",
    "print(\"Logistic Regression Classification Report:\")\n",
    "print(classification_report(y_tfidf_test, y_pred_logreg, target_names=label_encoder.classes_))\n",
    "\n",
    "# Confusion Matrix\n",
    "cm = confusion_matrix(y_tfidf_test, y_pred_logreg)\n",
    "\n",
    "# Plot Confusion Matrix\n",
    "plt.figure(figsize=(8, 6))\n",
    "sns.heatmap(cm, annot=True, fmt='d', cmap='Blues',\n",
    "            xticklabels=label_encoder.classes_,\n",
    "            yticklabels=label_encoder.classes_)\n",
    "plt.xlabel('Predicted')\n",
    "plt.ylabel('Actual')\n",
    "plt.title('Confusion Matrix - Logistic Regression')\n",
    "plt.show()\n"
   ]
  },
  {
   "cell_type": "markdown",
   "metadata": {},
   "source": [
    "The logistic regression model demonstrates excellent performance for the majority class (`Positive`), with high precision (0.84) and recall (0.98), reflecting its ability to accurately identify and predict this majority class, which is comprised of 1,625 samples. The model's performance significantly deteriorates for the minority classes. For `Negative`, the model possesses moderate precision (0.72) but low recall (0.43), reflecting a high false negative rate. The `Neutral` class performs the poorest, with ghastly accuracy (0.31), recall (0.02), and F1-score (0.04), likely due to its minimal size of only 168 cases compared to the dominating number of `Positive`. The macro average F1-score (0.49) and weighted average F1-score (0.78) are measures that indicate the overall bad performance of the model on all classes and hide these issues by assigning significant weight to the majority class. This imbalance reflects the need for techniques such as resampling, class weighting, or employing algorithms more suited to imbalanced data to improve the model's ability to handle minority classes better."
   ]
  }
 ],
 "metadata": {
  "kernelspec": {
   "display_name": "base",
   "language": "python",
   "name": "python3"
  },
  "language_info": {
   "codemirror_mode": {
    "name": "ipython",
    "version": 3
   },
   "file_extension": ".py",
   "mimetype": "text/x-python",
   "name": "python",
   "nbconvert_exporter": "python",
   "pygments_lexer": "ipython3",
   "version": "3.11.7"
  }
 },
 "nbformat": 4,
 "nbformat_minor": 2
}
