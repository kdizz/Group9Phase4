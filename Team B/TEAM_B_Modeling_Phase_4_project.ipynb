{
  "cells": [
    {
      "cell_type": "code",
      "execution_count": 1,
      "metadata": {
        "id": "rHhBF9QL4orO"
      },
      "outputs": [],
      "source": [
        "import pandas as pd\n",
        "import numpy as np\n",
        "import matplotlib.pyplot as plt\n",
        "import seaborn as sns"
      ]
    },
    {
      "cell_type": "markdown",
      "metadata": {
        "id": "ZwfoXjBM4orR"
      },
      "source": [
        "Phase 1 - A"
      ]
    },
    {
      "cell_type": "code",
      "execution_count": 2,
      "metadata": {
        "id": "UvNlJ64R4orS"
      },
      "outputs": [],
      "source": [
        "df = pd.read_csv('reviews3.csv')"
      ]
    },
    {
      "cell_type": "code",
      "execution_count": 3,
      "metadata": {
        "colab": {
          "base_uri": "https://localhost:8080/",
          "height": 521
        },
        "id": "RkJTcQn34orT",
        "outputId": "826f0e5b-bc87-4795-cf77-6c1233f6eb5d"
      },
      "outputs": [
        {
          "data": {
            "text/html": [
              "<div>\n",
              "<style scoped>\n",
              "    .dataframe tbody tr th:only-of-type {\n",
              "        vertical-align: middle;\n",
              "    }\n",
              "\n",
              "    .dataframe tbody tr th {\n",
              "        vertical-align: top;\n",
              "    }\n",
              "\n",
              "    .dataframe thead th {\n",
              "        text-align: right;\n",
              "    }\n",
              "</style>\n",
              "<table border=\"1\" class=\"dataframe\">\n",
              "  <thead>\n",
              "    <tr style=\"text-align: right;\">\n",
              "      <th></th>\n",
              "      <th>Id</th>\n",
              "      <th>ProductId</th>\n",
              "      <th>UserId</th>\n",
              "      <th>ProfileName</th>\n",
              "      <th>HelpfulnessNumerator</th>\n",
              "      <th>HelpfulnessDenominator</th>\n",
              "      <th>Score</th>\n",
              "      <th>Time</th>\n",
              "      <th>Summary</th>\n",
              "      <th>Text</th>\n",
              "    </tr>\n",
              "  </thead>\n",
              "  <tbody>\n",
              "    <tr>\n",
              "      <th>0</th>\n",
              "      <td>26249</td>\n",
              "      <td>B0007A0PX0</td>\n",
              "      <td>A239D6FZHF13QE</td>\n",
              "      <td>ABC MOM</td>\n",
              "      <td>1</td>\n",
              "      <td>1</td>\n",
              "      <td>5</td>\n",
              "      <td>1276560000</td>\n",
              "      <td>Very convenient!</td>\n",
              "      <td>This is not an instant tea mix.  This actually...</td>\n",
              "    </tr>\n",
              "    <tr>\n",
              "      <th>1</th>\n",
              "      <td>38295</td>\n",
              "      <td>B007R1PGVS</td>\n",
              "      <td>A1K6BWET4KNSL</td>\n",
              "      <td>S. Mayo</td>\n",
              "      <td>4</td>\n",
              "      <td>5</td>\n",
              "      <td>3</td>\n",
              "      <td>1250208000</td>\n",
              "      <td>Zipfizz</td>\n",
              "      <td>A friend's doctor recommended this to her for ...</td>\n",
              "    </tr>\n",
              "    <tr>\n",
              "      <th>2</th>\n",
              "      <td>28573</td>\n",
              "      <td>B0089SPEO2</td>\n",
              "      <td>A2VQO4Y1SH3TTQ</td>\n",
              "      <td>Elesix</td>\n",
              "      <td>0</td>\n",
              "      <td>0</td>\n",
              "      <td>5</td>\n",
              "      <td>1328140800</td>\n",
              "      <td>Tasty</td>\n",
              "      <td>It's tasty although they say \"a medley of oran...</td>\n",
              "    </tr>\n",
              "    <tr>\n",
              "      <th>3</th>\n",
              "      <td>10132</td>\n",
              "      <td>B003EML8PM</td>\n",
              "      <td>A2ZX2OEW7WL6G4</td>\n",
              "      <td>Brian K Thornton</td>\n",
              "      <td>0</td>\n",
              "      <td>0</td>\n",
              "      <td>4</td>\n",
              "      <td>1320364800</td>\n",
              "      <td>Pork Rinds</td>\n",
              "      <td>I'm diabetic and manage my weight and blood su...</td>\n",
              "    </tr>\n",
              "    <tr>\n",
              "      <th>4</th>\n",
              "      <td>49426</td>\n",
              "      <td>B000IHNCQO</td>\n",
              "      <td>A14WSF4X001KBM</td>\n",
              "      <td>tonid</td>\n",
              "      <td>0</td>\n",
              "      <td>0</td>\n",
              "      <td>1</td>\n",
              "      <td>1336348800</td>\n",
              "      <td>Gross</td>\n",
              "      <td>These were gross. It was like chomping down on...</td>\n",
              "    </tr>\n",
              "  </tbody>\n",
              "</table>\n",
              "</div>"
            ],
            "text/plain": [
              "      Id   ProductId          UserId       ProfileName  HelpfulnessNumerator  \\\n",
              "0  26249  B0007A0PX0  A239D6FZHF13QE           ABC MOM                     1   \n",
              "1  38295  B007R1PGVS   A1K6BWET4KNSL           S. Mayo                     4   \n",
              "2  28573  B0089SPEO2  A2VQO4Y1SH3TTQ            Elesix                     0   \n",
              "3  10132  B003EML8PM  A2ZX2OEW7WL6G4  Brian K Thornton                     0   \n",
              "4  49426  B000IHNCQO  A14WSF4X001KBM             tonid                     0   \n",
              "\n",
              "   HelpfulnessDenominator  Score        Time           Summary  \\\n",
              "0                       1      5  1276560000  Very convenient!   \n",
              "1                       5      3  1250208000           Zipfizz   \n",
              "2                       0      5  1328140800             Tasty   \n",
              "3                       0      4  1320364800        Pork Rinds   \n",
              "4                       0      1  1336348800             Gross   \n",
              "\n",
              "                                                Text  \n",
              "0  This is not an instant tea mix.  This actually...  \n",
              "1  A friend's doctor recommended this to her for ...  \n",
              "2  It's tasty although they say \"a medley of oran...  \n",
              "3  I'm diabetic and manage my weight and blood su...  \n",
              "4  These were gross. It was like chomping down on...  "
            ]
          },
          "execution_count": 3,
          "metadata": {},
          "output_type": "execute_result"
        }
      ],
      "source": [
        "df.head()"
      ]
    },
    {
      "cell_type": "code",
      "execution_count": 4,
      "metadata": {
        "colab": {
          "base_uri": "https://localhost:8080/"
        },
        "id": "8I-Zz34b4orV",
        "outputId": "ea0dd45e-79af-49ee-b280-06f26fcd3caf"
      },
      "outputs": [
        {
          "name": "stdout",
          "output_type": "stream",
          "text": [
            "<class 'pandas.core.frame.DataFrame'>\n",
            "RangeIndex: 10556 entries, 0 to 10555\n",
            "Data columns (total 10 columns):\n",
            " #   Column                  Non-Null Count  Dtype \n",
            "---  ------                  --------------  ----- \n",
            " 0   Id                      10556 non-null  int64 \n",
            " 1   ProductId               10556 non-null  object\n",
            " 2   UserId                  10556 non-null  object\n",
            " 3   ProfileName             10556 non-null  object\n",
            " 4   HelpfulnessNumerator    10556 non-null  int64 \n",
            " 5   HelpfulnessDenominator  10556 non-null  int64 \n",
            " 6   Score                   10556 non-null  int64 \n",
            " 7   Time                    10556 non-null  int64 \n",
            " 8   Summary                 10555 non-null  object\n",
            " 9   Text                    10556 non-null  object\n",
            "dtypes: int64(5), object(5)\n",
            "memory usage: 824.8+ KB\n"
          ]
        }
      ],
      "source": [
        "df.info()"
      ]
    },
    {
      "cell_type": "code",
      "execution_count": 5,
      "metadata": {
        "colab": {
          "base_uri": "https://localhost:8080/",
          "height": 320
        },
        "id": "9GBSa_ua4orV",
        "outputId": "8bd520e5-0382-4b96-b63f-cd68bc5f9dec"
      },
      "outputs": [
        {
          "data": {
            "text/html": [
              "<div>\n",
              "<style scoped>\n",
              "    .dataframe tbody tr th:only-of-type {\n",
              "        vertical-align: middle;\n",
              "    }\n",
              "\n",
              "    .dataframe tbody tr th {\n",
              "        vertical-align: top;\n",
              "    }\n",
              "\n",
              "    .dataframe thead th {\n",
              "        text-align: right;\n",
              "    }\n",
              "</style>\n",
              "<table border=\"1\" class=\"dataframe\">\n",
              "  <thead>\n",
              "    <tr style=\"text-align: right;\">\n",
              "      <th></th>\n",
              "      <th>Id</th>\n",
              "      <th>HelpfulnessNumerator</th>\n",
              "      <th>HelpfulnessDenominator</th>\n",
              "      <th>Score</th>\n",
              "      <th>Time</th>\n",
              "    </tr>\n",
              "  </thead>\n",
              "  <tbody>\n",
              "    <tr>\n",
              "      <th>count</th>\n",
              "      <td>10556.000000</td>\n",
              "      <td>10556.000000</td>\n",
              "      <td>10556.000000</td>\n",
              "      <td>10556.000000</td>\n",
              "      <td>1.055600e+04</td>\n",
              "    </tr>\n",
              "    <tr>\n",
              "      <th>mean</th>\n",
              "      <td>24916.887457</td>\n",
              "      <td>1.637647</td>\n",
              "      <td>2.114343</td>\n",
              "      <td>4.149204</td>\n",
              "      <td>1.294959e+09</td>\n",
              "    </tr>\n",
              "    <tr>\n",
              "      <th>std</th>\n",
              "      <td>14387.070744</td>\n",
              "      <td>5.524306</td>\n",
              "      <td>6.290436</td>\n",
              "      <td>1.329831</td>\n",
              "      <td>4.695672e+07</td>\n",
              "    </tr>\n",
              "    <tr>\n",
              "      <th>min</th>\n",
              "      <td>6.000000</td>\n",
              "      <td>0.000000</td>\n",
              "      <td>0.000000</td>\n",
              "      <td>1.000000</td>\n",
              "      <td>1.067645e+09</td>\n",
              "    </tr>\n",
              "    <tr>\n",
              "      <th>25%</th>\n",
              "      <td>12532.750000</td>\n",
              "      <td>0.000000</td>\n",
              "      <td>0.000000</td>\n",
              "      <td>4.000000</td>\n",
              "      <td>1.269130e+09</td>\n",
              "    </tr>\n",
              "    <tr>\n",
              "      <th>50%</th>\n",
              "      <td>24737.000000</td>\n",
              "      <td>0.000000</td>\n",
              "      <td>1.000000</td>\n",
              "      <td>5.000000</td>\n",
              "      <td>1.308269e+09</td>\n",
              "    </tr>\n",
              "    <tr>\n",
              "      <th>75%</th>\n",
              "      <td>37379.750000</td>\n",
              "      <td>2.000000</td>\n",
              "      <td>2.000000</td>\n",
              "      <td>5.000000</td>\n",
              "      <td>1.330387e+09</td>\n",
              "    </tr>\n",
              "    <tr>\n",
              "      <th>max</th>\n",
              "      <td>49997.000000</td>\n",
              "      <td>187.000000</td>\n",
              "      <td>216.000000</td>\n",
              "      <td>5.000000</td>\n",
              "      <td>1.351210e+09</td>\n",
              "    </tr>\n",
              "  </tbody>\n",
              "</table>\n",
              "</div>"
            ],
            "text/plain": [
              "                 Id  HelpfulnessNumerator  HelpfulnessDenominator  \\\n",
              "count  10556.000000          10556.000000            10556.000000   \n",
              "mean   24916.887457              1.637647                2.114343   \n",
              "std    14387.070744              5.524306                6.290436   \n",
              "min        6.000000              0.000000                0.000000   \n",
              "25%    12532.750000              0.000000                0.000000   \n",
              "50%    24737.000000              0.000000                1.000000   \n",
              "75%    37379.750000              2.000000                2.000000   \n",
              "max    49997.000000            187.000000              216.000000   \n",
              "\n",
              "              Score          Time  \n",
              "count  10556.000000  1.055600e+04  \n",
              "mean       4.149204  1.294959e+09  \n",
              "std        1.329831  4.695672e+07  \n",
              "min        1.000000  1.067645e+09  \n",
              "25%        4.000000  1.269130e+09  \n",
              "50%        5.000000  1.308269e+09  \n",
              "75%        5.000000  1.330387e+09  \n",
              "max        5.000000  1.351210e+09  "
            ]
          },
          "execution_count": 5,
          "metadata": {},
          "output_type": "execute_result"
        }
      ],
      "source": [
        "df.describe()"
      ]
    },
    {
      "cell_type": "code",
      "execution_count": 6,
      "metadata": {
        "colab": {
          "base_uri": "https://localhost:8080/",
          "height": 397
        },
        "id": "1li424VE4orW",
        "outputId": "d05a5552-9ba0-439b-cfee-a709942bb222"
      },
      "outputs": [
        {
          "data": {
            "text/plain": [
              "Id                        0\n",
              "ProductId                 0\n",
              "UserId                    0\n",
              "ProfileName               0\n",
              "HelpfulnessNumerator      0\n",
              "HelpfulnessDenominator    0\n",
              "Score                     0\n",
              "Time                      0\n",
              "Summary                   1\n",
              "Text                      0\n",
              "dtype: int64"
            ]
          },
          "execution_count": 6,
          "metadata": {},
          "output_type": "execute_result"
        }
      ],
      "source": [
        "df.isna().sum()"
      ]
    },
    {
      "cell_type": "code",
      "execution_count": 7,
      "metadata": {
        "colab": {
          "base_uri": "https://localhost:8080/"
        },
        "id": "bs-h7NPJ4orW",
        "outputId": "6d88c968-0e24-44c7-b94b-fab73b9053fc"
      },
      "outputs": [
        {
          "data": {
            "text/plain": [
              "0"
            ]
          },
          "execution_count": 7,
          "metadata": {},
          "output_type": "execute_result"
        }
      ],
      "source": [
        "df.duplicated().sum()"
      ]
    },
    {
      "cell_type": "markdown",
      "metadata": {
        "id": "69Cgj3Dz4orX"
      },
      "source": [
        "Phase 1 - B"
      ]
    },
    {
      "cell_type": "markdown",
      "metadata": {
        "id": "SPXOm2xc4orX"
      },
      "source": [
        "Distro of ratings"
      ]
    },
    {
      "cell_type": "code",
      "execution_count": 8,
      "metadata": {
        "id": "7cmceaBJ4orY"
      },
      "outputs": [],
      "source": [
        "#sns.barplot(df['Score'].value_counts())"
      ]
    },
    {
      "cell_type": "code",
      "execution_count": 9,
      "metadata": {
        "colab": {
          "base_uri": "https://localhost:8080/",
          "height": 521
        },
        "id": "HkjRQM7T4orY",
        "outputId": "18fdcb94-bb1e-4d93-a121-1fc84ca738c1"
      },
      "outputs": [
        {
          "data": {
            "text/html": [
              "<div>\n",
              "<style scoped>\n",
              "    .dataframe tbody tr th:only-of-type {\n",
              "        vertical-align: middle;\n",
              "    }\n",
              "\n",
              "    .dataframe tbody tr th {\n",
              "        vertical-align: top;\n",
              "    }\n",
              "\n",
              "    .dataframe thead th {\n",
              "        text-align: right;\n",
              "    }\n",
              "</style>\n",
              "<table border=\"1\" class=\"dataframe\">\n",
              "  <thead>\n",
              "    <tr style=\"text-align: right;\">\n",
              "      <th></th>\n",
              "      <th>Id</th>\n",
              "      <th>ProductId</th>\n",
              "      <th>UserId</th>\n",
              "      <th>ProfileName</th>\n",
              "      <th>HelpfulnessNumerator</th>\n",
              "      <th>HelpfulnessDenominator</th>\n",
              "      <th>Score</th>\n",
              "      <th>Time</th>\n",
              "      <th>Summary</th>\n",
              "      <th>Text</th>\n",
              "    </tr>\n",
              "  </thead>\n",
              "  <tbody>\n",
              "    <tr>\n",
              "      <th>0</th>\n",
              "      <td>26249</td>\n",
              "      <td>B0007A0PX0</td>\n",
              "      <td>A239D6FZHF13QE</td>\n",
              "      <td>ABC MOM</td>\n",
              "      <td>1</td>\n",
              "      <td>1</td>\n",
              "      <td>5</td>\n",
              "      <td>1276560000</td>\n",
              "      <td>Very convenient!</td>\n",
              "      <td>This is not an instant tea mix.  This actually...</td>\n",
              "    </tr>\n",
              "    <tr>\n",
              "      <th>1</th>\n",
              "      <td>38295</td>\n",
              "      <td>B007R1PGVS</td>\n",
              "      <td>A1K6BWET4KNSL</td>\n",
              "      <td>S. Mayo</td>\n",
              "      <td>4</td>\n",
              "      <td>5</td>\n",
              "      <td>3</td>\n",
              "      <td>1250208000</td>\n",
              "      <td>Zipfizz</td>\n",
              "      <td>A friend's doctor recommended this to her for ...</td>\n",
              "    </tr>\n",
              "    <tr>\n",
              "      <th>2</th>\n",
              "      <td>28573</td>\n",
              "      <td>B0089SPEO2</td>\n",
              "      <td>A2VQO4Y1SH3TTQ</td>\n",
              "      <td>Elesix</td>\n",
              "      <td>0</td>\n",
              "      <td>0</td>\n",
              "      <td>5</td>\n",
              "      <td>1328140800</td>\n",
              "      <td>Tasty</td>\n",
              "      <td>It's tasty although they say \"a medley of oran...</td>\n",
              "    </tr>\n",
              "    <tr>\n",
              "      <th>3</th>\n",
              "      <td>10132</td>\n",
              "      <td>B003EML8PM</td>\n",
              "      <td>A2ZX2OEW7WL6G4</td>\n",
              "      <td>Brian K Thornton</td>\n",
              "      <td>0</td>\n",
              "      <td>0</td>\n",
              "      <td>4</td>\n",
              "      <td>1320364800</td>\n",
              "      <td>Pork Rinds</td>\n",
              "      <td>I'm diabetic and manage my weight and blood su...</td>\n",
              "    </tr>\n",
              "    <tr>\n",
              "      <th>4</th>\n",
              "      <td>49426</td>\n",
              "      <td>B000IHNCQO</td>\n",
              "      <td>A14WSF4X001KBM</td>\n",
              "      <td>tonid</td>\n",
              "      <td>0</td>\n",
              "      <td>0</td>\n",
              "      <td>1</td>\n",
              "      <td>1336348800</td>\n",
              "      <td>Gross</td>\n",
              "      <td>These were gross. It was like chomping down on...</td>\n",
              "    </tr>\n",
              "  </tbody>\n",
              "</table>\n",
              "</div>"
            ],
            "text/plain": [
              "      Id   ProductId          UserId       ProfileName  HelpfulnessNumerator  \\\n",
              "0  26249  B0007A0PX0  A239D6FZHF13QE           ABC MOM                     1   \n",
              "1  38295  B007R1PGVS   A1K6BWET4KNSL           S. Mayo                     4   \n",
              "2  28573  B0089SPEO2  A2VQO4Y1SH3TTQ            Elesix                     0   \n",
              "3  10132  B003EML8PM  A2ZX2OEW7WL6G4  Brian K Thornton                     0   \n",
              "4  49426  B000IHNCQO  A14WSF4X001KBM             tonid                     0   \n",
              "\n",
              "   HelpfulnessDenominator  Score        Time           Summary  \\\n",
              "0                       1      5  1276560000  Very convenient!   \n",
              "1                       5      3  1250208000           Zipfizz   \n",
              "2                       0      5  1328140800             Tasty   \n",
              "3                       0      4  1320364800        Pork Rinds   \n",
              "4                       0      1  1336348800             Gross   \n",
              "\n",
              "                                                Text  \n",
              "0  This is not an instant tea mix.  This actually...  \n",
              "1  A friend's doctor recommended this to her for ...  \n",
              "2  It's tasty although they say \"a medley of oran...  \n",
              "3  I'm diabetic and manage my weight and blood su...  \n",
              "4  These were gross. It was like chomping down on...  "
            ]
          },
          "execution_count": 9,
          "metadata": {},
          "output_type": "execute_result"
        }
      ],
      "source": [
        "df.head()"
      ]
    },
    {
      "cell_type": "markdown",
      "metadata": {
        "id": "N6nfkUD34orY"
      },
      "source": [
        "Phase 2 - 1."
      ]
    },
    {
      "cell_type": "markdown",
      "metadata": {
        "id": "6ETiz-Od4orZ"
      },
      "source": [
        "Next we need to clean and prepare the data"
      ]
    },
    {
      "cell_type": "markdown",
      "metadata": {
        "id": "zAbXW1-a4orZ"
      },
      "source": [
        "We shall map the sentiment analysis to 3 classes;  negative, neutral, positve"
      ]
    },
    {
      "cell_type": "code",
      "execution_count": 10,
      "metadata": {
        "colab": {
          "base_uri": "https://localhost:8080/",
          "height": 521
        },
        "id": "k_NdjY0d4orZ",
        "outputId": "51dba826-3fbe-4a70-dfa2-c9a67ab97fa9"
      },
      "outputs": [
        {
          "data": {
            "text/html": [
              "<div>\n",
              "<style scoped>\n",
              "    .dataframe tbody tr th:only-of-type {\n",
              "        vertical-align: middle;\n",
              "    }\n",
              "\n",
              "    .dataframe tbody tr th {\n",
              "        vertical-align: top;\n",
              "    }\n",
              "\n",
              "    .dataframe thead th {\n",
              "        text-align: right;\n",
              "    }\n",
              "</style>\n",
              "<table border=\"1\" class=\"dataframe\">\n",
              "  <thead>\n",
              "    <tr style=\"text-align: right;\">\n",
              "      <th></th>\n",
              "      <th>Id</th>\n",
              "      <th>ProductId</th>\n",
              "      <th>UserId</th>\n",
              "      <th>ProfileName</th>\n",
              "      <th>HelpfulnessNumerator</th>\n",
              "      <th>HelpfulnessDenominator</th>\n",
              "      <th>Score</th>\n",
              "      <th>Time</th>\n",
              "      <th>Summary</th>\n",
              "      <th>Text</th>\n",
              "      <th>Sentiment</th>\n",
              "    </tr>\n",
              "  </thead>\n",
              "  <tbody>\n",
              "    <tr>\n",
              "      <th>0</th>\n",
              "      <td>26249</td>\n",
              "      <td>B0007A0PX0</td>\n",
              "      <td>A239D6FZHF13QE</td>\n",
              "      <td>ABC MOM</td>\n",
              "      <td>1</td>\n",
              "      <td>1</td>\n",
              "      <td>5</td>\n",
              "      <td>1276560000</td>\n",
              "      <td>Very convenient!</td>\n",
              "      <td>This is not an instant tea mix.  This actually...</td>\n",
              "      <td>Positive</td>\n",
              "    </tr>\n",
              "    <tr>\n",
              "      <th>1</th>\n",
              "      <td>38295</td>\n",
              "      <td>B007R1PGVS</td>\n",
              "      <td>A1K6BWET4KNSL</td>\n",
              "      <td>S. Mayo</td>\n",
              "      <td>4</td>\n",
              "      <td>5</td>\n",
              "      <td>3</td>\n",
              "      <td>1250208000</td>\n",
              "      <td>Zipfizz</td>\n",
              "      <td>A friend's doctor recommended this to her for ...</td>\n",
              "      <td>Neutral</td>\n",
              "    </tr>\n",
              "    <tr>\n",
              "      <th>2</th>\n",
              "      <td>28573</td>\n",
              "      <td>B0089SPEO2</td>\n",
              "      <td>A2VQO4Y1SH3TTQ</td>\n",
              "      <td>Elesix</td>\n",
              "      <td>0</td>\n",
              "      <td>0</td>\n",
              "      <td>5</td>\n",
              "      <td>1328140800</td>\n",
              "      <td>Tasty</td>\n",
              "      <td>It's tasty although they say \"a medley of oran...</td>\n",
              "      <td>Positive</td>\n",
              "    </tr>\n",
              "    <tr>\n",
              "      <th>3</th>\n",
              "      <td>10132</td>\n",
              "      <td>B003EML8PM</td>\n",
              "      <td>A2ZX2OEW7WL6G4</td>\n",
              "      <td>Brian K Thornton</td>\n",
              "      <td>0</td>\n",
              "      <td>0</td>\n",
              "      <td>4</td>\n",
              "      <td>1320364800</td>\n",
              "      <td>Pork Rinds</td>\n",
              "      <td>I'm diabetic and manage my weight and blood su...</td>\n",
              "      <td>Positive</td>\n",
              "    </tr>\n",
              "    <tr>\n",
              "      <th>4</th>\n",
              "      <td>49426</td>\n",
              "      <td>B000IHNCQO</td>\n",
              "      <td>A14WSF4X001KBM</td>\n",
              "      <td>tonid</td>\n",
              "      <td>0</td>\n",
              "      <td>0</td>\n",
              "      <td>1</td>\n",
              "      <td>1336348800</td>\n",
              "      <td>Gross</td>\n",
              "      <td>These were gross. It was like chomping down on...</td>\n",
              "      <td>Negative</td>\n",
              "    </tr>\n",
              "  </tbody>\n",
              "</table>\n",
              "</div>"
            ],
            "text/plain": [
              "      Id   ProductId          UserId       ProfileName  HelpfulnessNumerator  \\\n",
              "0  26249  B0007A0PX0  A239D6FZHF13QE           ABC MOM                     1   \n",
              "1  38295  B007R1PGVS   A1K6BWET4KNSL           S. Mayo                     4   \n",
              "2  28573  B0089SPEO2  A2VQO4Y1SH3TTQ            Elesix                     0   \n",
              "3  10132  B003EML8PM  A2ZX2OEW7WL6G4  Brian K Thornton                     0   \n",
              "4  49426  B000IHNCQO  A14WSF4X001KBM             tonid                     0   \n",
              "\n",
              "   HelpfulnessDenominator  Score        Time           Summary  \\\n",
              "0                       1      5  1276560000  Very convenient!   \n",
              "1                       5      3  1250208000           Zipfizz   \n",
              "2                       0      5  1328140800             Tasty   \n",
              "3                       0      4  1320364800        Pork Rinds   \n",
              "4                       0      1  1336348800             Gross   \n",
              "\n",
              "                                                Text Sentiment  \n",
              "0  This is not an instant tea mix.  This actually...  Positive  \n",
              "1  A friend's doctor recommended this to her for ...   Neutral  \n",
              "2  It's tasty although they say \"a medley of oran...  Positive  \n",
              "3  I'm diabetic and manage my weight and blood su...  Positive  \n",
              "4  These were gross. It was like chomping down on...  Negative  "
            ]
          },
          "execution_count": 10,
          "metadata": {},
          "output_type": "execute_result"
        }
      ],
      "source": [
        "df['Sentiment'] = df['Score'].map({1: 'Negative', 2: 'Negative', 3: 'Neutral', 4: 'Positive', 5: 'Positive'})\n",
        "df.head()"
      ]
    },
    {
      "cell_type": "markdown",
      "metadata": {
        "id": "q8wb7KDX4ora"
      },
      "source": [
        "We shall do a len count for each review and create a new column for this."
      ]
    },
    {
      "cell_type": "code",
      "execution_count": 11,
      "metadata": {
        "colab": {
          "base_uri": "https://localhost:8080/",
          "height": 521
        },
        "id": "eMLYDGbj4orb",
        "outputId": "46dab0b9-a1b5-4311-c688-292cf50bb49c"
      },
      "outputs": [
        {
          "data": {
            "text/html": [
              "<div>\n",
              "<style scoped>\n",
              "    .dataframe tbody tr th:only-of-type {\n",
              "        vertical-align: middle;\n",
              "    }\n",
              "\n",
              "    .dataframe tbody tr th {\n",
              "        vertical-align: top;\n",
              "    }\n",
              "\n",
              "    .dataframe thead th {\n",
              "        text-align: right;\n",
              "    }\n",
              "</style>\n",
              "<table border=\"1\" class=\"dataframe\">\n",
              "  <thead>\n",
              "    <tr style=\"text-align: right;\">\n",
              "      <th></th>\n",
              "      <th>Id</th>\n",
              "      <th>ProductId</th>\n",
              "      <th>UserId</th>\n",
              "      <th>ProfileName</th>\n",
              "      <th>HelpfulnessNumerator</th>\n",
              "      <th>HelpfulnessDenominator</th>\n",
              "      <th>Score</th>\n",
              "      <th>Time</th>\n",
              "      <th>Summary</th>\n",
              "      <th>Text</th>\n",
              "      <th>Sentiment</th>\n",
              "      <th>Review_len</th>\n",
              "    </tr>\n",
              "  </thead>\n",
              "  <tbody>\n",
              "    <tr>\n",
              "      <th>0</th>\n",
              "      <td>26249</td>\n",
              "      <td>B0007A0PX0</td>\n",
              "      <td>A239D6FZHF13QE</td>\n",
              "      <td>ABC MOM</td>\n",
              "      <td>1</td>\n",
              "      <td>1</td>\n",
              "      <td>5</td>\n",
              "      <td>1276560000</td>\n",
              "      <td>Very convenient!</td>\n",
              "      <td>This is not an instant tea mix.  This actually...</td>\n",
              "      <td>Positive</td>\n",
              "      <td>634</td>\n",
              "    </tr>\n",
              "    <tr>\n",
              "      <th>1</th>\n",
              "      <td>38295</td>\n",
              "      <td>B007R1PGVS</td>\n",
              "      <td>A1K6BWET4KNSL</td>\n",
              "      <td>S. Mayo</td>\n",
              "      <td>4</td>\n",
              "      <td>5</td>\n",
              "      <td>3</td>\n",
              "      <td>1250208000</td>\n",
              "      <td>Zipfizz</td>\n",
              "      <td>A friend's doctor recommended this to her for ...</td>\n",
              "      <td>Neutral</td>\n",
              "      <td>253</td>\n",
              "    </tr>\n",
              "    <tr>\n",
              "      <th>2</th>\n",
              "      <td>28573</td>\n",
              "      <td>B0089SPEO2</td>\n",
              "      <td>A2VQO4Y1SH3TTQ</td>\n",
              "      <td>Elesix</td>\n",
              "      <td>0</td>\n",
              "      <td>0</td>\n",
              "      <td>5</td>\n",
              "      <td>1328140800</td>\n",
              "      <td>Tasty</td>\n",
              "      <td>It's tasty although they say \"a medley of oran...</td>\n",
              "      <td>Positive</td>\n",
              "      <td>147</td>\n",
              "    </tr>\n",
              "    <tr>\n",
              "      <th>3</th>\n",
              "      <td>10132</td>\n",
              "      <td>B003EML8PM</td>\n",
              "      <td>A2ZX2OEW7WL6G4</td>\n",
              "      <td>Brian K Thornton</td>\n",
              "      <td>0</td>\n",
              "      <td>0</td>\n",
              "      <td>4</td>\n",
              "      <td>1320364800</td>\n",
              "      <td>Pork Rinds</td>\n",
              "      <td>I'm diabetic and manage my weight and blood su...</td>\n",
              "      <td>Positive</td>\n",
              "      <td>418</td>\n",
              "    </tr>\n",
              "    <tr>\n",
              "      <th>4</th>\n",
              "      <td>49426</td>\n",
              "      <td>B000IHNCQO</td>\n",
              "      <td>A14WSF4X001KBM</td>\n",
              "      <td>tonid</td>\n",
              "      <td>0</td>\n",
              "      <td>0</td>\n",
              "      <td>1</td>\n",
              "      <td>1336348800</td>\n",
              "      <td>Gross</td>\n",
              "      <td>These were gross. It was like chomping down on...</td>\n",
              "      <td>Negative</td>\n",
              "      <td>125</td>\n",
              "    </tr>\n",
              "  </tbody>\n",
              "</table>\n",
              "</div>"
            ],
            "text/plain": [
              "      Id   ProductId          UserId       ProfileName  HelpfulnessNumerator  \\\n",
              "0  26249  B0007A0PX0  A239D6FZHF13QE           ABC MOM                     1   \n",
              "1  38295  B007R1PGVS   A1K6BWET4KNSL           S. Mayo                     4   \n",
              "2  28573  B0089SPEO2  A2VQO4Y1SH3TTQ            Elesix                     0   \n",
              "3  10132  B003EML8PM  A2ZX2OEW7WL6G4  Brian K Thornton                     0   \n",
              "4  49426  B000IHNCQO  A14WSF4X001KBM             tonid                     0   \n",
              "\n",
              "   HelpfulnessDenominator  Score        Time           Summary  \\\n",
              "0                       1      5  1276560000  Very convenient!   \n",
              "1                       5      3  1250208000           Zipfizz   \n",
              "2                       0      5  1328140800             Tasty   \n",
              "3                       0      4  1320364800        Pork Rinds   \n",
              "4                       0      1  1336348800             Gross   \n",
              "\n",
              "                                                Text Sentiment  Review_len  \n",
              "0  This is not an instant tea mix.  This actually...  Positive         634  \n",
              "1  A friend's doctor recommended this to her for ...   Neutral         253  \n",
              "2  It's tasty although they say \"a medley of oran...  Positive         147  \n",
              "3  I'm diabetic and manage my weight and blood su...  Positive         418  \n",
              "4  These were gross. It was like chomping down on...  Negative         125  "
            ]
          },
          "execution_count": 11,
          "metadata": {},
          "output_type": "execute_result"
        }
      ],
      "source": [
        "def review_len(df1):\n",
        "    df1['Review_len'] = df1['Text'].apply(lambda x: len(str(x)))\n",
        "    return df1\n",
        "\n",
        "review_len(df)\n",
        "df.head()"
      ]
    },
    {
      "cell_type": "code",
      "execution_count": 12,
      "metadata": {
        "colab": {
          "base_uri": "https://localhost:8080/"
        },
        "id": "Ya5HiNWD4orb",
        "outputId": "f1cc4136-6a85-4088-ef27-9346634017c1"
      },
      "outputs": [
        {
          "name": "stderr",
          "output_type": "stream",
          "text": [
            "[nltk_data] Downloading package punkt to\n",
            "[nltk_data]     C:\\Users\\USER\\AppData\\Roaming\\nltk_data...\n",
            "[nltk_data]   Package punkt is already up-to-date!\n",
            "[nltk_data] Downloading package stopwords to\n",
            "[nltk_data]     C:\\Users\\USER\\AppData\\Roaming\\nltk_data...\n",
            "[nltk_data]   Package stopwords is already up-to-date!\n",
            "[nltk_data] Downloading package wordnet to\n",
            "[nltk_data]     C:\\Users\\USER\\AppData\\Roaming\\nltk_data...\n",
            "[nltk_data]   Package wordnet is already up-to-date!\n",
            "[nltk_data] Downloading package omw-1.4 to\n",
            "[nltk_data]     C:\\Users\\USER\\AppData\\Roaming\\nltk_data...\n",
            "[nltk_data]   Package omw-1.4 is already up-to-date!\n"
          ]
        }
      ],
      "source": [
        "\n",
        "import nltk\n",
        "import re\n",
        "from nltk.tokenize import word_tokenize\n",
        "from nltk.corpus import stopwords\n",
        "from nltk.stem import WordNetLemmatizer\n",
        "nltk.download('punkt')\n",
        "nltk.download('stopwords')\n",
        "nltk.download('wordnet')\n",
        "nltk.download('omw-1.4')\n",
        "\n",
        "#initializing the stopwords and Lemmantization\n",
        "stop_words = set(stopwords.words('english'))\n",
        "lemmatizer = WordNetLemmatizer()\n",
        "\n",
        "\n",
        "\n"
      ]
    },
    {
      "cell_type": "markdown",
      "metadata": {
        "id": "SNXRYqEs4orc"
      },
      "source": []
    },
    {
      "cell_type": "code",
      "execution_count": 13,
      "metadata": {
        "colab": {
          "base_uri": "https://localhost:8080/",
          "height": 773
        },
        "id": "5aWmD29c4orc",
        "outputId": "15d2f56f-aecc-4e8c-9393-d2e739ead9d9"
      },
      "outputs": [
        {
          "name": "stdout",
          "output_type": "stream",
          "text": [
            "                                                Text  \\\n",
            "0  This is not an instant tea mix.  This actually...   \n",
            "1  A friend's doctor recommended this to her for ...   \n",
            "2  It's tasty although they say \"a medley of oran...   \n",
            "3  I'm diabetic and manage my weight and blood su...   \n",
            "4  These were gross. It was like chomping down on...   \n",
            "\n",
            "                                              Tokens  \n",
            "0  [instant, tea, mix, actually, powdered, green,...  \n",
            "1  [friend, doctor, recommended, weight, loss, ba...  \n",
            "2  [tasty, although, say, medley, orange, mingled...  \n",
            "3  [diabetic, manage, weight, blood, sugar, level...  \n",
            "4  [gross, like, chomping, chunk, salt, regret, w...  \n"
          ]
        }
      ],
      "source": [
        "def clean_and_tokenize(text):\n",
        "\n",
        "    text = str(text)\n",
        "    #removing htmls if present.\n",
        "    text = re.sub(r\"<.*?>\", \" \", text)\n",
        "    #Removing url links.\n",
        "    text = re.sub(r\"http\\S+|www.\\S+\", \" \", text)\n",
        "    #removing non-alpha numeric characters.\n",
        "    text = re.sub(r\"[^a-zA-Z\\s]\", \" \", text)\n",
        "    #changing text to lowercase and fixing spaces.\n",
        "    text = re.sub(r\"\\s+\", \" \", text).strip().lower()\n",
        "\n",
        "    #tokenizing and the lemmatizing after\n",
        "    tokens = word_tokenize(text)\n",
        "    tokens = [t for t in tokens if t not in stop_words]\n",
        "    tokens = [lemmatizer.lemmatize(t) for t in tokens]\n",
        "\n",
        "    return tokens\n",
        "\n",
        "df['Tokens'] = df['Text'].apply(clean_and_tokenize)\n",
        "\n",
        "print(df[['Text', 'Tokens']].head())"
      ]
    },
    {
      "cell_type": "code",
      "execution_count": 14,
      "metadata": {
        "id": "EO3kKYgb4ore"
      },
      "outputs": [
        {
          "data": {
            "text/plain": [
              "'To be returned to take note'"
            ]
          },
          "execution_count": 14,
          "metadata": {},
          "output_type": "execute_result"
        }
      ],
      "source": [
        "'''To be returned to take note'''\n",
        "#df.to_csv('cleaned_reviews.csv', index=False)\n",
        "\n"
      ]
    },
    {
      "cell_type": "markdown",
      "metadata": {
        "id": "mtOijecD4orf"
      },
      "source": [
        "We shall do a len count for each tokenized review and create a new column for this."
      ]
    },
    {
      "cell_type": "code",
      "execution_count": 15,
      "metadata": {
        "id": "V1HcwuPk4org"
      },
      "outputs": [
        {
          "data": {
            "text/html": [
              "<div>\n",
              "<style scoped>\n",
              "    .dataframe tbody tr th:only-of-type {\n",
              "        vertical-align: middle;\n",
              "    }\n",
              "\n",
              "    .dataframe tbody tr th {\n",
              "        vertical-align: top;\n",
              "    }\n",
              "\n",
              "    .dataframe thead th {\n",
              "        text-align: right;\n",
              "    }\n",
              "</style>\n",
              "<table border=\"1\" class=\"dataframe\">\n",
              "  <thead>\n",
              "    <tr style=\"text-align: right;\">\n",
              "      <th></th>\n",
              "      <th>Id</th>\n",
              "      <th>ProductId</th>\n",
              "      <th>UserId</th>\n",
              "      <th>ProfileName</th>\n",
              "      <th>HelpfulnessNumerator</th>\n",
              "      <th>HelpfulnessDenominator</th>\n",
              "      <th>Score</th>\n",
              "      <th>Time</th>\n",
              "      <th>Summary</th>\n",
              "      <th>Text</th>\n",
              "      <th>Sentiment</th>\n",
              "      <th>Review_len</th>\n",
              "      <th>Tokens</th>\n",
              "      <th>Token_len</th>\n",
              "    </tr>\n",
              "  </thead>\n",
              "  <tbody>\n",
              "    <tr>\n",
              "      <th>0</th>\n",
              "      <td>26249</td>\n",
              "      <td>B0007A0PX0</td>\n",
              "      <td>A239D6FZHF13QE</td>\n",
              "      <td>ABC MOM</td>\n",
              "      <td>1</td>\n",
              "      <td>1</td>\n",
              "      <td>5</td>\n",
              "      <td>1276560000</td>\n",
              "      <td>Very convenient!</td>\n",
              "      <td>This is not an instant tea mix.  This actually...</td>\n",
              "      <td>Positive</td>\n",
              "      <td>634</td>\n",
              "      <td>[instant, tea, mix, actually, powdered, green,...</td>\n",
              "      <td>570</td>\n",
              "    </tr>\n",
              "    <tr>\n",
              "      <th>1</th>\n",
              "      <td>38295</td>\n",
              "      <td>B007R1PGVS</td>\n",
              "      <td>A1K6BWET4KNSL</td>\n",
              "      <td>S. Mayo</td>\n",
              "      <td>4</td>\n",
              "      <td>5</td>\n",
              "      <td>3</td>\n",
              "      <td>1250208000</td>\n",
              "      <td>Zipfizz</td>\n",
              "      <td>A friend's doctor recommended this to her for ...</td>\n",
              "      <td>Neutral</td>\n",
              "      <td>253</td>\n",
              "      <td>[friend, doctor, recommended, weight, loss, ba...</td>\n",
              "      <td>200</td>\n",
              "    </tr>\n",
              "    <tr>\n",
              "      <th>2</th>\n",
              "      <td>28573</td>\n",
              "      <td>B0089SPEO2</td>\n",
              "      <td>A2VQO4Y1SH3TTQ</td>\n",
              "      <td>Elesix</td>\n",
              "      <td>0</td>\n",
              "      <td>0</td>\n",
              "      <td>5</td>\n",
              "      <td>1328140800</td>\n",
              "      <td>Tasty</td>\n",
              "      <td>It's tasty although they say \"a medley of oran...</td>\n",
              "      <td>Positive</td>\n",
              "      <td>147</td>\n",
              "      <td>[tasty, although, say, medley, orange, mingled...</td>\n",
              "      <td>142</td>\n",
              "    </tr>\n",
              "    <tr>\n",
              "      <th>3</th>\n",
              "      <td>10132</td>\n",
              "      <td>B003EML8PM</td>\n",
              "      <td>A2ZX2OEW7WL6G4</td>\n",
              "      <td>Brian K Thornton</td>\n",
              "      <td>0</td>\n",
              "      <td>0</td>\n",
              "      <td>4</td>\n",
              "      <td>1320364800</td>\n",
              "      <td>Pork Rinds</td>\n",
              "      <td>I'm diabetic and manage my weight and blood su...</td>\n",
              "      <td>Positive</td>\n",
              "      <td>418</td>\n",
              "      <td>[diabetic, manage, weight, blood, sugar, level...</td>\n",
              "      <td>390</td>\n",
              "    </tr>\n",
              "    <tr>\n",
              "      <th>4</th>\n",
              "      <td>49426</td>\n",
              "      <td>B000IHNCQO</td>\n",
              "      <td>A14WSF4X001KBM</td>\n",
              "      <td>tonid</td>\n",
              "      <td>0</td>\n",
              "      <td>0</td>\n",
              "      <td>1</td>\n",
              "      <td>1336348800</td>\n",
              "      <td>Gross</td>\n",
              "      <td>These were gross. It was like chomping down on...</td>\n",
              "      <td>Negative</td>\n",
              "      <td>125</td>\n",
              "      <td>[gross, like, chomping, chunk, salt, regret, w...</td>\n",
              "      <td>98</td>\n",
              "    </tr>\n",
              "  </tbody>\n",
              "</table>\n",
              "</div>"
            ],
            "text/plain": [
              "      Id   ProductId          UserId       ProfileName  HelpfulnessNumerator  \\\n",
              "0  26249  B0007A0PX0  A239D6FZHF13QE           ABC MOM                     1   \n",
              "1  38295  B007R1PGVS   A1K6BWET4KNSL           S. Mayo                     4   \n",
              "2  28573  B0089SPEO2  A2VQO4Y1SH3TTQ            Elesix                     0   \n",
              "3  10132  B003EML8PM  A2ZX2OEW7WL6G4  Brian K Thornton                     0   \n",
              "4  49426  B000IHNCQO  A14WSF4X001KBM             tonid                     0   \n",
              "\n",
              "   HelpfulnessDenominator  Score        Time           Summary  \\\n",
              "0                       1      5  1276560000  Very convenient!   \n",
              "1                       5      3  1250208000           Zipfizz   \n",
              "2                       0      5  1328140800             Tasty   \n",
              "3                       0      4  1320364800        Pork Rinds   \n",
              "4                       0      1  1336348800             Gross   \n",
              "\n",
              "                                                Text Sentiment  Review_len  \\\n",
              "0  This is not an instant tea mix.  This actually...  Positive         634   \n",
              "1  A friend's doctor recommended this to her for ...   Neutral         253   \n",
              "2  It's tasty although they say \"a medley of oran...  Positive         147   \n",
              "3  I'm diabetic and manage my weight and blood su...  Positive         418   \n",
              "4  These were gross. It was like chomping down on...  Negative         125   \n",
              "\n",
              "                                              Tokens  Token_len  \n",
              "0  [instant, tea, mix, actually, powdered, green,...        570  \n",
              "1  [friend, doctor, recommended, weight, loss, ba...        200  \n",
              "2  [tasty, although, say, medley, orange, mingled...        142  \n",
              "3  [diabetic, manage, weight, blood, sugar, level...        390  \n",
              "4  [gross, like, chomping, chunk, salt, regret, w...         98  "
            ]
          },
          "execution_count": 15,
          "metadata": {},
          "output_type": "execute_result"
        }
      ],
      "source": [
        "def token_len(df1):\n",
        "    df1['Token_len'] = df1['Tokens'].apply(lambda x: len(str(x)))\n",
        "    return df1\n",
        "\n",
        "token_len(df)\n",
        "df.head()"
      ]
    },
    {
      "cell_type": "markdown",
      "metadata": {
        "id": "dWjaaFs-4orh"
      },
      "source": [
        "We shall vectorize the text using tfidf"
      ]
    },
    {
      "cell_type": "code",
      "execution_count": null,
      "metadata": {
        "id": "8FmZv9fz4orh"
      },
      "outputs": [
        {
          "name": "stdout",
          "output_type": "stream",
          "text": [
            "\n",
            "TF-IDF matrix shape: (10556, 5000)\n",
            "             00  000   0g   10  100  10th   11  110        12  120  ...  zero  \\\n",
            "0      0.000000  0.0  0.0  0.0  0.0   0.0  0.0  0.0  0.000000  0.0  ...   0.0   \n",
            "1      0.000000  0.0  0.0  0.0  0.0   0.0  0.0  0.0  0.000000  0.0  ...   0.0   \n",
            "2      0.000000  0.0  0.0  0.0  0.0   0.0  0.0  0.0  0.000000  0.0  ...   0.0   \n",
            "3      0.000000  0.0  0.0  0.0  0.0   0.0  0.0  0.0  0.000000  0.0  ...   0.0   \n",
            "4      0.000000  0.0  0.0  0.0  0.0   0.0  0.0  0.0  0.000000  0.0  ...   0.0   \n",
            "...         ...  ...  ...  ...  ...   ...  ...  ...       ...  ...  ...   ...   \n",
            "10551  0.000000  0.0  0.0  0.0  0.0   0.0  0.0  0.0  0.000000  0.0  ...   0.0   \n",
            "10552  0.000000  0.0  0.0  0.0  0.0   0.0  0.0  0.0  0.000000  0.0  ...   0.0   \n",
            "10553  0.000000  0.0  0.0  0.0  0.0   0.0  0.0  0.0  0.000000  0.0  ...   0.0   \n",
            "10554  0.154121  0.0  0.0  0.0  0.0   0.0  0.0  0.0  0.000000  0.0  ...   0.0   \n",
            "10555  0.000000  0.0  0.0  0.0  0.0   0.0  0.0  0.0  0.062071  0.0  ...   0.0   \n",
            "\n",
            "       zesty  zico  zing  zip  zipfizz  ziploc  ziplock  zucchini  zuke  \n",
            "0        0.0   0.0   0.0  0.0      0.0     0.0      0.0       0.0   0.0  \n",
            "1        0.0   0.0   0.0  0.0      0.0     0.0      0.0       0.0   0.0  \n",
            "2        0.0   0.0   0.0  0.0      0.0     0.0      0.0       0.0   0.0  \n",
            "3        0.0   0.0   0.0  0.0      0.0     0.0      0.0       0.0   0.0  \n",
            "4        0.0   0.0   0.0  0.0      0.0     0.0      0.0       0.0   0.0  \n",
            "...      ...   ...   ...  ...      ...     ...      ...       ...   ...  \n",
            "10551    0.0   0.0   0.0  0.0      0.0     0.0      0.0       0.0   0.0  \n",
            "10552    0.0   0.0   0.0  0.0      0.0     0.0      0.0       0.0   0.0  \n",
            "10553    0.0   0.0   0.0  0.0      0.0     0.0      0.0       0.0   0.0  \n",
            "10554    0.0   0.0   0.0  0.0      0.0     0.0      0.0       0.0   0.0  \n",
            "10555    0.0   0.0   0.0  0.0      0.0     0.0      0.0       0.0   0.0  \n",
            "\n",
            "[10556 rows x 5000 columns]\n",
            "00          0.605660\n",
            "000         0.364850\n",
            "0g          0.147842\n",
            "10          0.401723\n",
            "100         0.346971\n",
            "              ...   \n",
            "zipfizz     0.512481\n",
            "ziploc      0.368198\n",
            "ziplock     0.334472\n",
            "zucchini    0.482940\n",
            "zuke        0.457464\n",
            "Length: 5000, dtype: float64\n"
          ]
        }
      ],
      "source": [
        "from sklearn.feature_extraction.text import TfidfVectorizer\n",
        "# create the vectorizer\n",
        "vectorizer = TfidfVectorizer(max_features=5000, stop_words='english')  \n",
        "\n",
        "tfidf_matrix = vectorizer.fit_transform(df['Text'].astype(str))\n",
        "tfidf_df = pd.DataFrame(tfidf_matrix.toarray(), columns=vectorizer.get_feature_names_out())\n",
        "print(f\"\\nTF-IDF matrix shape: {tfidf_df.shape}\")\n",
        "print(tfidf_df)\n",
        "print(tfidf_df.max())"
      ]
    },
    {
      "cell_type": "code",
      "execution_count": 17,
      "metadata": {
        "id": "1p3HEnJe4ori"
      },
      "outputs": [],
      "source": [
        "from tensorflow.keras.models import Model\n",
        "from tensorflow.keras.layers import Input, Embedding, Conv1D, GlobalMaxPooling1D, Dense, Dropout, Concatenate\n",
        "from tensorflow.keras.preprocessing.text import Tokenizer\n",
        "from tensorflow.keras.preprocessing.sequence import pad_sequences\n",
        "from sklearn.preprocessing import LabelEncoder\n",
        "from sklearn.model_selection import train_test_split\n",
        "from tensorflow.keras.models import Model\n",
        "from tensorflow.keras.layers import Input, Embedding, Conv1D, GlobalMaxPooling1D, Dense, Dropout, Concatenate\n",
        "\n",
        "\n",
        "MAX_SEQUENCE_LENGTH = 100\n",
        "MAX_VOCAB_SIZE = 10000\n",
        "embedding_dim = 100\n",
        "\n",
        "\n",
        "tokenizer = Tokenizer(num_words=MAX_VOCAB_SIZE)\n",
        "tokenizer.fit_on_texts(df['Text'])\n",
        "sequences = tokenizer.texts_to_sequences(df['Text'])\n",
        "\n",
        "from tensorflow.keras.preprocessing.sequence import pad_sequences\n",
        "\n",
        "X = pad_sequences(sequences, maxlen=MAX_SEQUENCE_LENGTH, padding='post')\n",
        "\n",
        "\n",
        "label_encoder = LabelEncoder()\n",
        "y = label_encoder.fit_transform(df['Sentiment'])\n",
        "y = np.eye(len(label_encoder.classes_))[y]\n",
        "\n",
        "\n",
        "X_train, X_temp, y_train, y_temp = train_test_split(X, y, test_size=0.2, random_state=42)  # 80% training, 20% temp\n",
        "X_val, X_test, y_val, y_test = train_test_split(X_temp, y_temp, test_size=0.5, random_state=42)  # Split temp into 10% validation, 10% test\n"
      ]
    },
    {
      "cell_type": "code",
      "execution_count": 18,
      "metadata": {
        "id": "8B-SE9ZL4ori"
      },
      "outputs": [
        {
          "name": "stderr",
          "output_type": "stream",
          "text": [
            "c:\\Users\\USER\\anaconda3\\Lib\\site-packages\\keras\\src\\layers\\core\\embedding.py:90: UserWarning: Argument `input_length` is deprecated. Just remove it.\n",
            "  warnings.warn(\n"
          ]
        },
        {
          "data": {
            "text/html": [
              "<pre style=\"white-space:pre;overflow-x:auto;line-height:normal;font-family:Menlo,'DejaVu Sans Mono',consolas,'Courier New',monospace\"><span style=\"font-weight: bold\">Model: \"functional\"</span>\n",
              "</pre>\n"
            ],
            "text/plain": [
              "\u001b[1mModel: \"functional\"\u001b[0m\n"
            ]
          },
          "metadata": {},
          "output_type": "display_data"
        },
        {
          "data": {
            "text/html": [
              "<pre style=\"white-space:pre;overflow-x:auto;line-height:normal;font-family:Menlo,'DejaVu Sans Mono',consolas,'Courier New',monospace\">┏━━━━━━━━━━━━━━━━━━━━━┳━━━━━━━━━━━━━━━━━━━┳━━━━━━━━━━━━┳━━━━━━━━━━━━━━━━━━━┓\n",
              "┃<span style=\"font-weight: bold\"> Layer (type)        </span>┃<span style=\"font-weight: bold\"> Output Shape      </span>┃<span style=\"font-weight: bold\">    Param # </span>┃<span style=\"font-weight: bold\"> Connected to      </span>┃\n",
              "┡━━━━━━━━━━━━━━━━━━━━━╇━━━━━━━━━━━━━━━━━━━╇━━━━━━━━━━━━╇━━━━━━━━━━━━━━━━━━━┩\n",
              "│ input_layer         │ (<span style=\"color: #00d7ff; text-decoration-color: #00d7ff\">None</span>, <span style=\"color: #00af00; text-decoration-color: #00af00\">100</span>)       │          <span style=\"color: #00af00; text-decoration-color: #00af00\">0</span> │ -                 │\n",
              "│ (<span style=\"color: #0087ff; text-decoration-color: #0087ff\">InputLayer</span>)        │                   │            │                   │\n",
              "├─────────────────────┼───────────────────┼────────────┼───────────────────┤\n",
              "│ embedding           │ (<span style=\"color: #00d7ff; text-decoration-color: #00d7ff\">None</span>, <span style=\"color: #00af00; text-decoration-color: #00af00\">100</span>, <span style=\"color: #00af00; text-decoration-color: #00af00\">100</span>)  │  <span style=\"color: #00af00; text-decoration-color: #00af00\">1,000,000</span> │ input_layer[<span style=\"color: #00af00; text-decoration-color: #00af00\">0</span>][<span style=\"color: #00af00; text-decoration-color: #00af00\">0</span>] │\n",
              "│ (<span style=\"color: #0087ff; text-decoration-color: #0087ff\">Embedding</span>)         │                   │            │                   │\n",
              "├─────────────────────┼───────────────────┼────────────┼───────────────────┤\n",
              "│ conv1d (<span style=\"color: #0087ff; text-decoration-color: #0087ff\">Conv1D</span>)     │ (<span style=\"color: #00d7ff; text-decoration-color: #00d7ff\">None</span>, <span style=\"color: #00af00; text-decoration-color: #00af00\">98</span>, <span style=\"color: #00af00; text-decoration-color: #00af00\">128</span>)   │     <span style=\"color: #00af00; text-decoration-color: #00af00\">38,528</span> │ embedding[<span style=\"color: #00af00; text-decoration-color: #00af00\">0</span>][<span style=\"color: #00af00; text-decoration-color: #00af00\">0</span>]   │\n",
              "├─────────────────────┼───────────────────┼────────────┼───────────────────┤\n",
              "│ conv1d_1 (<span style=\"color: #0087ff; text-decoration-color: #0087ff\">Conv1D</span>)   │ (<span style=\"color: #00d7ff; text-decoration-color: #00d7ff\">None</span>, <span style=\"color: #00af00; text-decoration-color: #00af00\">97</span>, <span style=\"color: #00af00; text-decoration-color: #00af00\">128</span>)   │     <span style=\"color: #00af00; text-decoration-color: #00af00\">51,328</span> │ embedding[<span style=\"color: #00af00; text-decoration-color: #00af00\">0</span>][<span style=\"color: #00af00; text-decoration-color: #00af00\">0</span>]   │\n",
              "├─────────────────────┼───────────────────┼────────────┼───────────────────┤\n",
              "│ conv1d_2 (<span style=\"color: #0087ff; text-decoration-color: #0087ff\">Conv1D</span>)   │ (<span style=\"color: #00d7ff; text-decoration-color: #00d7ff\">None</span>, <span style=\"color: #00af00; text-decoration-color: #00af00\">96</span>, <span style=\"color: #00af00; text-decoration-color: #00af00\">128</span>)   │     <span style=\"color: #00af00; text-decoration-color: #00af00\">64,128</span> │ embedding[<span style=\"color: #00af00; text-decoration-color: #00af00\">0</span>][<span style=\"color: #00af00; text-decoration-color: #00af00\">0</span>]   │\n",
              "├─────────────────────┼───────────────────┼────────────┼───────────────────┤\n",
              "│ global_max_pooling… │ (<span style=\"color: #00d7ff; text-decoration-color: #00d7ff\">None</span>, <span style=\"color: #00af00; text-decoration-color: #00af00\">128</span>)       │          <span style=\"color: #00af00; text-decoration-color: #00af00\">0</span> │ conv1d[<span style=\"color: #00af00; text-decoration-color: #00af00\">0</span>][<span style=\"color: #00af00; text-decoration-color: #00af00\">0</span>]      │\n",
              "│ (<span style=\"color: #0087ff; text-decoration-color: #0087ff\">GlobalMaxPooling1…</span> │                   │            │                   │\n",
              "├─────────────────────┼───────────────────┼────────────┼───────────────────┤\n",
              "│ global_max_pooling… │ (<span style=\"color: #00d7ff; text-decoration-color: #00d7ff\">None</span>, <span style=\"color: #00af00; text-decoration-color: #00af00\">128</span>)       │          <span style=\"color: #00af00; text-decoration-color: #00af00\">0</span> │ conv1d_1[<span style=\"color: #00af00; text-decoration-color: #00af00\">0</span>][<span style=\"color: #00af00; text-decoration-color: #00af00\">0</span>]    │\n",
              "│ (<span style=\"color: #0087ff; text-decoration-color: #0087ff\">GlobalMaxPooling1…</span> │                   │            │                   │\n",
              "├─────────────────────┼───────────────────┼────────────┼───────────────────┤\n",
              "│ global_max_pooling… │ (<span style=\"color: #00d7ff; text-decoration-color: #00d7ff\">None</span>, <span style=\"color: #00af00; text-decoration-color: #00af00\">128</span>)       │          <span style=\"color: #00af00; text-decoration-color: #00af00\">0</span> │ conv1d_2[<span style=\"color: #00af00; text-decoration-color: #00af00\">0</span>][<span style=\"color: #00af00; text-decoration-color: #00af00\">0</span>]    │\n",
              "│ (<span style=\"color: #0087ff; text-decoration-color: #0087ff\">GlobalMaxPooling1…</span> │                   │            │                   │\n",
              "├─────────────────────┼───────────────────┼────────────┼───────────────────┤\n",
              "│ concatenate         │ (<span style=\"color: #00d7ff; text-decoration-color: #00d7ff\">None</span>, <span style=\"color: #00af00; text-decoration-color: #00af00\">384</span>)       │          <span style=\"color: #00af00; text-decoration-color: #00af00\">0</span> │ global_max_pooli… │\n",
              "│ (<span style=\"color: #0087ff; text-decoration-color: #0087ff\">Concatenate</span>)       │                   │            │ global_max_pooli… │\n",
              "│                     │                   │            │ global_max_pooli… │\n",
              "├─────────────────────┼───────────────────┼────────────┼───────────────────┤\n",
              "│ dropout (<span style=\"color: #0087ff; text-decoration-color: #0087ff\">Dropout</span>)   │ (<span style=\"color: #00d7ff; text-decoration-color: #00d7ff\">None</span>, <span style=\"color: #00af00; text-decoration-color: #00af00\">384</span>)       │          <span style=\"color: #00af00; text-decoration-color: #00af00\">0</span> │ concatenate[<span style=\"color: #00af00; text-decoration-color: #00af00\">0</span>][<span style=\"color: #00af00; text-decoration-color: #00af00\">0</span>] │\n",
              "├─────────────────────┼───────────────────┼────────────┼───────────────────┤\n",
              "│ dense (<span style=\"color: #0087ff; text-decoration-color: #0087ff\">Dense</span>)       │ (<span style=\"color: #00d7ff; text-decoration-color: #00d7ff\">None</span>, <span style=\"color: #00af00; text-decoration-color: #00af00\">3</span>)         │      <span style=\"color: #00af00; text-decoration-color: #00af00\">1,155</span> │ dropout[<span style=\"color: #00af00; text-decoration-color: #00af00\">0</span>][<span style=\"color: #00af00; text-decoration-color: #00af00\">0</span>]     │\n",
              "└─────────────────────┴───────────────────┴────────────┴───────────────────┘\n",
              "</pre>\n"
            ],
            "text/plain": [
              "┏━━━━━━━━━━━━━━━━━━━━━┳━━━━━━━━━━━━━━━━━━━┳━━━━━━━━━━━━┳━━━━━━━━━━━━━━━━━━━┓\n",
              "┃\u001b[1m \u001b[0m\u001b[1mLayer (type)       \u001b[0m\u001b[1m \u001b[0m┃\u001b[1m \u001b[0m\u001b[1mOutput Shape     \u001b[0m\u001b[1m \u001b[0m┃\u001b[1m \u001b[0m\u001b[1m   Param #\u001b[0m\u001b[1m \u001b[0m┃\u001b[1m \u001b[0m\u001b[1mConnected to     \u001b[0m\u001b[1m \u001b[0m┃\n",
              "┡━━━━━━━━━━━━━━━━━━━━━╇━━━━━━━━━━━━━━━━━━━╇━━━━━━━━━━━━╇━━━━━━━━━━━━━━━━━━━┩\n",
              "│ input_layer         │ (\u001b[38;5;45mNone\u001b[0m, \u001b[38;5;34m100\u001b[0m)       │          \u001b[38;5;34m0\u001b[0m │ -                 │\n",
              "│ (\u001b[38;5;33mInputLayer\u001b[0m)        │                   │            │                   │\n",
              "├─────────────────────┼───────────────────┼────────────┼───────────────────┤\n",
              "│ embedding           │ (\u001b[38;5;45mNone\u001b[0m, \u001b[38;5;34m100\u001b[0m, \u001b[38;5;34m100\u001b[0m)  │  \u001b[38;5;34m1,000,000\u001b[0m │ input_layer[\u001b[38;5;34m0\u001b[0m][\u001b[38;5;34m0\u001b[0m] │\n",
              "│ (\u001b[38;5;33mEmbedding\u001b[0m)         │                   │            │                   │\n",
              "├─────────────────────┼───────────────────┼────────────┼───────────────────┤\n",
              "│ conv1d (\u001b[38;5;33mConv1D\u001b[0m)     │ (\u001b[38;5;45mNone\u001b[0m, \u001b[38;5;34m98\u001b[0m, \u001b[38;5;34m128\u001b[0m)   │     \u001b[38;5;34m38,528\u001b[0m │ embedding[\u001b[38;5;34m0\u001b[0m][\u001b[38;5;34m0\u001b[0m]   │\n",
              "├─────────────────────┼───────────────────┼────────────┼───────────────────┤\n",
              "│ conv1d_1 (\u001b[38;5;33mConv1D\u001b[0m)   │ (\u001b[38;5;45mNone\u001b[0m, \u001b[38;5;34m97\u001b[0m, \u001b[38;5;34m128\u001b[0m)   │     \u001b[38;5;34m51,328\u001b[0m │ embedding[\u001b[38;5;34m0\u001b[0m][\u001b[38;5;34m0\u001b[0m]   │\n",
              "├─────────────────────┼───────────────────┼────────────┼───────────────────┤\n",
              "│ conv1d_2 (\u001b[38;5;33mConv1D\u001b[0m)   │ (\u001b[38;5;45mNone\u001b[0m, \u001b[38;5;34m96\u001b[0m, \u001b[38;5;34m128\u001b[0m)   │     \u001b[38;5;34m64,128\u001b[0m │ embedding[\u001b[38;5;34m0\u001b[0m][\u001b[38;5;34m0\u001b[0m]   │\n",
              "├─────────────────────┼───────────────────┼────────────┼───────────────────┤\n",
              "│ global_max_pooling… │ (\u001b[38;5;45mNone\u001b[0m, \u001b[38;5;34m128\u001b[0m)       │          \u001b[38;5;34m0\u001b[0m │ conv1d[\u001b[38;5;34m0\u001b[0m][\u001b[38;5;34m0\u001b[0m]      │\n",
              "│ (\u001b[38;5;33mGlobalMaxPooling1…\u001b[0m │                   │            │                   │\n",
              "├─────────────────────┼───────────────────┼────────────┼───────────────────┤\n",
              "│ global_max_pooling… │ (\u001b[38;5;45mNone\u001b[0m, \u001b[38;5;34m128\u001b[0m)       │          \u001b[38;5;34m0\u001b[0m │ conv1d_1[\u001b[38;5;34m0\u001b[0m][\u001b[38;5;34m0\u001b[0m]    │\n",
              "│ (\u001b[38;5;33mGlobalMaxPooling1…\u001b[0m │                   │            │                   │\n",
              "├─────────────────────┼───────────────────┼────────────┼───────────────────┤\n",
              "│ global_max_pooling… │ (\u001b[38;5;45mNone\u001b[0m, \u001b[38;5;34m128\u001b[0m)       │          \u001b[38;5;34m0\u001b[0m │ conv1d_2[\u001b[38;5;34m0\u001b[0m][\u001b[38;5;34m0\u001b[0m]    │\n",
              "│ (\u001b[38;5;33mGlobalMaxPooling1…\u001b[0m │                   │            │                   │\n",
              "├─────────────────────┼───────────────────┼────────────┼───────────────────┤\n",
              "│ concatenate         │ (\u001b[38;5;45mNone\u001b[0m, \u001b[38;5;34m384\u001b[0m)       │          \u001b[38;5;34m0\u001b[0m │ global_max_pooli… │\n",
              "│ (\u001b[38;5;33mConcatenate\u001b[0m)       │                   │            │ global_max_pooli… │\n",
              "│                     │                   │            │ global_max_pooli… │\n",
              "├─────────────────────┼───────────────────┼────────────┼───────────────────┤\n",
              "│ dropout (\u001b[38;5;33mDropout\u001b[0m)   │ (\u001b[38;5;45mNone\u001b[0m, \u001b[38;5;34m384\u001b[0m)       │          \u001b[38;5;34m0\u001b[0m │ concatenate[\u001b[38;5;34m0\u001b[0m][\u001b[38;5;34m0\u001b[0m] │\n",
              "├─────────────────────┼───────────────────┼────────────┼───────────────────┤\n",
              "│ dense (\u001b[38;5;33mDense\u001b[0m)       │ (\u001b[38;5;45mNone\u001b[0m, \u001b[38;5;34m3\u001b[0m)         │      \u001b[38;5;34m1,155\u001b[0m │ dropout[\u001b[38;5;34m0\u001b[0m][\u001b[38;5;34m0\u001b[0m]     │\n",
              "└─────────────────────┴───────────────────┴────────────┴───────────────────┘\n"
            ]
          },
          "metadata": {},
          "output_type": "display_data"
        },
        {
          "data": {
            "text/html": [
              "<pre style=\"white-space:pre;overflow-x:auto;line-height:normal;font-family:Menlo,'DejaVu Sans Mono',consolas,'Courier New',monospace\"><span style=\"font-weight: bold\"> Total params: </span><span style=\"color: #00af00; text-decoration-color: #00af00\">1,155,139</span> (4.41 MB)\n",
              "</pre>\n"
            ],
            "text/plain": [
              "\u001b[1m Total params: \u001b[0m\u001b[38;5;34m1,155,139\u001b[0m (4.41 MB)\n"
            ]
          },
          "metadata": {},
          "output_type": "display_data"
        },
        {
          "data": {
            "text/html": [
              "<pre style=\"white-space:pre;overflow-x:auto;line-height:normal;font-family:Menlo,'DejaVu Sans Mono',consolas,'Courier New',monospace\"><span style=\"font-weight: bold\"> Trainable params: </span><span style=\"color: #00af00; text-decoration-color: #00af00\">1,155,139</span> (4.41 MB)\n",
              "</pre>\n"
            ],
            "text/plain": [
              "\u001b[1m Trainable params: \u001b[0m\u001b[38;5;34m1,155,139\u001b[0m (4.41 MB)\n"
            ]
          },
          "metadata": {},
          "output_type": "display_data"
        },
        {
          "data": {
            "text/html": [
              "<pre style=\"white-space:pre;overflow-x:auto;line-height:normal;font-family:Menlo,'DejaVu Sans Mono',consolas,'Courier New',monospace\"><span style=\"font-weight: bold\"> Non-trainable params: </span><span style=\"color: #00af00; text-decoration-color: #00af00\">0</span> (0.00 B)\n",
              "</pre>\n"
            ],
            "text/plain": [
              "\u001b[1m Non-trainable params: \u001b[0m\u001b[38;5;34m0\u001b[0m (0.00 B)\n"
            ]
          },
          "metadata": {},
          "output_type": "display_data"
        }
      ],
      "source": [
        "from tensorflow.keras.models import Model\n",
        "from tensorflow.keras.layers import Input, Embedding, Conv1D, GlobalMaxPooling1D, Dense, Dropout, Concatenate\n",
        "\n",
        "\n",
        "MAX_SEQUENCE_LENGTH = 100\n",
        "MAX_VOCAB_SIZE = 10000\n",
        "embedding_dim = 100\n",
        "\n",
        "input_layer = Input(shape=(MAX_SEQUENCE_LENGTH,))\n",
        "\n",
        "\n",
        "embedding_layer = Embedding(input_dim=MAX_VOCAB_SIZE, output_dim=embedding_dim, input_length=MAX_SEQUENCE_LENGTH)(input_layer)\n",
        "\n",
        "conv_3 = Conv1D(filters=128, kernel_size=3, activation='relu')(embedding_layer)\n",
        "conv_4 = Conv1D(filters=128, kernel_size=4, activation='relu')(embedding_layer)\n",
        "conv_5 = Conv1D(filters=128, kernel_size=5, activation='relu')(embedding_layer)\n",
        "\n",
        "pool_3 = GlobalMaxPooling1D()(conv_3)\n",
        "pool_4 = GlobalMaxPooling1D()(conv_4)\n",
        "pool_5 = GlobalMaxPooling1D()(conv_5)\n",
        "\n",
        "concat = Concatenate()([pool_3, pool_4, pool_5])\n",
        "\n",
        "dropout = Dropout(0.5)(concat)\n",
        "\n",
        "\n",
        "output = Dense(3, activation='softmax')(dropout)\n",
        "\n",
        "model = Model(inputs=input_layer, outputs=output)\n",
        "model.compile(loss='categorical_crossentropy', optimizer='adam', metrics=['accuracy'])\n",
        "\n",
        "model.summary()"
      ]
    },
    {
      "cell_type": "code",
      "execution_count": 19,
      "metadata": {
        "id": "21PX0ABv4orj"
      },
      "outputs": [
        {
          "name": "stdout",
          "output_type": "stream",
          "text": [
            "Epoch 1/5\n",
            "\u001b[1m119/119\u001b[0m \u001b[32m━━━━━━━━━━━━━━━━━━━━\u001b[0m\u001b[37m\u001b[0m \u001b[1m18s\u001b[0m 105ms/step - accuracy: 0.7489 - loss: 0.7513 - val_accuracy: 0.8083 - val_loss: 0.5260\n",
            "Epoch 2/5\n",
            "\u001b[1m119/119\u001b[0m \u001b[32m━━━━━━━━━━━━━━━━━━━━\u001b[0m\u001b[37m\u001b[0m \u001b[1m13s\u001b[0m 105ms/step - accuracy: 0.7865 - loss: 0.5598 - val_accuracy: 0.8521 - val_loss: 0.4191\n",
            "Epoch 3/5\n",
            "\u001b[1m119/119\u001b[0m \u001b[32m━━━━━━━━━━━━━━━━━━━━\u001b[0m\u001b[37m\u001b[0m \u001b[1m11s\u001b[0m 95ms/step - accuracy: 0.8520 - loss: 0.3928 - val_accuracy: 0.8556 - val_loss: 0.3874\n",
            "Epoch 4/5\n",
            "\u001b[1m119/119\u001b[0m \u001b[32m━━━━━━━━━━━━━━━━━━━━\u001b[0m\u001b[37m\u001b[0m \u001b[1m15s\u001b[0m 124ms/step - accuracy: 0.9041 - loss: 0.2704 - val_accuracy: 0.8521 - val_loss: 0.4164\n",
            "Epoch 5/5\n",
            "\u001b[1m119/119\u001b[0m \u001b[32m━━━━━━━━━━━━━━━━━━━━\u001b[0m\u001b[37m\u001b[0m \u001b[1m19s\u001b[0m 161ms/step - accuracy: 0.9391 - loss: 0.1784 - val_accuracy: 0.8414 - val_loss: 0.4673\n"
          ]
        }
      ],
      "source": [
        "#Train the model\n",
        "history = model.fit(X_train, y_train, validation_split=0.1, epochs=5, batch_size=64)\n"
      ]
    },
    {
      "cell_type": "code",
      "execution_count": 20,
      "metadata": {
        "id": "600OA9uy4orj"
      },
      "outputs": [
        {
          "name": "stdout",
          "output_type": "stream",
          "text": [
            "TextCNN Accuracy: 0.8267\n",
            "TextCNN Loss: 0.5352\n",
            "\u001b[1m33/33\u001b[0m \u001b[32m━━━━━━━━━━━━━━━━━━━━\u001b[0m\u001b[37m\u001b[0m \u001b[1m1s\u001b[0m 20ms/step\n",
            "\n",
            "Additional Metrics:\n",
            "Precision: 0.7952\n",
            "Recall: 0.8267\n",
            "F1-Score: 0.8032\n",
            "\n",
            "Classification Report:\n",
            "              precision    recall  f1-score   support\n",
            "\n",
            "           0       0.65      0.59      0.62       167\n",
            "           1       0.38      0.11      0.18        88\n",
            "           2       0.87      0.95      0.91       801\n",
            "\n",
            "    accuracy                           0.83      1056\n",
            "   macro avg       0.63      0.55      0.57      1056\n",
            "weighted avg       0.80      0.83      0.80      1056\n",
            "\n"
          ]
        },
        {
          "data": {
            "image/png": "[encoded data removed]",
            "text/plain": [
              "<Figure size 800x600 with 2 Axes>"
            ]
          },
          "metadata": {},
          "output_type": "display_data"
        }
      ],
      "source": [
        "import numpy as np\n",
        "from sklearn.metrics import confusion_matrix, classification_report, precision_score, recall_score, f1_score\n",
        "import seaborn as sns\n",
        "import matplotlib.pyplot as plt\n",
        "\n",
        "loss, acc = model.evaluate(X_test, y_test, verbose=0)\n",
        "print(f\"TextCNN Accuracy: {acc:.4f}\")\n",
        "print(f\"TextCNN Loss: {loss:.4f}\")\n",
        "\n",
        "y_pred_probs = model.predict(X_test)\n",
        "y_pred = np.argmax(y_pred_probs, axis=1)\n",
        "\n",
        "\n",
        "y_true = np.argmax(y_test, axis=1)\n",
        "\n",
        "\n",
        "precision = precision_score(y_true, y_pred, average='weighted')\n",
        "recall = recall_score(y_true, y_pred, average='weighted')\n",
        "f1 = f1_score(y_true, y_pred, average='weighted')\n",
        "\n",
        "print(\"\\nAdditional Metrics:\")\n",
        "print(f\"Precision: {precision:.4f}\")\n",
        "print(f\"Recall: {recall:.4f}\")\n",
        "print(f\"F1-Score: {f1:.4f}\")\n",
        "\n",
        "print(\"\\nClassification Report:\")\n",
        "print(classification_report(y_true, y_pred))\n",
        "\n",
        "cm = confusion_matrix(y_true, y_pred)\n",
        "\n",
        "plt.figure(figsize=(8, 6))\n",
        "sns.heatmap(cm, annot=True, fmt='d', cmap='Blues', xticklabels=['Class 0', 'Class 1', 'Class 2'],\n",
        "            yticklabels=['Class 0', 'Class 1', 'Class 2'])\n",
        "plt.ylabel('Actual')\n",
        "plt.xlabel('Predicted')\n",
        "plt.title('Confusion Matrix')\n",
        "plt.show()"
      ]
    },
    {
      "cell_type": "markdown",
      "metadata": {
        "id": "cnYncHAl4ork"
      },
      "source": [
        "TextCNN shows good overall performance with accuracy 0.82 and weighted F1-score 0.79, reflecting a generally consistent balance between precision (0.78) and recall (0.82). The classification report, however, shows that performance is quite different across classes. Class 2 is notable with high metrics—precision (0.86), recall (0.95), and F1-score (0.90)—implying the model performs extremely well in detecting and correctly classifying instances from this class. Class 1, however, exhibits strong weakness with low precision (0.36), very low recall (0.09), and resultant F1-score of merely 0.15, which represents the inability of the model to classify true occurrences of this class. Class 0 is moderately weak with lower balanced precision (0.65) and recall (0.56), with the resultant F1-score of 0.60. The macro averages—precision (0.63), recall (0.53), and F1-score (0.55)—show the disparity in class-wise performance. The relatively high loss value of 0.5346 also suggests that while the model is overall good, particularly for Class 2, there are some points for improvement, most importantly in enhancing recall for the poorly performing classes like Class 1, potentially through class rebalancing, improved feature representation, or model tuning."
      ]
    },
    {
      "cell_type": "code",
      "execution_count": null,
      "metadata": {
        "id": "GnPW1x2y4orl"
      },
      "outputs": [
        {
          "name": "stdout",
          "output_type": "stream",
          "text": [
            "Logistic Regression Classification Report:\n",
            "              precision    recall  f1-score   support\n",
            "\n",
            "    Negative       0.72      0.44      0.54       319\n",
            "     Neutral       0.36      0.03      0.05       168\n",
            "    Positive       0.84      0.98      0.90      1625\n",
            "\n",
            "    accuracy                           0.82      2112\n",
            "   macro avg       0.64      0.48      0.50      2112\n",
            "weighted avg       0.78      0.82      0.78      2112\n",
            "\n"
          ]
        },
        {
          "data": {
            "image/png": "[encoded data removed]",
            "text/plain": [
              "<Figure size 800x600 with 2 Axes>"
            ]
          },
          "metadata": {},
          "output_type": "display_data"
        }
      ],
      "source": [
        "from sklearn.model_selection import train_test_split\n",
        "from sklearn.linear_model import LogisticRegression\n",
        "from sklearn.metrics import classification_report, confusion_matrix\n",
        "from sklearn.preprocessing import LabelEncoder\n",
        "import seaborn as sns\n",
        "import matplotlib.pyplot as plt\n",
        "\n",
        "label_encoder = LabelEncoder()\n",
        "df['Sentiment_Encoded'] = label_encoder.fit_transform(df['Sentiment'])\n",
        "\n",
        "# Train/test split\n",
        "X_tfidf_train, X_tfidf_test, y_tfidf_train, y_tfidf_test = train_test_split(\n",
        "    tfidf_df, df['Sentiment_Encoded'], test_size=0.2, random_state=42\n",
        ")\n",
        "\n",
        "\n",
        "logreg = LogisticRegression(max_iter=1000)\n",
        "logreg.fit(X_tfidf_train, y_tfidf_train)\n",
        "\n",
        "\n",
        "y_pred_logreg = logreg.predict(X_tfidf_test)\n",
        "\n",
        "\n",
        "print(\"Logistic Regression Classification Report:\")\n",
        "print(classification_report(y_tfidf_test, y_pred_logreg, target_names=label_encoder.classes_))\n",
        "\n",
        "\n",
        "cm = confusion_matrix(y_tfidf_test, y_pred_logreg)\n",
        "plt.figure(figsize=(8, 6))\n",
        "sns.heatmap(cm, annot=True, fmt='d', cmap='Blues',\n",
        "            xticklabels=label_encoder.classes_,\n",
        "            yticklabels=label_encoder.classes_)\n",
        "plt.xlabel('Predicted')\n",
        "plt.ylabel('Actual')\n",
        "plt.title('Confusion Matrix - Logistic Regression')\n",
        "plt.show()\n"
      ]
    },
    {
      "cell_type": "markdown",
      "metadata": {
        "id": "1yoytuwR4orm"
      },
      "source": [
        "The logistic regression model demonstrates excellent performance for the majority class (`Positive`), with high precision (0.84) and recall (0.98), reflecting its ability to accurately identify and predict this majority class, which is comprised of 1,625 samples. The model's performance significantly deteriorates for the minority classes. For `Negative`, the model possesses moderate precision (0.72) but low recall (0.43), reflecting a high false negative rate. The `Neutral` class performs the poorest, with ghastly accuracy (0.31), recall (0.02), and F1-score (0.04), likely due to its minimal size of only 168 cases compared to the dominating number of `Positive`. The macro average F1-score (0.49) and weighted average F1-score (0.78) are measures that indicate the overall bad performance of the model on all classes and hide these issues by assigning significant weight to the majority class. This imbalance reflects the need for techniques such as resampling, class weighting, or employing algorithms more suited to imbalanced data to improve the model's ability to handle minority classes better."
      ]
    },
    {
      "cell_type": "markdown",
      "metadata": {
        "id": "1SfceTi-462c"
      },
      "source": [
        "# Random Forest"
      ]
    },
    {
      "cell_type": "code",
      "execution_count": 22,
      "metadata": {
        "id": "DDLqYj0H4_ha"
      },
      "outputs": [
        {
          "name": "stdout",
          "output_type": "stream",
          "text": [
            "Model Evaluation:\n",
            "Accuracy: 0.8110795454545454\n",
            "\n",
            "Classification Report:\n",
            "              precision    recall  f1-score   support\n",
            "\n",
            "    Negative       0.80      0.28      0.42       313\n",
            "     Neutral       0.80      0.05      0.09       170\n",
            "    Positive       0.81      0.99      0.89      1629\n",
            "\n",
            "    accuracy                           0.81      2112\n",
            "   macro avg       0.80      0.44      0.47      2112\n",
            "weighted avg       0.81      0.81      0.76      2112\n",
            "\n",
            "\n",
            "Confusion Matrix:\n",
            "[[  88    1  224]\n",
            " [  11    8  151]\n",
            " [  11    1 1617]]\n"
          ]
        }
      ],
      "source": [
        "from sklearn.model_selection import train_test_split\n",
        "from sklearn.ensemble import RandomForestClassifier\n",
        "from sklearn.metrics import classification_report, confusion_matrix, accuracy_score\n",
        "\n",
        "\n",
        "x = tfidf_df\n",
        "y = df[\"Sentiment\"]\n",
        "\n",
        "\n",
        "x_train, x_test, y_train, y_test = train_test_split(x,y, test_size= 0.2, random_state=42, stratify=y)\n",
        "\n",
        "\n",
        "rf_model = RandomForestClassifier (n_estimators = 100, random_state = 42, n_jobs = -1)\n",
        "rf_model.fit(x_train, y_train)\n",
        "\n",
        "\n",
        "y_pred = rf_model.predict(x_test)\n",
        "\n",
        "\n",
        "print(\"Model Evaluation:\")\n",
        "print(\"Accuracy:\", accuracy_score(y_test, y_pred))\n",
        "print(\"\\nClassification Report:\")\n",
        "print(classification_report(y_test, y_pred))\n",
        "print(\"\\nConfusion Matrix:\")\n",
        "print(confusion_matrix(y_test, y_pred))\n"
      ]
    },
    {
      "cell_type": "code",
      "execution_count": 23,
      "metadata": {
        "id": "kElYgXrk5Ga1"
      },
      "outputs": [
        {
          "data": {
            "image/png": "[encoded data removed]",
            "text/plain": [
              "<Figure size 1000x700 with 2 Axes>"
            ]
          },
          "metadata": {},
          "output_type": "display_data"
        }
      ],
      "source": [
        "# confusion matrix\n",
        "cm = confusion_matrix ( y_test, y_pred, labels= ['Negative', 'Neutral', 'Positive'])\n",
        "plt.figure (figsize = (10, 7))\n",
        "sns.heatmap (cm, annot = True, fmt='d', cmap = 'Blues', xticklabels=['Negative', 'Neutral', 'Positive'],\n",
        "              yticklabels=['Negative', 'Neutral', 'Positive'])\n",
        "plt.title('Confusion Matrix Random Forest')\n",
        "plt.xlabel('Predicted')\n",
        "plt.ylabel('True')\n",
        "plt.show()\n"
      ]
    },
    {
      "cell_type": "code",
      "execution_count": 24,
      "metadata": {
        "id": "ukQYxphb5LNK"
      },
      "outputs": [
        {
          "data": {
            "image/png": "[encoded data removed]",
            "text/plain": [
              "<Figure size 1000x600 with 1 Axes>"
            ]
          },
          "metadata": {},
          "output_type": "display_data"
        }
      ],
      "source": [
        "feat_importance = rf_model.feature_importances_\n",
        "\n",
        "\n",
        "top_n = 20\n",
        "top_indices = np.argsort(feat_importance)[-top_n:]\n",
        "plt.figure(figsize=(10, 6))  \n",
        "plt.title('Top 20 Most Important Features')\n",
        "plt.barh(range(len(top_indices)),\n",
        "         feat_importance[top_indices],\n",
        "         color='cornflowerblue',  \n",
        "         align='center')\n",
        "\n",
        "try:\n",
        "    words = vectorizer.get_feature_names_out()\n",
        "except:\n",
        "   \n",
        "    words = vectorizer.get_feature_names()\n",
        " \n",
        "\n",
        "\n",
        "plt.yticks(range(len(top_indices)),\n",
        "          [words[i] for i in top_indices])\n",
        "\n",
        "plt.xlabel('How Important Each Feature Is')\n",
        "\n",
        "plt.tight_layout()  \n",
        "plt.show()\n",
        "\n"
      ]
    },
    {
      "cell_type": "code",
      "execution_count": null,
      "metadata": {
        "id": "osmdxW-25MeO"
      },
      "outputs": [],
      "source": []
    },
    {
      "cell_type": "markdown",
      "metadata": {
        "id": "288a3KLe5SXc"
      },
      "source": [
        "# Analysis of the Random forest model\n",
        "- The model achieved an everall accuracy of 75.7% on the test set, which is decent.\n",
        "- Accuracy alone does not tell the full story given the class imbalance in the data.\n",
        "\n",
        "### Class-Specific Performance\n",
        "##### Positive Sentiment\n",
        "- Very good performance: 98% recall and 85% F1-score\n",
        "- High precision (75%): When the model predicts Positive, it's usually right\n",
        "- Dominates predictions: 1031 out of 1049 positive cases correctly identified\n",
        "\n",
        "##### Negative Sentiment\n",
        "- Moderate performance: 52% F1-score\n",
        "- High precision (79%): Negative predictions are reliable\n",
        "- Low recall (38%): Misses many actual negative cases (193 out of 313)\n",
        "- Neutral Sentiment\n",
        "\n",
        "##### Poor performance: Only 10% F1-score\n",
        "- Very low recall (5%): Fails to identify most neutral cases (only 9 out of 170)\n",
        "- Moderate precision (64%): But with very few predictions made\n",
        "\n",
        "### Confusion Matrix Insights\n",
        "- The model strongly favors Positive predictions (1031 correct vs only 190+145 incorrect)\n",
        "- Neutral class is frequently mislabeled as Positive (145 instances)\n",
        "- Negative class is frequently mislabeled as Positive (190 instances)\n",
        "- Very few instances are labeled as Neutral (only 14 total predictions)\n",
        "\n",
        "### Feature Importance\n",
        "- The 20 most important features (words) were graphed, showing which words held the highest predictive power. This helps to understand what the model is making decisions based on.\n",
        "\n",
        "### Recommendations for Improvement\n",
        "1. Address Class Imbalance:\n",
        "The split appears to be strongly skewed towards Positive sentiment (1049 test cases vs 313 Negative and 170 Neutral).\n",
        "Consider techniques like SMOTE, class weights, or stratified sampling\n",
        "\n",
        "2. Improve Neutral Detection:\n",
        "The model effectively ignores the Neutral class\n",
        "Can perhaps need more Neutral examples or feature engineering to successfully detect neutrality\n",
        "\n",
        "3. Threshold Adjustment:\n",
        "Can possibly experiment with prediction thresholds to increase recall for Negative/Neutral classes\n",
        "\n",
        "4. Alternative Models:\n",
        "Experiment models that might be better suited to handle imbalanced data (e.g., XGBoost with class weights)\n",
        "\n",
        "5. Feature Engineering:\n",
        "Explore if more features (apart from TF-IDF) would be capable of distinguishing Neutral cases\n",
        "Experiment n-grams or sentiment lexicon features\n",
        "\n",
        "6. Error Analysis:\n",
        "Manually verify cases where Negative/Neutral were predicted as Positive to search for patterns\n",
        "\n",
        "The model performs well on Positive sentiment detection but poorly on the minority classes, particularly Neutral. This might be acceptable if Positive detection is primarily utilized but not acceptable if all three classes are of equal importance."
      ]
    },
    {
      "cell_type": "code",
      "execution_count": null,
      "metadata": {
        "id": "mPotNzNp5TQX"
      },
      "outputs": [],
      "source": []
    }
  ],
  "metadata": {
    "colab": {
      "provenance": []
    },
    "kernelspec": {
      "display_name": "base",
      "language": "python",
      "name": "python3"
    },
    "language_info": {
      "codemirror_mode": {
        "name": "ipython",
        "version": 3
      },
      "file_extension": ".py",
      "mimetype": "text/x-python",
      "name": "python",
      "nbconvert_exporter": "python",
      "pygments_lexer": "ipython3",
      "version": "3.11.7"
    }
  },
  "nbformat": 4,
  "nbformat_minor": 0
}
